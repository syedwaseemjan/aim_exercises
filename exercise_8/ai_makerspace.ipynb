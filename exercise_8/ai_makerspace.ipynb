{
 "cells": [
  {
   "cell_type": "markdown",
   "metadata": {},
   "source": [
    "# Evaluation of RAG Using Ragas"
   ]
  },
  {
   "cell_type": "markdown",
   "metadata": {},
   "source": [
    "# Task 1: Installing Required Libraries"
   ]
  },
  {
   "cell_type": "code",
   "execution_count": 1,
   "metadata": {
    "vscode": {
     "languageId": "bat"
    }
   },
   "outputs": [
    {
     "name": "stdout",
     "output_type": "stream",
     "text": [
      "Note: you may need to restart the kernel to use updated packages.\n"
     ]
    }
   ],
   "source": [
    "pip install -U -q langchain langchain-openai langchain_core langchain-community langchainhub openai"
   ]
  },
  {
   "cell_type": "code",
   "execution_count": 2,
   "metadata": {
    "vscode": {
     "languageId": "bat"
    }
   },
   "outputs": [
    {
     "name": "stdout",
     "output_type": "stream",
     "text": [
      "Note: you may need to restart the kernel to use updated packages.\n"
     ]
    }
   ],
   "source": [
    "pip install -qU ragas nest-asyncio"
   ]
  },
  {
   "cell_type": "code",
   "execution_count": 3,
   "metadata": {
    "vscode": {
     "languageId": "bat"
    }
   },
   "outputs": [
    {
     "name": "stdout",
     "output_type": "stream",
     "text": [
      "Note: you may need to restart the kernel to use updated packages.\n"
     ]
    }
   ],
   "source": [
    "pip install -qU qdrant-client pymupdf pandas"
   ]
  },
  {
   "cell_type": "markdown",
   "metadata": {},
   "source": [
    "# Task 2: Set Environment Variables"
   ]
  },
  {
   "cell_type": "code",
   "execution_count": 4,
   "metadata": {},
   "outputs": [],
   "source": [
    "import os\n",
    "import openai\n",
    "from getpass import getpass\n",
    "\n",
    "openai.api_key = getpass(\"Please provide your OpenAI Key: \")\n",
    "os.environ[\"OPENAI_API_KEY\"] = openai.api_key\n",
    "os.environ[\"PYTHONTRACEMALLOC\"] = \"1\""
   ]
  },
  {
   "cell_type": "markdown",
   "metadata": {},
   "source": [
    "# Task 3: Creating a Simple RAG Pipeline with LangChain v0.1.0"
   ]
  },
  {
   "cell_type": "markdown",
   "metadata": {},
   "source": [
    "## Building our RAG pipeline"
   ]
  },
  {
   "cell_type": "markdown",
   "metadata": {},
   "source": [
    "### Creating an Index"
   ]
  },
  {
   "cell_type": "markdown",
   "metadata": {},
   "source": [
    "### Loading Data"
   ]
  },
  {
   "cell_type": "code",
   "execution_count": 5,
   "metadata": {},
   "outputs": [],
   "source": [
    "from langchain_community.document_loaders import PyMuPDFLoader\n",
    "\n",
    "loader = PyMuPDFLoader(\n",
    "    \"https://d1lamhf6l6yk6d.cloudfront.net/uploads/2021/08/The-pmarca-Blog-Archives.pdf\",\n",
    ")\n",
    "\n",
    "documents = loader.load()"
   ]
  },
  {
   "cell_type": "code",
   "execution_count": 6,
   "metadata": {},
   "outputs": [
    {
     "data": {
      "text/plain": [
       "{'source': 'https://d1lamhf6l6yk6d.cloudfront.net/uploads/2021/08/The-pmarca-Blog-Archives.pdf',\n",
       " 'file_path': 'https://d1lamhf6l6yk6d.cloudfront.net/uploads/2021/08/The-pmarca-Blog-Archives.pdf',\n",
       " 'page': 0,\n",
       " 'total_pages': 195,\n",
       " 'format': 'PDF 1.3',\n",
       " 'title': 'The Pmarca Blog Archives',\n",
       " 'author': '',\n",
       " 'subject': '',\n",
       " 'keywords': '',\n",
       " 'creator': '',\n",
       " 'producer': 'Mac OS X 10.10 Quartz PDFContext',\n",
       " 'creationDate': \"D:20150110020418Z00'00'\",\n",
       " 'modDate': \"D:20150110020418Z00'00'\",\n",
       " 'trapped': ''}"
      ]
     },
     "execution_count": 6,
     "metadata": {},
     "output_type": "execute_result"
    }
   ],
   "source": [
    "documents[0].metadata"
   ]
  },
  {
   "cell_type": "markdown",
   "metadata": {},
   "source": [
    "### Transforming Data"
   ]
  },
  {
   "cell_type": "code",
   "execution_count": 7,
   "metadata": {},
   "outputs": [],
   "source": [
    "from langchain.text_splitter import RecursiveCharacterTextSplitter\n",
    "\n",
    "text_splitter = RecursiveCharacterTextSplitter(\n",
    "    chunk_size = 200,\n",
    "    chunk_overlap = 50\n",
    ")\n",
    "\n",
    "documents = text_splitter.split_documents(documents)"
   ]
  },
  {
   "cell_type": "code",
   "execution_count": 8,
   "metadata": {},
   "outputs": [
    {
     "data": {
      "text/plain": [
       "1864"
      ]
     },
     "execution_count": 8,
     "metadata": {},
     "output_type": "execute_result"
    }
   ],
   "source": [
    "len(documents)"
   ]
  },
  {
   "cell_type": "markdown",
   "metadata": {},
   "source": [
    "### Loading OpenAI Embeddings Model"
   ]
  },
  {
   "cell_type": "code",
   "execution_count": 9,
   "metadata": {},
   "outputs": [],
   "source": [
    "from langchain_openai import OpenAIEmbeddings\n",
    "\n",
    "embeddings = OpenAIEmbeddings(\n",
    "    model=\"text-embedding-ada-002\"\n",
    ")"
   ]
  },
  {
   "cell_type": "markdown",
   "metadata": {},
   "source": [
    "### Creating a QDrant VectorStore"
   ]
  },
  {
   "cell_type": "code",
   "execution_count": 10,
   "metadata": {},
   "outputs": [],
   "source": [
    "from langchain_community.vectorstores import Qdrant\n",
    "\n",
    "qdrant_vector_store = Qdrant.from_documents(\n",
    "    documents,\n",
    "    embeddings,\n",
    "    location=\":memory:\",\n",
    "    collection_name=\"PMarca Blogs\",\n",
    ")"
   ]
  },
  {
   "cell_type": "markdown",
   "metadata": {},
   "source": [
    "### ❓ Question #1:\n",
    "List out a few of the techniques that Qdrant uses that make it performant.\n",
    "\n",
    "Qdrant uses many techniques to reduce search latency, including caching disk data in RAM and preloading data from disk to RAM. As a result, the Qdrant process might use more memory than the minimum required to run the service. \n",
    "\n",
    "Approximate Nearest Neighbor Search (ANNS): Qdrant utilizes approximate nearest neighbor search algorithms, such as HNSW (Hierarchical Navigable Small World) graphs, to quickly find approximate closest vectors. This significantly reduces search time compared to other similar methods.\n",
    "\n",
    "Indexing Techniques: Qdrant uses advanced indexing techniques, including quantization and clustering, to organize and partition the vector space. This improves search efficiency by narrowing down the search space."
   ]
  },
  {
   "cell_type": "markdown",
   "metadata": {},
   "source": [
    "## Creating a Retriever"
   ]
  },
  {
   "cell_type": "code",
   "execution_count": 11,
   "metadata": {},
   "outputs": [],
   "source": [
    "retriever = qdrant_vector_store.as_retriever()\n"
   ]
  },
  {
   "cell_type": "markdown",
   "metadata": {},
   "source": [
    "## Testing our Retriever"
   ]
  },
  {
   "cell_type": "code",
   "execution_count": 12,
   "metadata": {},
   "outputs": [
    {
     "name": "stdout",
     "output_type": "stream",
     "text": [
      ">>>>>>>>>>>>>>>>>>>>>>>>>>>>>\n",
      "page_content='the existing order — and make sure that those forces of change\n",
      "have a reasonable chance at succeeding.\n",
      "Second rule of thumb:\n",
      "Once you have picked an industry, get right to the center of it' metadata={'source': 'https://d1lamhf6l6yk6d.cloudfront.net/uploads/2021/08/The-pmarca-Blog-Archives.pdf', 'file_path': 'https://d1lamhf6l6yk6d.cloudfront.net/uploads/2021/08/The-pmarca-Blog-Archives.pdf', 'page': 125, 'total_pages': 195, 'format': 'PDF 1.3', 'title': 'The Pmarca Blog Archives', 'author': '', 'subject': '', 'keywords': '', 'creator': '', 'producer': 'Mac OS X 10.10 Quartz PDFContext', 'creationDate': \"D:20150110020418Z00'00'\", 'modDate': \"D:20150110020418Z00'00'\", 'trapped': '', '_id': 'ba4cae00ee58482ba45c7ad82d236557', '_collection_name': 'PMarca Blogs'}\n",
      ">>>>>>>>>>>>>>>>>>>>>>>>>>>>>\n",
      "page_content='Third rule:\n",
      "In a rapidly changing Held like technology, the best place to\n",
      "get experience when you’re starting out is in younger, high-\n",
      "growth companies.' metadata={'source': 'https://d1lamhf6l6yk6d.cloudfront.net/uploads/2021/08/The-pmarca-Blog-Archives.pdf', 'file_path': 'https://d1lamhf6l6yk6d.cloudfront.net/uploads/2021/08/The-pmarca-Blog-Archives.pdf', 'page': 127, 'total_pages': 195, 'format': 'PDF 1.3', 'title': 'The Pmarca Blog Archives', 'author': '', 'subject': '', 'keywords': '', 'creator': '', 'producer': 'Mac OS X 10.10 Quartz PDFContext', 'creationDate': \"D:20150110020418Z00'00'\", 'modDate': \"D:20150110020418Z00'00'\", 'trapped': '', '_id': '39646757b3f740fa9ffa0e4fd8508a72', '_collection_name': 'PMarca Blogs'}\n",
      ">>>>>>>>>>>>>>>>>>>>>>>>>>>>>\n",
      "page_content='where the great opportunities can be found.\n",
      "Apply this rule when selecting which company to go to. Go to\n",
      "the company where all the action is happening.' metadata={'source': 'https://d1lamhf6l6yk6d.cloudfront.net/uploads/2021/08/The-pmarca-Blog-Archives.pdf', 'file_path': 'https://d1lamhf6l6yk6d.cloudfront.net/uploads/2021/08/The-pmarca-Blog-Archives.pdf', 'page': 125, 'total_pages': 195, 'format': 'PDF 1.3', 'title': 'The Pmarca Blog Archives', 'author': '', 'subject': '', 'keywords': '', 'creator': '', 'producer': 'Mac OS X 10.10 Quartz PDFContext', 'creationDate': \"D:20150110020418Z00'00'\", 'modDate': \"D:20150110020418Z00'00'\", 'trapped': '', '_id': '5e59cb94a0284541a39dec3fe4d912ed', '_collection_name': 'PMarca Blogs'}\n",
      ">>>>>>>>>>>>>>>>>>>>>>>>>>>>>\n",
      "page_content='growth companies.\n",
      "(This is not necessarily true in older and more established\n",
      "industries, but those aren’t the industries we’re talking about.)' metadata={'source': 'https://d1lamhf6l6yk6d.cloudfront.net/uploads/2021/08/The-pmarca-Blog-Archives.pdf', 'file_path': 'https://d1lamhf6l6yk6d.cloudfront.net/uploads/2021/08/The-pmarca-Blog-Archives.pdf', 'page': 127, 'total_pages': 195, 'format': 'PDF 1.3', 'title': 'The Pmarca Blog Archives', 'author': '', 'subject': '', 'keywords': '', 'creator': '', 'producer': 'Mac OS X 10.10 Quartz PDFContext', 'creationDate': \"D:20150110020418Z00'00'\", 'modDate': \"D:20150110020418Z00'00'\", 'trapped': '', '_id': '50001b59f8f747709c2886cb91d0399b', '_collection_name': 'PMarca Blogs'}\n"
     ]
    }
   ],
   "source": [
    "retrieved_documents = retriever.invoke(\"What is a rule of thumb for selecting an industry to invest in?\")\n",
    "for doc in retrieved_documents:\n",
    "  print('>>>>>>>>>>>>>>>>>>>>>>>>>>>>>')\n",
    "  print(doc)"
   ]
  },
  {
   "cell_type": "markdown",
   "metadata": {},
   "source": [
    "## Creating a RAG Chain"
   ]
  },
  {
   "cell_type": "markdown",
   "metadata": {},
   "source": [
    "## Creating a Prompt Template"
   ]
  },
  {
   "cell_type": "code",
   "execution_count": 13,
   "metadata": {},
   "outputs": [],
   "source": [
    "from langchain import hub\n",
    "\n",
    "retrieval_qa_prompt = hub.pull(\"langchain-ai/retrieval-qa-chat\")"
   ]
  },
  {
   "cell_type": "code",
   "execution_count": 14,
   "metadata": {},
   "outputs": [
    {
     "name": "stdout",
     "output_type": "stream",
     "text": [
      "Answer any use questions based solely on the context below:\n",
      "\n",
      "<context>\n",
      "{context}\n",
      "</context>\n"
     ]
    }
   ],
   "source": [
    "print(retrieval_qa_prompt.messages[0].prompt.template)\n"
   ]
  },
  {
   "cell_type": "code",
   "execution_count": 15,
   "metadata": {},
   "outputs": [],
   "source": [
    "from langchain.prompts import ChatPromptTemplate\n",
    "\n",
    "template = \"\"\"Answer the question based only on the following context. If you cannot answer the question with the context, please respond with 'I don't know':\n",
    "\n",
    "Context:\n",
    "{context}\n",
    "\n",
    "Question:\n",
    "{question}\n",
    "\"\"\"\n",
    "\n",
    "prompt = ChatPromptTemplate.from_template(template)\n",
    "     "
   ]
  },
  {
   "cell_type": "markdown",
   "metadata": {},
   "source": [
    "# Setting Up our Basic QA Chain"
   ]
  },
  {
   "cell_type": "code",
   "execution_count": 16,
   "metadata": {},
   "outputs": [],
   "source": [
    "from operator import itemgetter\n",
    "\n",
    "from langchain_openai import ChatOpenAI\n",
    "from langchain_core.output_parsers import StrOutputParser\n",
    "from langchain_core.runnables import RunnablePassthrough\n",
    "\n",
    "primary_qa_llm = ChatOpenAI(model_name=\"gpt-3.5-turbo\", temperature=0)\n",
    "\n",
    "retrieval_augmented_qa_chain = (\n",
    "    # INVOKE CHAIN WITH: {\"question\" : \"<>\"}\n",
    "    # \"question\" : populated by getting the value of the \"question\" key\n",
    "    # \"context\"  : populated by getting the value of the \"question\" key and chaining it into the base_retriever\n",
    "    {\"context\": itemgetter(\"question\") | retriever, \"question\": itemgetter(\"question\")}\n",
    "    # \"context\"  : is assigned to a RunnablePassthrough object (will not be called or considered in the next step)\n",
    "    #              by getting the value of the \"context\" key from the previous step\n",
    "    | RunnablePassthrough.assign(context=itemgetter(\"context\"))\n",
    "    # \"response\" : the \"context\" and \"question\" values are used to format our prompt object and then piped\n",
    "    #              into the LLM and stored in a key called \"response\"\n",
    "    # \"context\"  : populated by getting the value of the \"context\" key from the previous step\n",
    "    | {\"response\": prompt | primary_qa_llm, \"context\": itemgetter(\"context\")}\n",
    ")"
   ]
  },
  {
   "cell_type": "markdown",
   "metadata": {},
   "source": [
    "# 🏗️ Activity #1:\n",
    "Describe the pipeline shown above in simple terms. You can include a diagram if desired.\n",
    "\n",
    "\n",
    "The provided pipeline is a structured process that leverages an LLM (Large Language Model) to perform a retrieval-augmented question-answering task. Here's a breakdown of each step in simpler terms:\n",
    "\n",
    "1. Initialize LLM:\n",
    "\n",
    "    - primary_qa_llm is a ChatOpenAI instance, set to use the \"gpt-3.5-turbo\" model with a specific seed for randomness.\n",
    "\n",
    "2. Setup Pipeline:\n",
    "\n",
    "    - The pipeline is a sequence of steps that take in a user's question and process it to generate an answer using both retrieval and the LLM.\n",
    "\n",
    "3. Step-by-Step Explanation:\n",
    "\n",
    "    Step 1:\n",
    "\n",
    "        - The input {\"question\" : \"<<SOME USER QUESTION>>\"} is received.\n",
    "        - The \"context\" is populated by retrieving relevant information based on the \"question\".\n",
    "        - The itemgetter(\"question\") | retriever part indicates that the value of \"question\" is passed to a retriever to fetch the context.\n",
    "Step 2:\n",
    "\n",
    "        - The \"context\" obtained from the previous step is passed through a RunnablePassthrough, which simply passes the value along without modifying it.\n",
    "\n",
    "Step 3:\n",
    "\n",
    "        - The final step formats the input (context and question) into a prompt for the LLM.\n",
    "        - The LLM generates a response based on this prompt, and the response is stored in a key called \"response\"."
   ]
  },
  {
   "cell_type": "code",
   "execution_count": 17,
   "metadata": {},
   "outputs": [
    {
     "data": {
      "text/plain": [
       "'The Moby Dick theory of big companies is a concept that involves comparing big companies to the character Captain Ahab from the novel Moby Dick. It suggests that companies should not become obsessed or consumed by pursuing a single goal or target, similar to how Captain Ahab was consumed by his obsession with hunting the white whale. Instead, companies should engage in various discussions and activities with big companies but avoid becoming fixated on one particular aspect.'"
      ]
     },
     "execution_count": 17,
     "metadata": {},
     "output_type": "execute_result"
    }
   ],
   "source": [
    "response = retrieval_augmented_qa_chain.invoke({\"question\": \"What is the The Moby Dick theory of big companies, explain it to me?\"})\n",
    "response[\"response\"].content"
   ]
  },
  {
   "cell_type": "code",
   "execution_count": 18,
   "metadata": {},
   "outputs": [
    {
     "name": "stdout",
     "output_type": "stream",
     "text": [
      "Context:\n",
      "page_content='Part 5: The Moby Dick theory of big companies\n",
      "37' metadata={'source': 'https://d1lamhf6l6yk6d.cloudfront.net/uploads/2021/08/The-pmarca-Blog-Archives.pdf', 'file_path': 'https://d1lamhf6l6yk6d.cloudfront.net/uploads/2021/08/The-pmarca-Blog-Archives.pdf', 'page': 41, 'total_pages': 195, 'format': 'PDF 1.3', 'title': 'The Pmarca Blog Archives', 'author': '', 'subject': '', 'keywords': '', 'creator': '', 'producer': 'Mac OS X 10.10 Quartz PDFContext', 'creationDate': \"D:20150110020418Z00'00'\", 'modDate': \"D:20150110020418Z00'00'\", 'trapped': '', '_id': 'd91bb9c85121408697385d1905ca8ecb', '_collection_name': 'PMarca Blogs'}\n",
      "----\n",
      "Context:\n",
      "page_content='Part 5: The Moby Dick theory of big\n",
      "companies\n",
      "“There she blows,” was sung out from the mast-head.\n",
      "“Where away?” demanded the captain.\n",
      "“Three points oE the lee bow, sir.”' metadata={'source': 'https://d1lamhf6l6yk6d.cloudfront.net/uploads/2021/08/The-pmarca-Blog-Archives.pdf', 'file_path': 'https://d1lamhf6l6yk6d.cloudfront.net/uploads/2021/08/The-pmarca-Blog-Archives.pdf', 'page': 37, 'total_pages': 195, 'format': 'PDF 1.3', 'title': 'The Pmarca Blog Archives', 'author': '', 'subject': '', 'keywords': '', 'creator': '', 'producer': 'Mac OS X 10.10 Quartz PDFContext', 'creationDate': \"D:20150110020418Z00'00'\", 'modDate': \"D:20150110020418Z00'00'\", 'trapped': '', '_id': '26a3ea9efea0479da1b62feeee5e90f9', '_collection_name': 'PMarca Blogs'}\n",
      "----\n",
      "Context:\n",
      "page_content='Don’t turn into Captain Ahab.\n",
      "By all means, talk to big companies about all kinds of things, but\n",
      "Part 5: The Moby Dick theory of big companies\n",
      "39' metadata={'source': 'https://d1lamhf6l6yk6d.cloudfront.net/uploads/2021/08/The-pmarca-Blog-Archives.pdf', 'file_path': 'https://d1lamhf6l6yk6d.cloudfront.net/uploads/2021/08/The-pmarca-Blog-Archives.pdf', 'page': 43, 'total_pages': 195, 'format': 'PDF 1.3', 'title': 'The Pmarca Blog Archives', 'author': '', 'subject': '', 'keywords': '', 'creator': '', 'producer': 'Mac OS X 10.10 Quartz PDFContext', 'creationDate': \"D:20150110020418Z00'00'\", 'modDate': \"D:20150110020418Z00'00'\", 'trapped': '', '_id': '2385d8af303a479b8b71d64ed260673c', '_collection_name': 'PMarca Blogs'}\n",
      "----\n",
      "Context:\n",
      "page_content='a big company.\n",
      "The consensus building process, trade-oWs, quids pro quo, poli-\n",
      "tics, rivalries, arguments, mentorships, revenge for past wrongs,\n",
      "Part 5: The Moby Dick theory of big companies\n",
      "35' metadata={'source': 'https://d1lamhf6l6yk6d.cloudfront.net/uploads/2021/08/The-pmarca-Blog-Archives.pdf', 'file_path': 'https://d1lamhf6l6yk6d.cloudfront.net/uploads/2021/08/The-pmarca-Blog-Archives.pdf', 'page': 39, 'total_pages': 195, 'format': 'PDF 1.3', 'title': 'The Pmarca Blog Archives', 'author': '', 'subject': '', 'keywords': '', 'creator': '', 'producer': 'Mac OS X 10.10 Quartz PDFContext', 'creationDate': \"D:20150110020418Z00'00'\", 'modDate': \"D:20150110020418Z00'00'\", 'trapped': '', '_id': '397e992ab33d4ce8a11f9a60a32fa5ab', '_collection_name': 'PMarca Blogs'}\n",
      "----\n"
     ]
    }
   ],
   "source": [
    "for context in response[\"context\"]:\n",
    "  print(\"Context:\")\n",
    "  print(context)\n",
    "  print(\"----\")"
   ]
  },
  {
   "cell_type": "code",
   "execution_count": 19,
   "metadata": {},
   "outputs": [
    {
     "name": "stdout",
     "output_type": "stream",
     "text": [
      "Get right to the center of it.\n"
     ]
    }
   ],
   "source": [
    "question = \"What is a rule of thumb for selecting an industry to invest in?\"\n",
    "\n",
    "result = retrieval_augmented_qa_chain.invoke({\"question\" : question})\n",
    "\n",
    "print(result[\"response\"].content)"
   ]
  },
  {
   "cell_type": "code",
   "execution_count": 20,
   "metadata": {},
   "outputs": [
    {
     "name": "stdout",
     "output_type": "stream",
     "text": [
      "I don't know.\n",
      "[Document(metadata={'source': 'https://d1lamhf6l6yk6d.cloudfront.net/uploads/2021/08/The-pmarca-Blog-Archives.pdf', 'file_path': 'https://d1lamhf6l6yk6d.cloudfront.net/uploads/2021/08/The-pmarca-Blog-Archives.pdf', 'page': 15, 'total_pages': 195, 'format': 'PDF 1.3', 'title': 'The Pmarca Blog Archives', 'author': '', 'subject': '', 'keywords': '', 'creator': '', 'producer': 'Mac OS X 10.10 Quartz PDFContext', 'creationDate': \"D:20150110020418Z00'00'\", 'modDate': \"D:20150110020418Z00'00'\", 'trapped': '', '_id': '657b9e4f8e644894bb1c605cc8200ccc', '_collection_name': 'PMarca Blogs'}, page_content='ask if you can call them again if things change.\\nTrust me — they’d much rather be saying “yes” than “no” —\\nthey need all the good investments they can get.\\nSecond, consider the environment.'), Document(metadata={'source': 'https://d1lamhf6l6yk6d.cloudfront.net/uploads/2021/08/The-pmarca-Blog-Archives.pdf', 'file_path': 'https://d1lamhf6l6yk6d.cloudfront.net/uploads/2021/08/The-pmarca-Blog-Archives.pdf', 'page': 152, 'total_pages': 195, 'format': 'PDF 1.3', 'title': 'The Pmarca Blog Archives', 'author': '', 'subject': '', 'keywords': '', 'creator': '', 'producer': 'Mac OS X 10.10 Quartz PDFContext', 'creationDate': \"D:20150110020418Z00'00'\", 'modDate': \"D:20150110020418Z00'00'\", 'trapped': '', '_id': '44aaf66716154628a0c49699cf966a62', '_collection_name': 'PMarca Blogs'}, page_content='watching carefully — if everyone agrees right up front that\\nwhatever you are doing makes total sense, it probably isn’t a new\\nand radical enough idea to justify a new company.'), Document(metadata={'source': 'https://d1lamhf6l6yk6d.cloudfront.net/uploads/2021/08/The-pmarca-Blog-Archives.pdf', 'file_path': 'https://d1lamhf6l6yk6d.cloudfront.net/uploads/2021/08/The-pmarca-Blog-Archives.pdf', 'page': 127, 'total_pages': 195, 'format': 'PDF 1.3', 'title': 'The Pmarca Blog Archives', 'author': '', 'subject': '', 'keywords': '', 'creator': '', 'producer': 'Mac OS X 10.10 Quartz PDFContext', 'creationDate': \"D:20150110020418Z00'00'\", 'modDate': \"D:20150110020418Z00'00'\", 'trapped': '', '_id': '39646757b3f740fa9ffa0e4fd8508a72', '_collection_name': 'PMarca Blogs'}, page_content='Third rule:\\nIn a rapidly changing Held like technology, the best place to\\nget experience when you’re starting out is in younger, high-\\ngrowth companies.'), Document(metadata={'source': 'https://d1lamhf6l6yk6d.cloudfront.net/uploads/2021/08/The-pmarca-Blog-Archives.pdf', 'file_path': 'https://d1lamhf6l6yk6d.cloudfront.net/uploads/2021/08/The-pmarca-Blog-Archives.pdf', 'page': 125, 'total_pages': 195, 'format': 'PDF 1.3', 'title': 'The Pmarca Blog Archives', 'author': '', 'subject': '', 'keywords': '', 'creator': '', 'producer': 'Mac OS X 10.10 Quartz PDFContext', 'creationDate': \"D:20150110020418Z00'00'\", 'modDate': \"D:20150110020418Z00'00'\", 'trapped': '', '_id': 'ba4cae00ee58482ba45c7ad82d236557', '_collection_name': 'PMarca Blogs'}, page_content='the existing order — and make sure that those forces of change\\nhave a reasonable chance at succeeding.\\nSecond rule of thumb:\\nOnce you have picked an industry, get right to the center of it')]\n"
     ]
    }
   ],
   "source": [
    "question = \"What did Pink Floyd have to say about how to proceed when investing in a new industry?\"\n",
    "\n",
    "result = retrieval_augmented_qa_chain.invoke({\"question\" : question})\n",
    "\n",
    "print(result[\"response\"].content)\n",
    "print(result[\"context\"])"
   ]
  },
  {
   "cell_type": "markdown",
   "metadata": {},
   "source": [
    "# Task 4: Synthetic Dataset Generation for Evaluation using Ragas"
   ]
  },
  {
   "cell_type": "markdown",
   "metadata": {},
   "source": [
    "# Synthetic Test Set Generation"
   ]
  },
  {
   "cell_type": "code",
   "execution_count": 21,
   "metadata": {},
   "outputs": [],
   "source": [
    "loader = PyMuPDFLoader(\n",
    "    \"https://d1lamhf6l6yk6d.cloudfront.net/uploads/2021/08/The-pmarca-Blog-Archives.pdf\",\n",
    ")\n",
    "\n",
    "eval_documents = loader.load()\n",
    "\n",
    "text_splitter_eval = RecursiveCharacterTextSplitter(\n",
    "    chunk_size = 600,\n",
    "    chunk_overlap = 50\n",
    ")\n",
    "\n",
    "eval_documents = text_splitter_eval.split_documents(eval_documents)"
   ]
  },
  {
   "cell_type": "markdown",
   "metadata": {},
   "source": [
    "# ❓ Question #2:\n",
    "Why is it important to split our documents using different parameters when creating our synthetic data?\n",
    "\n",
    "We need to split documents differently because using the same chunks as the original RAG setup might not challenge the system effectively. If our evaluation questions are too much like the original documents, we won't be able to create varied and tough questions that truly test the RAG pipeline. It's like giving students a test with questions they've already seen, which doesn't really check their knowledge. For a proper evaluation, our test needs to be realistic and varied to see how the model will do in real-world situations.\n"
   ]
  },
  {
   "cell_type": "code",
   "execution_count": 22,
   "metadata": {},
   "outputs": [
    {
     "data": {
      "text/plain": [
       "624"
      ]
     },
     "execution_count": 22,
     "metadata": {},
     "output_type": "execute_result"
    }
   ],
   "source": [
    "len(eval_documents)\n"
   ]
  },
  {
   "cell_type": "code",
   "execution_count": 24,
   "metadata": {},
   "outputs": [
    {
     "data": {
      "application/vnd.jupyter.widget-view+json": {
       "model_id": "70444c3b4635495681df8023e498d3aa",
       "version_major": 2,
       "version_minor": 0
      },
      "text/plain": [
       "embedding nodes:   0%|          | 0/1248 [00:00<?, ?it/s]"
      ]
     },
     "metadata": {},
     "output_type": "display_data"
    },
    {
     "name": "stderr",
     "output_type": "stream",
     "text": [
      "Filename and doc_id are the same for all nodes.\n"
     ]
    },
    {
     "data": {
      "application/vnd.jupyter.widget-view+json": {
       "model_id": "0aae8a3b947f41ae9fb9fb43618e2e83",
       "version_major": 2,
       "version_minor": 0
      },
      "text/plain": [
       "Generating:   0%|          | 0/20 [00:00<?, ?it/s]"
      ]
     },
     "metadata": {},
     "output_type": "display_data"
    },
    {
     "data": {
      "text/html": [
       "<div>\n",
       "<style scoped>\n",
       "    .dataframe tbody tr th:only-of-type {\n",
       "        vertical-align: middle;\n",
       "    }\n",
       "\n",
       "    .dataframe tbody tr th {\n",
       "        vertical-align: top;\n",
       "    }\n",
       "\n",
       "    .dataframe thead th {\n",
       "        text-align: right;\n",
       "    }\n",
       "</style>\n",
       "<table border=\"1\" class=\"dataframe\">\n",
       "  <thead>\n",
       "    <tr style=\"text-align: right;\">\n",
       "      <th></th>\n",
       "      <th>question</th>\n",
       "      <th>contexts</th>\n",
       "      <th>ground_truth</th>\n",
       "      <th>evolution_type</th>\n",
       "      <th>metadata</th>\n",
       "      <th>episode_done</th>\n",
       "    </tr>\n",
       "  </thead>\n",
       "  <tbody>\n",
       "    <tr>\n",
       "      <th>0</th>\n",
       "      <td>What is the importance of having a technical e...</td>\n",
       "      <td>[workforce in a high-impact way when you gradu...</td>\n",
       "      <td>Having a technical element in undergraduate de...</td>\n",
       "      <td>simple</td>\n",
       "      <td>[{'source': 'https://d1lamhf6l6yk6d.cloudfront...</td>\n",
       "      <td>True</td>\n",
       "    </tr>\n",
       "    <tr>\n",
       "      <th>1</th>\n",
       "      <td>How does the faster cycle time in startups mak...</td>\n",
       "      <td>[would have spent 10 or 20 or 30 years buildin...</td>\n",
       "      <td>The faster cycle time in startups makes it eas...</td>\n",
       "      <td>simple</td>\n",
       "      <td>[{'source': 'https://d1lamhf6l6yk6d.cloudfront...</td>\n",
       "      <td>True</td>\n",
       "    </tr>\n",
       "    <tr>\n",
       "      <th>2</th>\n",
       "      <td>What is the emotional incentive that founders ...</td>\n",
       "      <td>[and give her a large stock-option grant with ...</td>\n",
       "      <td>Founders naturally have an emotional incentive...</td>\n",
       "      <td>simple</td>\n",
       "      <td>[{'source': 'https://d1lamhf6l6yk6d.cloudfront...</td>\n",
       "      <td>True</td>\n",
       "    </tr>\n",
       "    <tr>\n",
       "      <th>3</th>\n",
       "      <td>How does the quality of output in a creative c...</td>\n",
       "      <td>[becomes irrelevant to determining the success...</td>\n",
       "      <td>Quality of output in a creative career does no...</td>\n",
       "      <td>simple</td>\n",
       "      <td>[{'source': 'https://d1lamhf6l6yk6d.cloudfront...</td>\n",
       "      <td>True</td>\n",
       "    </tr>\n",
       "    <tr>\n",
       "      <th>4</th>\n",
       "      <td>How does precociousness and longevity affect t...</td>\n",
       "      <td>[These three components are conspicuously link...</td>\n",
       "      <td>The answer to given question is not present in...</td>\n",
       "      <td>simple</td>\n",
       "      <td>[{'source': 'https://d1lamhf6l6yk6d.cloudfront...</td>\n",
       "      <td>True</td>\n",
       "    </tr>\n",
       "    <tr>\n",
       "      <th>5</th>\n",
       "      <td>What are some techniques that can help entrepr...</td>\n",
       "      <td>[I want to tell you about my new startup” is a...</td>\n",
       "      <td>If you engage in a set of these techniques ove...</td>\n",
       "      <td>simple</td>\n",
       "      <td>[{'source': 'https://d1lamhf6l6yk6d.cloudfront...</td>\n",
       "      <td>True</td>\n",
       "    </tr>\n",
       "    <tr>\n",
       "      <th>6</th>\n",
       "      <td>What are the potential consequences of not bei...</td>\n",
       "      <td>[Here’s why you shouldn’t do that:\\nWhat are t...</td>\n",
       "      <td>Not being able to secure additional funding wh...</td>\n",
       "      <td>simple</td>\n",
       "      <td>[{'source': 'https://d1lamhf6l6yk6d.cloudfront...</td>\n",
       "      <td>True</td>\n",
       "    </tr>\n",
       "    <tr>\n",
       "      <th>7</th>\n",
       "      <td>How can structured procrastination be used to ...</td>\n",
       "      <td>[like?\\nStructured procrastination\\nThis is a ...</td>\n",
       "      <td>Structured procrastination can be used to acco...</td>\n",
       "      <td>simple</td>\n",
       "      <td>[{'source': 'https://d1lamhf6l6yk6d.cloudfront...</td>\n",
       "      <td>True</td>\n",
       "    </tr>\n",
       "    <tr>\n",
       "      <th>8</th>\n",
       "      <td>What criteria should be valued when evaluating...</td>\n",
       "      <td>[How to hire the best people you've\\never work...</td>\n",
       "      <td>Criteria that should be valued when evaluating...</td>\n",
       "      <td>simple</td>\n",
       "      <td>[{'source': 'https://d1lamhf6l6yk6d.cloudfront...</td>\n",
       "      <td>True</td>\n",
       "    </tr>\n",
       "    <tr>\n",
       "      <th>9</th>\n",
       "      <td>What factors determine the peak age for creati...</td>\n",
       "      <td>[ods when productivity is highest, the peak ag...</td>\n",
       "      <td>The expected age optimum for quantity and qual...</td>\n",
       "      <td>simple</td>\n",
       "      <td>[{'source': 'https://d1lamhf6l6yk6d.cloudfront...</td>\n",
       "      <td>True</td>\n",
       "    </tr>\n",
       "    <tr>\n",
       "      <th>10</th>\n",
       "      <td>How do technical degrees demonstrate commitmen...</td>\n",
       "      <td>[•\\nPlus, technical degrees teach you how thin...</td>\n",
       "      <td>Technical degrees demonstrate commitment to em...</td>\n",
       "      <td>multi_context</td>\n",
       "      <td>[{'source': 'https://d1lamhf6l6yk6d.cloudfront...</td>\n",
       "      <td>True</td>\n",
       "    </tr>\n",
       "    <tr>\n",
       "      <th>11</th>\n",
       "      <td>How does perceived risk impact decision-making...</td>\n",
       "      <td>[sonal relationships within the group — so the...</td>\n",
       "      <td>Perceived risk in a startup with multiple foun...</td>\n",
       "      <td>multi_context</td>\n",
       "      <td>[{'source': 'https://d1lamhf6l6yk6d.cloudfront...</td>\n",
       "      <td>True</td>\n",
       "    </tr>\n",
       "    <tr>\n",
       "      <th>12</th>\n",
       "      <td>How should a startup prioritize market develop...</td>\n",
       "      <td>[developing a large market, as opposed to Xght...</td>\n",
       "      <td>It is more important for a startup to aggressi...</td>\n",
       "      <td>multi_context</td>\n",
       "      <td>[{'source': 'https://d1lamhf6l6yk6d.cloudfront...</td>\n",
       "      <td>True</td>\n",
       "    </tr>\n",
       "    <tr>\n",
       "      <th>13</th>\n",
       "      <td>How does inconsistency avoidance affect habit ...</td>\n",
       "      <td>[Five: Inconsistency-Avoidance Tendency\\n[Peop...</td>\n",
       "      <td>Inconsistency-Avoidance Tendency, which is the...</td>\n",
       "      <td>multi_context</td>\n",
       "      <td>[{'source': 'https://d1lamhf6l6yk6d.cloudfront...</td>\n",
       "      <td>True</td>\n",
       "    </tr>\n",
       "    <tr>\n",
       "      <th>14</th>\n",
       "      <td>What is the correlation between startup team c...</td>\n",
       "      <td>[Let’s start by deXning terms.\\nThe caliber of...</td>\n",
       "      <td>The correlation between startup team caliber a...</td>\n",
       "      <td>multi_context</td>\n",
       "      <td>[{'source': 'https://d1lamhf6l6yk6d.cloudfront...</td>\n",
       "      <td>True</td>\n",
       "    </tr>\n",
       "    <tr>\n",
       "      <th>15</th>\n",
       "      <td>What strategies can undergrads use to gain rea...</td>\n",
       "      <td>[undergrads to do some of the work, and being ...</td>\n",
       "      <td>Undergrads can gain real-world experience befo...</td>\n",
       "      <td>multi_context</td>\n",
       "      <td>[{'source': 'https://d1lamhf6l6yk6d.cloudfront...</td>\n",
       "      <td>True</td>\n",
       "    </tr>\n",
       "    <tr>\n",
       "      <th>16</th>\n",
       "      <td>What causes people to quickly reduce uncertain...</td>\n",
       "      <td>[Four: Doubt-Avoidance Tendency\\nThe brain of ...</td>\n",
       "      <td>The tendency in humans to quickly reduce uncer...</td>\n",
       "      <td>multi_context</td>\n",
       "      <td>[{'source': 'https://d1lamhf6l6yk6d.cloudfront...</td>\n",
       "      <td>True</td>\n",
       "    </tr>\n",
       "    <tr>\n",
       "      <th>17</th>\n",
       "      <td>How can a founder/CEO effectively manage and e...</td>\n",
       "      <td>[can Xgure out how to build and run an organiz...</td>\n",
       "      <td>To effectively manage and empower executives, ...</td>\n",
       "      <td>multi_context</td>\n",
       "      <td>[{'source': 'https://d1lamhf6l6yk6d.cloudfront...</td>\n",
       "      <td>True</td>\n",
       "    </tr>\n",
       "    <tr>\n",
       "      <th>18</th>\n",
       "      <td>According to \"A Perfect Mess,\" what tactic can...</td>\n",
       "      <td>[2007, so I can’t commit to that, but give me ...</td>\n",
       "      <td>not keeping a schedule</td>\n",
       "      <td>reasoning</td>\n",
       "      <td>[{'source': 'https://d1lamhf6l6yk6d.cloudfront...</td>\n",
       "      <td>True</td>\n",
       "    </tr>\n",
       "    <tr>\n",
       "      <th>19</th>\n",
       "      <td>How does commitment affect email organization ...</td>\n",
       "      <td>[you can reply to a lot of messages with “I’m ...</td>\n",
       "      <td>Commitment affects email organization and task...</td>\n",
       "      <td>reasoning</td>\n",
       "      <td>[{'source': 'https://d1lamhf6l6yk6d.cloudfront...</td>\n",
       "      <td>True</td>\n",
       "    </tr>\n",
       "  </tbody>\n",
       "</table>\n",
       "</div>"
      ],
      "text/plain": [
       "                                             question  \\\n",
       "0   What is the importance of having a technical e...   \n",
       "1   How does the faster cycle time in startups mak...   \n",
       "2   What is the emotional incentive that founders ...   \n",
       "3   How does the quality of output in a creative c...   \n",
       "4   How does precociousness and longevity affect t...   \n",
       "5   What are some techniques that can help entrepr...   \n",
       "6   What are the potential consequences of not bei...   \n",
       "7   How can structured procrastination be used to ...   \n",
       "8   What criteria should be valued when evaluating...   \n",
       "9   What factors determine the peak age for creati...   \n",
       "10  How do technical degrees demonstrate commitmen...   \n",
       "11  How does perceived risk impact decision-making...   \n",
       "12  How should a startup prioritize market develop...   \n",
       "13  How does inconsistency avoidance affect habit ...   \n",
       "14  What is the correlation between startup team c...   \n",
       "15  What strategies can undergrads use to gain rea...   \n",
       "16  What causes people to quickly reduce uncertain...   \n",
       "17  How can a founder/CEO effectively manage and e...   \n",
       "18  According to \"A Perfect Mess,\" what tactic can...   \n",
       "19  How does commitment affect email organization ...   \n",
       "\n",
       "                                             contexts  \\\n",
       "0   [workforce in a high-impact way when you gradu...   \n",
       "1   [would have spent 10 or 20 or 30 years buildin...   \n",
       "2   [and give her a large stock-option grant with ...   \n",
       "3   [becomes irrelevant to determining the success...   \n",
       "4   [These three components are conspicuously link...   \n",
       "5   [I want to tell you about my new startup” is a...   \n",
       "6   [Here’s why you shouldn’t do that:\\nWhat are t...   \n",
       "7   [like?\\nStructured procrastination\\nThis is a ...   \n",
       "8   [How to hire the best people you've\\never work...   \n",
       "9   [ods when productivity is highest, the peak ag...   \n",
       "10  [•\\nPlus, technical degrees teach you how thin...   \n",
       "11  [sonal relationships within the group — so the...   \n",
       "12  [developing a large market, as opposed to Xght...   \n",
       "13  [Five: Inconsistency-Avoidance Tendency\\n[Peop...   \n",
       "14  [Let’s start by deXning terms.\\nThe caliber of...   \n",
       "15  [undergrads to do some of the work, and being ...   \n",
       "16  [Four: Doubt-Avoidance Tendency\\nThe brain of ...   \n",
       "17  [can Xgure out how to build and run an organiz...   \n",
       "18  [2007, so I can’t commit to that, but give me ...   \n",
       "19  [you can reply to a lot of messages with “I’m ...   \n",
       "\n",
       "                                         ground_truth evolution_type  \\\n",
       "0   Having a technical element in undergraduate de...         simple   \n",
       "1   The faster cycle time in startups makes it eas...         simple   \n",
       "2   Founders naturally have an emotional incentive...         simple   \n",
       "3   Quality of output in a creative career does no...         simple   \n",
       "4   The answer to given question is not present in...         simple   \n",
       "5   If you engage in a set of these techniques ove...         simple   \n",
       "6   Not being able to secure additional funding wh...         simple   \n",
       "7   Structured procrastination can be used to acco...         simple   \n",
       "8   Criteria that should be valued when evaluating...         simple   \n",
       "9   The expected age optimum for quantity and qual...         simple   \n",
       "10  Technical degrees demonstrate commitment to em...  multi_context   \n",
       "11  Perceived risk in a startup with multiple foun...  multi_context   \n",
       "12  It is more important for a startup to aggressi...  multi_context   \n",
       "13  Inconsistency-Avoidance Tendency, which is the...  multi_context   \n",
       "14  The correlation between startup team caliber a...  multi_context   \n",
       "15  Undergrads can gain real-world experience befo...  multi_context   \n",
       "16  The tendency in humans to quickly reduce uncer...  multi_context   \n",
       "17  To effectively manage and empower executives, ...  multi_context   \n",
       "18                             not keeping a schedule      reasoning   \n",
       "19  Commitment affects email organization and task...      reasoning   \n",
       "\n",
       "                                             metadata  episode_done  \n",
       "0   [{'source': 'https://d1lamhf6l6yk6d.cloudfront...          True  \n",
       "1   [{'source': 'https://d1lamhf6l6yk6d.cloudfront...          True  \n",
       "2   [{'source': 'https://d1lamhf6l6yk6d.cloudfront...          True  \n",
       "3   [{'source': 'https://d1lamhf6l6yk6d.cloudfront...          True  \n",
       "4   [{'source': 'https://d1lamhf6l6yk6d.cloudfront...          True  \n",
       "5   [{'source': 'https://d1lamhf6l6yk6d.cloudfront...          True  \n",
       "6   [{'source': 'https://d1lamhf6l6yk6d.cloudfront...          True  \n",
       "7   [{'source': 'https://d1lamhf6l6yk6d.cloudfront...          True  \n",
       "8   [{'source': 'https://d1lamhf6l6yk6d.cloudfront...          True  \n",
       "9   [{'source': 'https://d1lamhf6l6yk6d.cloudfront...          True  \n",
       "10  [{'source': 'https://d1lamhf6l6yk6d.cloudfront...          True  \n",
       "11  [{'source': 'https://d1lamhf6l6yk6d.cloudfront...          True  \n",
       "12  [{'source': 'https://d1lamhf6l6yk6d.cloudfront...          True  \n",
       "13  [{'source': 'https://d1lamhf6l6yk6d.cloudfront...          True  \n",
       "14  [{'source': 'https://d1lamhf6l6yk6d.cloudfront...          True  \n",
       "15  [{'source': 'https://d1lamhf6l6yk6d.cloudfront...          True  \n",
       "16  [{'source': 'https://d1lamhf6l6yk6d.cloudfront...          True  \n",
       "17  [{'source': 'https://d1lamhf6l6yk6d.cloudfront...          True  \n",
       "18  [{'source': 'https://d1lamhf6l6yk6d.cloudfront...          True  \n",
       "19  [{'source': 'https://d1lamhf6l6yk6d.cloudfront...          True  "
      ]
     },
     "execution_count": 24,
     "metadata": {},
     "output_type": "execute_result"
    }
   ],
   "source": [
    "import nest_asyncio\n",
    "nest_asyncio.apply()\n",
    "\n",
    "from ragas.testset.generator import TestsetGenerator\n",
    "from ragas.testset.evolutions import simple, reasoning, multi_context\n",
    "from langchain_openai import ChatOpenAI, OpenAIEmbeddings\n",
    "\n",
    "generator_llm = ChatOpenAI(model=\"gpt-3.5-turbo-16k\")\n",
    "# critic_llm = ChatOpenAI(model=\"gpt-3.5-turbo\") # <--- If you don't have GPT-4 access, or to reduce cost/rate limiting issues.\n",
    "critic_llm = ChatOpenAI(model=\"gpt-4o\")\n",
    "embeddings = OpenAIEmbeddings()\n",
    "\n",
    "generator = TestsetGenerator.from_langchain(\n",
    "    generator_llm,\n",
    "    critic_llm,\n",
    "    embeddings\n",
    ")\n",
    "\n",
    "distributions = {\n",
    "    simple: 0.5,\n",
    "    multi_context: 0.4,\n",
    "    reasoning: 0.1\n",
    "}\n",
    "\n",
    "testset = generator.generate_with_langchain_docs(eval_documents, 20, distributions, is_async = False, raise_exceptions=True)\n",
    "testset.to_pandas()"
   ]
  },
  {
   "cell_type": "markdown",
   "metadata": {},
   "source": [
    "## ❓ Question #3:\n",
    "{simple: 0.5, reasoning: 0.25, multi_context: 0.25}\n",
    "\n",
    "What exactly does this mapping refer to?\n",
    "\n",
    "This mapping refers to the number of questions that RAGAS need to generate for each type. \n",
    "1. Simple: Simple questions, 50%.\n",
    "2. Reasoning: Questions that need reasoning to answer them, 25%.\n",
    "3. multi_context: Questions that needs the use of multiple contexts to provide answer, 25%."
   ]
  },
  {
   "cell_type": "code",
   "execution_count": 25,
   "metadata": {},
   "outputs": [
    {
     "data": {
      "text/plain": [
       "DataRow(question='What is the importance of having a technical element in undergraduate degrees?', contexts=['workforce in a high-impact way when you graduate, and you’ll\\nhave to go get a useful graduate degree.\\nAnd even if you are already planning to get a useful graduate\\ndegree, you are much better oW combining it with a substantive\\nundergraduate degree — thereby becoming a “double threat”.\\nMore on this in a bit.\\nWhich undergraduate degrees are useful in\\nthe real world?\\nTypically, those that have a technical element of some form —\\nthat teach you how to do something substantive.\\nEngineering degrees obviously qualify. The current myth that\\nengineering and computer science degrees are less useful'], ground_truth='Having a technical element in undergraduate degrees is important because it teaches students how to do something substantive and prepares them for the real world. Engineering degrees are a prime example of degrees that have a technical element.', evolution_type='simple', metadata=[{'source': 'https://d1lamhf6l6yk6d.cloudfront.net/uploads/2021/08/The-pmarca-Blog-Archives.pdf', 'file_path': 'https://d1lamhf6l6yk6d.cloudfront.net/uploads/2021/08/The-pmarca-Blog-Archives.pdf', 'page': 112, 'total_pages': 195, 'format': 'PDF 1.3', 'title': 'The Pmarca Blog Archives', 'author': '', 'subject': '', 'keywords': '', 'creator': '', 'producer': 'Mac OS X 10.10 Quartz PDFContext', 'creationDate': \"D:20150110020418Z00'00'\", 'modDate': \"D:20150110020418Z00'00'\", 'trapped': ''}])"
      ]
     },
     "execution_count": 25,
     "metadata": {},
     "output_type": "execute_result"
    }
   ],
   "source": [
    "testset.test_data[0]"
   ]
  },
  {
   "cell_type": "markdown",
   "metadata": {},
   "source": [
    "# Generating Responses with RAG Pipeline"
   ]
  },
  {
   "cell_type": "code",
   "execution_count": 26,
   "metadata": {},
   "outputs": [],
   "source": [
    "test_df = testset.to_pandas()"
   ]
  },
  {
   "cell_type": "code",
   "execution_count": 27,
   "metadata": {},
   "outputs": [
    {
     "data": {
      "text/html": [
       "<div>\n",
       "<style scoped>\n",
       "    .dataframe tbody tr th:only-of-type {\n",
       "        vertical-align: middle;\n",
       "    }\n",
       "\n",
       "    .dataframe tbody tr th {\n",
       "        vertical-align: top;\n",
       "    }\n",
       "\n",
       "    .dataframe thead th {\n",
       "        text-align: right;\n",
       "    }\n",
       "</style>\n",
       "<table border=\"1\" class=\"dataframe\">\n",
       "  <thead>\n",
       "    <tr style=\"text-align: right;\">\n",
       "      <th></th>\n",
       "      <th>question</th>\n",
       "      <th>contexts</th>\n",
       "      <th>ground_truth</th>\n",
       "      <th>evolution_type</th>\n",
       "      <th>metadata</th>\n",
       "      <th>episode_done</th>\n",
       "    </tr>\n",
       "  </thead>\n",
       "  <tbody>\n",
       "    <tr>\n",
       "      <th>0</th>\n",
       "      <td>What is the importance of having a technical e...</td>\n",
       "      <td>[workforce in a high-impact way when you gradu...</td>\n",
       "      <td>Having a technical element in undergraduate de...</td>\n",
       "      <td>simple</td>\n",
       "      <td>[{'source': 'https://d1lamhf6l6yk6d.cloudfront...</td>\n",
       "      <td>True</td>\n",
       "    </tr>\n",
       "    <tr>\n",
       "      <th>1</th>\n",
       "      <td>How does the faster cycle time in startups mak...</td>\n",
       "      <td>[would have spent 10 or 20 or 30 years buildin...</td>\n",
       "      <td>The faster cycle time in startups makes it eas...</td>\n",
       "      <td>simple</td>\n",
       "      <td>[{'source': 'https://d1lamhf6l6yk6d.cloudfront...</td>\n",
       "      <td>True</td>\n",
       "    </tr>\n",
       "    <tr>\n",
       "      <th>2</th>\n",
       "      <td>What is the emotional incentive that founders ...</td>\n",
       "      <td>[and give her a large stock-option grant with ...</td>\n",
       "      <td>Founders naturally have an emotional incentive...</td>\n",
       "      <td>simple</td>\n",
       "      <td>[{'source': 'https://d1lamhf6l6yk6d.cloudfront...</td>\n",
       "      <td>True</td>\n",
       "    </tr>\n",
       "    <tr>\n",
       "      <th>3</th>\n",
       "      <td>How does the quality of output in a creative c...</td>\n",
       "      <td>[becomes irrelevant to determining the success...</td>\n",
       "      <td>Quality of output in a creative career does no...</td>\n",
       "      <td>simple</td>\n",
       "      <td>[{'source': 'https://d1lamhf6l6yk6d.cloudfront...</td>\n",
       "      <td>True</td>\n",
       "    </tr>\n",
       "    <tr>\n",
       "      <th>4</th>\n",
       "      <td>How does precociousness and longevity affect t...</td>\n",
       "      <td>[These three components are conspicuously link...</td>\n",
       "      <td>The answer to given question is not present in...</td>\n",
       "      <td>simple</td>\n",
       "      <td>[{'source': 'https://d1lamhf6l6yk6d.cloudfront...</td>\n",
       "      <td>True</td>\n",
       "    </tr>\n",
       "    <tr>\n",
       "      <th>5</th>\n",
       "      <td>What are some techniques that can help entrepr...</td>\n",
       "      <td>[I want to tell you about my new startup” is a...</td>\n",
       "      <td>If you engage in a set of these techniques ove...</td>\n",
       "      <td>simple</td>\n",
       "      <td>[{'source': 'https://d1lamhf6l6yk6d.cloudfront...</td>\n",
       "      <td>True</td>\n",
       "    </tr>\n",
       "    <tr>\n",
       "      <th>6</th>\n",
       "      <td>What are the potential consequences of not bei...</td>\n",
       "      <td>[Here’s why you shouldn’t do that:\\nWhat are t...</td>\n",
       "      <td>Not being able to secure additional funding wh...</td>\n",
       "      <td>simple</td>\n",
       "      <td>[{'source': 'https://d1lamhf6l6yk6d.cloudfront...</td>\n",
       "      <td>True</td>\n",
       "    </tr>\n",
       "    <tr>\n",
       "      <th>7</th>\n",
       "      <td>How can structured procrastination be used to ...</td>\n",
       "      <td>[like?\\nStructured procrastination\\nThis is a ...</td>\n",
       "      <td>Structured procrastination can be used to acco...</td>\n",
       "      <td>simple</td>\n",
       "      <td>[{'source': 'https://d1lamhf6l6yk6d.cloudfront...</td>\n",
       "      <td>True</td>\n",
       "    </tr>\n",
       "    <tr>\n",
       "      <th>8</th>\n",
       "      <td>What criteria should be valued when evaluating...</td>\n",
       "      <td>[How to hire the best people you've\\never work...</td>\n",
       "      <td>Criteria that should be valued when evaluating...</td>\n",
       "      <td>simple</td>\n",
       "      <td>[{'source': 'https://d1lamhf6l6yk6d.cloudfront...</td>\n",
       "      <td>True</td>\n",
       "    </tr>\n",
       "    <tr>\n",
       "      <th>9</th>\n",
       "      <td>What factors determine the peak age for creati...</td>\n",
       "      <td>[ods when productivity is highest, the peak ag...</td>\n",
       "      <td>The expected age optimum for quantity and qual...</td>\n",
       "      <td>simple</td>\n",
       "      <td>[{'source': 'https://d1lamhf6l6yk6d.cloudfront...</td>\n",
       "      <td>True</td>\n",
       "    </tr>\n",
       "    <tr>\n",
       "      <th>10</th>\n",
       "      <td>How do technical degrees demonstrate commitmen...</td>\n",
       "      <td>[•\\nPlus, technical degrees teach you how thin...</td>\n",
       "      <td>Technical degrees demonstrate commitment to em...</td>\n",
       "      <td>multi_context</td>\n",
       "      <td>[{'source': 'https://d1lamhf6l6yk6d.cloudfront...</td>\n",
       "      <td>True</td>\n",
       "    </tr>\n",
       "    <tr>\n",
       "      <th>11</th>\n",
       "      <td>How does perceived risk impact decision-making...</td>\n",
       "      <td>[sonal relationships within the group — so the...</td>\n",
       "      <td>Perceived risk in a startup with multiple foun...</td>\n",
       "      <td>multi_context</td>\n",
       "      <td>[{'source': 'https://d1lamhf6l6yk6d.cloudfront...</td>\n",
       "      <td>True</td>\n",
       "    </tr>\n",
       "    <tr>\n",
       "      <th>12</th>\n",
       "      <td>How should a startup prioritize market develop...</td>\n",
       "      <td>[developing a large market, as opposed to Xght...</td>\n",
       "      <td>It is more important for a startup to aggressi...</td>\n",
       "      <td>multi_context</td>\n",
       "      <td>[{'source': 'https://d1lamhf6l6yk6d.cloudfront...</td>\n",
       "      <td>True</td>\n",
       "    </tr>\n",
       "    <tr>\n",
       "      <th>13</th>\n",
       "      <td>How does inconsistency avoidance affect habit ...</td>\n",
       "      <td>[Five: Inconsistency-Avoidance Tendency\\n[Peop...</td>\n",
       "      <td>Inconsistency-Avoidance Tendency, which is the...</td>\n",
       "      <td>multi_context</td>\n",
       "      <td>[{'source': 'https://d1lamhf6l6yk6d.cloudfront...</td>\n",
       "      <td>True</td>\n",
       "    </tr>\n",
       "    <tr>\n",
       "      <th>14</th>\n",
       "      <td>What is the correlation between startup team c...</td>\n",
       "      <td>[Let’s start by deXning terms.\\nThe caliber of...</td>\n",
       "      <td>The correlation between startup team caliber a...</td>\n",
       "      <td>multi_context</td>\n",
       "      <td>[{'source': 'https://d1lamhf6l6yk6d.cloudfront...</td>\n",
       "      <td>True</td>\n",
       "    </tr>\n",
       "    <tr>\n",
       "      <th>15</th>\n",
       "      <td>What strategies can undergrads use to gain rea...</td>\n",
       "      <td>[undergrads to do some of the work, and being ...</td>\n",
       "      <td>Undergrads can gain real-world experience befo...</td>\n",
       "      <td>multi_context</td>\n",
       "      <td>[{'source': 'https://d1lamhf6l6yk6d.cloudfront...</td>\n",
       "      <td>True</td>\n",
       "    </tr>\n",
       "    <tr>\n",
       "      <th>16</th>\n",
       "      <td>What causes people to quickly reduce uncertain...</td>\n",
       "      <td>[Four: Doubt-Avoidance Tendency\\nThe brain of ...</td>\n",
       "      <td>The tendency in humans to quickly reduce uncer...</td>\n",
       "      <td>multi_context</td>\n",
       "      <td>[{'source': 'https://d1lamhf6l6yk6d.cloudfront...</td>\n",
       "      <td>True</td>\n",
       "    </tr>\n",
       "    <tr>\n",
       "      <th>17</th>\n",
       "      <td>How can a founder/CEO effectively manage and e...</td>\n",
       "      <td>[can Xgure out how to build and run an organiz...</td>\n",
       "      <td>To effectively manage and empower executives, ...</td>\n",
       "      <td>multi_context</td>\n",
       "      <td>[{'source': 'https://d1lamhf6l6yk6d.cloudfront...</td>\n",
       "      <td>True</td>\n",
       "    </tr>\n",
       "    <tr>\n",
       "      <th>18</th>\n",
       "      <td>According to \"A Perfect Mess,\" what tactic can...</td>\n",
       "      <td>[2007, so I can’t commit to that, but give me ...</td>\n",
       "      <td>not keeping a schedule</td>\n",
       "      <td>reasoning</td>\n",
       "      <td>[{'source': 'https://d1lamhf6l6yk6d.cloudfront...</td>\n",
       "      <td>True</td>\n",
       "    </tr>\n",
       "    <tr>\n",
       "      <th>19</th>\n",
       "      <td>How does commitment affect email organization ...</td>\n",
       "      <td>[you can reply to a lot of messages with “I’m ...</td>\n",
       "      <td>Commitment affects email organization and task...</td>\n",
       "      <td>reasoning</td>\n",
       "      <td>[{'source': 'https://d1lamhf6l6yk6d.cloudfront...</td>\n",
       "      <td>True</td>\n",
       "    </tr>\n",
       "  </tbody>\n",
       "</table>\n",
       "</div>"
      ],
      "text/plain": [
       "                                             question  \\\n",
       "0   What is the importance of having a technical e...   \n",
       "1   How does the faster cycle time in startups mak...   \n",
       "2   What is the emotional incentive that founders ...   \n",
       "3   How does the quality of output in a creative c...   \n",
       "4   How does precociousness and longevity affect t...   \n",
       "5   What are some techniques that can help entrepr...   \n",
       "6   What are the potential consequences of not bei...   \n",
       "7   How can structured procrastination be used to ...   \n",
       "8   What criteria should be valued when evaluating...   \n",
       "9   What factors determine the peak age for creati...   \n",
       "10  How do technical degrees demonstrate commitmen...   \n",
       "11  How does perceived risk impact decision-making...   \n",
       "12  How should a startup prioritize market develop...   \n",
       "13  How does inconsistency avoidance affect habit ...   \n",
       "14  What is the correlation between startup team c...   \n",
       "15  What strategies can undergrads use to gain rea...   \n",
       "16  What causes people to quickly reduce uncertain...   \n",
       "17  How can a founder/CEO effectively manage and e...   \n",
       "18  According to \"A Perfect Mess,\" what tactic can...   \n",
       "19  How does commitment affect email organization ...   \n",
       "\n",
       "                                             contexts  \\\n",
       "0   [workforce in a high-impact way when you gradu...   \n",
       "1   [would have spent 10 or 20 or 30 years buildin...   \n",
       "2   [and give her a large stock-option grant with ...   \n",
       "3   [becomes irrelevant to determining the success...   \n",
       "4   [These three components are conspicuously link...   \n",
       "5   [I want to tell you about my new startup” is a...   \n",
       "6   [Here’s why you shouldn’t do that:\\nWhat are t...   \n",
       "7   [like?\\nStructured procrastination\\nThis is a ...   \n",
       "8   [How to hire the best people you've\\never work...   \n",
       "9   [ods when productivity is highest, the peak ag...   \n",
       "10  [•\\nPlus, technical degrees teach you how thin...   \n",
       "11  [sonal relationships within the group — so the...   \n",
       "12  [developing a large market, as opposed to Xght...   \n",
       "13  [Five: Inconsistency-Avoidance Tendency\\n[Peop...   \n",
       "14  [Let’s start by deXning terms.\\nThe caliber of...   \n",
       "15  [undergrads to do some of the work, and being ...   \n",
       "16  [Four: Doubt-Avoidance Tendency\\nThe brain of ...   \n",
       "17  [can Xgure out how to build and run an organiz...   \n",
       "18  [2007, so I can’t commit to that, but give me ...   \n",
       "19  [you can reply to a lot of messages with “I’m ...   \n",
       "\n",
       "                                         ground_truth evolution_type  \\\n",
       "0   Having a technical element in undergraduate de...         simple   \n",
       "1   The faster cycle time in startups makes it eas...         simple   \n",
       "2   Founders naturally have an emotional incentive...         simple   \n",
       "3   Quality of output in a creative career does no...         simple   \n",
       "4   The answer to given question is not present in...         simple   \n",
       "5   If you engage in a set of these techniques ove...         simple   \n",
       "6   Not being able to secure additional funding wh...         simple   \n",
       "7   Structured procrastination can be used to acco...         simple   \n",
       "8   Criteria that should be valued when evaluating...         simple   \n",
       "9   The expected age optimum for quantity and qual...         simple   \n",
       "10  Technical degrees demonstrate commitment to em...  multi_context   \n",
       "11  Perceived risk in a startup with multiple foun...  multi_context   \n",
       "12  It is more important for a startup to aggressi...  multi_context   \n",
       "13  Inconsistency-Avoidance Tendency, which is the...  multi_context   \n",
       "14  The correlation between startup team caliber a...  multi_context   \n",
       "15  Undergrads can gain real-world experience befo...  multi_context   \n",
       "16  The tendency in humans to quickly reduce uncer...  multi_context   \n",
       "17  To effectively manage and empower executives, ...  multi_context   \n",
       "18                             not keeping a schedule      reasoning   \n",
       "19  Commitment affects email organization and task...      reasoning   \n",
       "\n",
       "                                             metadata  episode_done  \n",
       "0   [{'source': 'https://d1lamhf6l6yk6d.cloudfront...          True  \n",
       "1   [{'source': 'https://d1lamhf6l6yk6d.cloudfront...          True  \n",
       "2   [{'source': 'https://d1lamhf6l6yk6d.cloudfront...          True  \n",
       "3   [{'source': 'https://d1lamhf6l6yk6d.cloudfront...          True  \n",
       "4   [{'source': 'https://d1lamhf6l6yk6d.cloudfront...          True  \n",
       "5   [{'source': 'https://d1lamhf6l6yk6d.cloudfront...          True  \n",
       "6   [{'source': 'https://d1lamhf6l6yk6d.cloudfront...          True  \n",
       "7   [{'source': 'https://d1lamhf6l6yk6d.cloudfront...          True  \n",
       "8   [{'source': 'https://d1lamhf6l6yk6d.cloudfront...          True  \n",
       "9   [{'source': 'https://d1lamhf6l6yk6d.cloudfront...          True  \n",
       "10  [{'source': 'https://d1lamhf6l6yk6d.cloudfront...          True  \n",
       "11  [{'source': 'https://d1lamhf6l6yk6d.cloudfront...          True  \n",
       "12  [{'source': 'https://d1lamhf6l6yk6d.cloudfront...          True  \n",
       "13  [{'source': 'https://d1lamhf6l6yk6d.cloudfront...          True  \n",
       "14  [{'source': 'https://d1lamhf6l6yk6d.cloudfront...          True  \n",
       "15  [{'source': 'https://d1lamhf6l6yk6d.cloudfront...          True  \n",
       "16  [{'source': 'https://d1lamhf6l6yk6d.cloudfront...          True  \n",
       "17  [{'source': 'https://d1lamhf6l6yk6d.cloudfront...          True  \n",
       "18  [{'source': 'https://d1lamhf6l6yk6d.cloudfront...          True  \n",
       "19  [{'source': 'https://d1lamhf6l6yk6d.cloudfront...          True  "
      ]
     },
     "execution_count": 27,
     "metadata": {},
     "output_type": "execute_result"
    }
   ],
   "source": [
    "test_df"
   ]
  },
  {
   "cell_type": "code",
   "execution_count": 28,
   "metadata": {},
   "outputs": [],
   "source": [
    "test_questions = test_df[\"question\"].values.tolist()\n",
    "test_groundtruths = test_df[\"ground_truth\"].values.tolist()"
   ]
  },
  {
   "cell_type": "code",
   "execution_count": 29,
   "metadata": {},
   "outputs": [],
   "source": [
    "answers = []\n",
    "contexts = []\n",
    "\n",
    "for question in test_questions:\n",
    "  response = retrieval_augmented_qa_chain.invoke({\"question\" : question})\n",
    "  answers.append(response[\"response\"].content)\n",
    "  contexts.append([context.page_content for context in response[\"context\"]])"
   ]
  },
  {
   "cell_type": "code",
   "execution_count": 31,
   "metadata": {},
   "outputs": [],
   "source": [
    "\n",
    "from datasets import Dataset\n",
    "\n",
    "response_dataset = Dataset.from_dict({\n",
    "    \"question\" : test_questions,\n",
    "    \"answer\" : answers,\n",
    "    \"contexts\" : contexts,\n",
    "    \"ground_truth\" : test_groundtruths\n",
    "})"
   ]
  },
  {
   "cell_type": "code",
   "execution_count": 32,
   "metadata": {},
   "outputs": [
    {
     "data": {
      "text/plain": [
       "{'question': 'What is the importance of having a technical element in undergraduate degrees?',\n",
       " 'answer': 'The importance of having a technical element in undergraduate degrees is that it teaches individuals how to do something substantive, difficult, and useful that matters in the real world.',\n",
       " 'contexts': ['Which undergraduate degrees are useful in\\nthe real world?\\nTypically, those that have a technical element of some form —\\nthat teach you how to do something substantive.',\n",
       "  'ify, as do mathematics and economics.\\nWhy do I take this stance?\\n•\\nTechnical degrees teach you how to do something diZcult\\nand useful that matters in the real world. Even if you don’t',\n",
       "  'that teach you how to do something substantive.\\nEngineering degrees obviously qualify. The current myth that\\nengineering and computer science degrees are less useful',\n",
       "  'path to doing anything big.\\n•\\nPlus, technical degrees indicate seriousness of purpose to\\nfuture employers and partners. You get coded right up front\\nas someone who is intent on doing real things.'],\n",
       " 'ground_truth': 'Having a technical element in undergraduate degrees is important because it teaches students how to do something substantive and prepares them for the real world. Engineering degrees are a prime example of degrees that have a technical element.'}"
      ]
     },
     "execution_count": 32,
     "metadata": {},
     "output_type": "execute_result"
    }
   ],
   "source": [
    "response_dataset[0]\n"
   ]
  },
  {
   "cell_type": "markdown",
   "metadata": {},
   "source": [
    "# Task 1: Evaluating our Pipeline with Ragas"
   ]
  },
  {
   "cell_type": "code",
   "execution_count": 33,
   "metadata": {},
   "outputs": [],
   "source": [
    "from ragas import evaluate\n",
    "from ragas.metrics import (\n",
    "    faithfulness,\n",
    "    answer_relevancy,\n",
    "    answer_correctness,\n",
    "    context_recall,\n",
    "    context_precision,\n",
    ")\n",
    "\n",
    "metrics = [\n",
    "    faithfulness,\n",
    "    answer_relevancy,\n",
    "    context_recall,\n",
    "    context_precision,\n",
    "    answer_correctness,\n",
    "]"
   ]
  },
  {
   "cell_type": "code",
   "execution_count": 37,
   "metadata": {},
   "outputs": [
    {
     "data": {
      "application/vnd.jupyter.widget-view+json": {
       "model_id": "a787b07a373746bea05a8a509c5e1611",
       "version_major": 2,
       "version_minor": 0
      },
      "text/plain": [
       "Evaluating:   0%|          | 0/100 [00:00<?, ?it/s]"
      ]
     },
     "metadata": {},
     "output_type": "display_data"
    },
    {
     "name": "stderr",
     "output_type": "stream",
     "text": [
      "No statements were generated from the answer.\n"
     ]
    }
   ],
   "source": [
    "from ragas.run_config import RunConfig\n",
    "run_config = RunConfig(\n",
    "    timeout=60,\n",
    "    max_retries=10,\n",
    "    max_wait = 180, # default: 60\n",
    "    max_workers= 1, # default: 16 <--- I think this is the setting that ensures that there are no rate limit exceptions!\n",
    ")\n",
    "results = evaluate(response_dataset, metrics, run_config=run_config)\n"
   ]
  },
  {
   "cell_type": "code",
   "execution_count": 38,
   "metadata": {},
   "outputs": [
    {
     "data": {
      "text/plain": [
       "{'faithfulness': 0.6723, 'answer_relevancy': 0.8507, 'context_recall': 0.5700, 'context_precision': 0.7292, 'answer_correctness': 0.4132}"
      ]
     },
     "execution_count": 38,
     "metadata": {},
     "output_type": "execute_result"
    }
   ],
   "source": [
    "results"
   ]
  },
  {
   "cell_type": "code",
   "execution_count": 39,
   "metadata": {},
   "outputs": [
    {
     "data": {
      "text/html": [
       "<div>\n",
       "<style scoped>\n",
       "    .dataframe tbody tr th:only-of-type {\n",
       "        vertical-align: middle;\n",
       "    }\n",
       "\n",
       "    .dataframe tbody tr th {\n",
       "        vertical-align: top;\n",
       "    }\n",
       "\n",
       "    .dataframe thead th {\n",
       "        text-align: right;\n",
       "    }\n",
       "</style>\n",
       "<table border=\"1\" class=\"dataframe\">\n",
       "  <thead>\n",
       "    <tr style=\"text-align: right;\">\n",
       "      <th></th>\n",
       "      <th>question</th>\n",
       "      <th>answer</th>\n",
       "      <th>contexts</th>\n",
       "      <th>ground_truth</th>\n",
       "      <th>faithfulness</th>\n",
       "      <th>answer_relevancy</th>\n",
       "      <th>context_recall</th>\n",
       "      <th>context_precision</th>\n",
       "      <th>answer_correctness</th>\n",
       "    </tr>\n",
       "  </thead>\n",
       "  <tbody>\n",
       "    <tr>\n",
       "      <th>0</th>\n",
       "      <td>What is the importance of having a technical e...</td>\n",
       "      <td>The importance of having a technical element i...</td>\n",
       "      <td>[Which undergraduate degrees are useful in\\nth...</td>\n",
       "      <td>Having a technical element in undergraduate de...</td>\n",
       "      <td>1.000000</td>\n",
       "      <td>1.000000</td>\n",
       "      <td>1.0</td>\n",
       "      <td>1.000000</td>\n",
       "      <td>0.454154</td>\n",
       "    </tr>\n",
       "    <tr>\n",
       "      <th>1</th>\n",
       "      <td>How does the faster cycle time in startups mak...</td>\n",
       "      <td>The faster cycle time in startups makes it eas...</td>\n",
       "      <td>[product families or grow market share. This o...</td>\n",
       "      <td>The faster cycle time in startups makes it eas...</td>\n",
       "      <td>0.666667</td>\n",
       "      <td>0.993744</td>\n",
       "      <td>0.0</td>\n",
       "      <td>0.750000</td>\n",
       "      <td>0.455512</td>\n",
       "    </tr>\n",
       "    <tr>\n",
       "      <th>2</th>\n",
       "      <td>What is the emotional incentive that founders ...</td>\n",
       "      <td>Founders have an emotional incentive to see th...</td>\n",
       "      <td>[have an emotional incentive to see the compan...</td>\n",
       "      <td>Founders naturally have an emotional incentive...</td>\n",
       "      <td>1.000000</td>\n",
       "      <td>0.945197</td>\n",
       "      <td>1.0</td>\n",
       "      <td>0.250000</td>\n",
       "      <td>0.998458</td>\n",
       "    </tr>\n",
       "    <tr>\n",
       "      <th>3</th>\n",
       "      <td>How does the quality of output in a creative c...</td>\n",
       "      <td>The quality of output in a creative career rel...</td>\n",
       "      <td>[creator’s most distinguished work will appear...</td>\n",
       "      <td>Quality of output in a creative career does no...</td>\n",
       "      <td>0.000000</td>\n",
       "      <td>0.999998</td>\n",
       "      <td>0.0</td>\n",
       "      <td>1.000000</td>\n",
       "      <td>0.230813</td>\n",
       "    </tr>\n",
       "    <tr>\n",
       "      <th>4</th>\n",
       "      <td>How does precociousness and longevity affect t...</td>\n",
       "      <td>Precociousness and longevity are positively as...</td>\n",
       "      <td>[early, end late, and produce at above-average...</td>\n",
       "      <td>The answer to given question is not present in...</td>\n",
       "      <td>1.000000</td>\n",
       "      <td>0.954687</td>\n",
       "      <td>1.0</td>\n",
       "      <td>0.000000</td>\n",
       "      <td>0.176977</td>\n",
       "    </tr>\n",
       "    <tr>\n",
       "      <th>5</th>\n",
       "      <td>What are some techniques that can help entrepr...</td>\n",
       "      <td>Pitching VCs and having a working product that...</td>\n",
       "      <td>[If\\nyou\\nengage\\nin\\na\\nset\\nof\\nthese\\ntechn...</td>\n",
       "      <td>If you engage in a set of these techniques ove...</td>\n",
       "      <td>1.000000</td>\n",
       "      <td>0.890365</td>\n",
       "      <td>1.0</td>\n",
       "      <td>1.000000</td>\n",
       "      <td>0.726996</td>\n",
       "    </tr>\n",
       "    <tr>\n",
       "      <th>6</th>\n",
       "      <td>What are the potential consequences of not bei...</td>\n",
       "      <td>Not raising enough money risks the survival of...</td>\n",
       "      <td>[Here’s why you shouldn’t do that:\\nWhat are t...</td>\n",
       "      <td>Not being able to secure additional funding wh...</td>\n",
       "      <td>1.000000</td>\n",
       "      <td>0.935973</td>\n",
       "      <td>0.2</td>\n",
       "      <td>1.000000</td>\n",
       "      <td>0.480676</td>\n",
       "    </tr>\n",
       "    <tr>\n",
       "      <th>7</th>\n",
       "      <td>How can structured procrastination be used to ...</td>\n",
       "      <td>Structured procrastination can be used to acco...</td>\n",
       "      <td>[standing.)\\nThe gist of Structured Procrastin...</td>\n",
       "      <td>Structured procrastination can be used to acco...</td>\n",
       "      <td>1.000000</td>\n",
       "      <td>0.970069</td>\n",
       "      <td>1.0</td>\n",
       "      <td>1.000000</td>\n",
       "      <td>0.490186</td>\n",
       "    </tr>\n",
       "    <tr>\n",
       "      <th>8</th>\n",
       "      <td>What criteria should be valued when evaluating...</td>\n",
       "      <td>Criteria: what to value when evaluating candid...</td>\n",
       "      <td>[with — particularly for a startup.\\nI’m going...</td>\n",
       "      <td>Criteria that should be valued when evaluating...</td>\n",
       "      <td>1.000000</td>\n",
       "      <td>0.909506</td>\n",
       "      <td>0.0</td>\n",
       "      <td>0.250000</td>\n",
       "      <td>0.221720</td>\n",
       "    </tr>\n",
       "    <tr>\n",
       "      <th>9</th>\n",
       "      <td>What factors determine the peak age for creati...</td>\n",
       "      <td>Possible intrinsic factors that could explain ...</td>\n",
       "      <td>[creator’s most distinguished work will appear...</td>\n",
       "      <td>The expected age optimum for quantity and qual...</td>\n",
       "      <td>0.500000</td>\n",
       "      <td>0.910477</td>\n",
       "      <td>1.0</td>\n",
       "      <td>0.916667</td>\n",
       "      <td>0.217767</td>\n",
       "    </tr>\n",
       "    <tr>\n",
       "      <th>10</th>\n",
       "      <td>How do technical degrees demonstrate commitmen...</td>\n",
       "      <td>Technical degrees demonstrate commitment to em...</td>\n",
       "      <td>[path to doing anything big.\\n•\\nPlus, technic...</td>\n",
       "      <td>Technical degrees demonstrate commitment to em...</td>\n",
       "      <td>0.500000</td>\n",
       "      <td>0.838238</td>\n",
       "      <td>1.0</td>\n",
       "      <td>1.000000</td>\n",
       "      <td>0.516406</td>\n",
       "    </tr>\n",
       "    <tr>\n",
       "      <th>11</th>\n",
       "      <td>How does perceived risk impact decision-making...</td>\n",
       "      <td>I don't know.</td>\n",
       "      <td>[What are the layers of risk for a high-tech\\n...</td>\n",
       "      <td>Perceived risk in a startup with multiple foun...</td>\n",
       "      <td>NaN</td>\n",
       "      <td>0.000000</td>\n",
       "      <td>0.2</td>\n",
       "      <td>0.500000</td>\n",
       "      <td>0.181761</td>\n",
       "    </tr>\n",
       "    <tr>\n",
       "      <th>12</th>\n",
       "      <td>How should a startup prioritize market develop...</td>\n",
       "      <td>A startup should prioritize market development...</td>\n",
       "      <td>[Competition risk — are there too many other s...</td>\n",
       "      <td>It is more important for a startup to aggressi...</td>\n",
       "      <td>0.750000</td>\n",
       "      <td>0.943478</td>\n",
       "      <td>0.0</td>\n",
       "      <td>1.000000</td>\n",
       "      <td>0.528033</td>\n",
       "    </tr>\n",
       "    <tr>\n",
       "      <th>13</th>\n",
       "      <td>How does inconsistency avoidance affect habit ...</td>\n",
       "      <td>Inconsistency avoidance affects habit modifica...</td>\n",
       "      <td>[less brain-blocked by its previous conclusion...</td>\n",
       "      <td>Inconsistency-Avoidance Tendency, which is the...</td>\n",
       "      <td>0.857143</td>\n",
       "      <td>1.000000</td>\n",
       "      <td>0.5</td>\n",
       "      <td>1.000000</td>\n",
       "      <td>0.414173</td>\n",
       "    </tr>\n",
       "    <tr>\n",
       "      <th>14</th>\n",
       "      <td>What is the correlation between startup team c...</td>\n",
       "      <td>The correlation between startup team caliber a...</td>\n",
       "      <td>[Let’s start by deXning terms.\\nThe caliber of...</td>\n",
       "      <td>The correlation between startup team caliber a...</td>\n",
       "      <td>0.500000</td>\n",
       "      <td>0.995648</td>\n",
       "      <td>1.0</td>\n",
       "      <td>0.000000</td>\n",
       "      <td>0.223105</td>\n",
       "    </tr>\n",
       "    <tr>\n",
       "      <th>15</th>\n",
       "      <td>What strategies can undergrads use to gain rea...</td>\n",
       "      <td>Undergrads can gain real-world experience befo...</td>\n",
       "      <td>[What should I do while I’m in school?\\nI’m a ...</td>\n",
       "      <td>Undergrads can gain real-world experience befo...</td>\n",
       "      <td>1.000000</td>\n",
       "      <td>0.981170</td>\n",
       "      <td>0.5</td>\n",
       "      <td>0.500000</td>\n",
       "      <td>0.654107</td>\n",
       "    </tr>\n",
       "    <tr>\n",
       "      <th>16</th>\n",
       "      <td>What causes people to quickly reduce uncertain...</td>\n",
       "      <td>The Doubt-Avoidance Tendency causes people to ...</td>\n",
       "      <td>[Four: Doubt-Avoidance Tendency\\nThe brain of ...</td>\n",
       "      <td>The tendency in humans to quickly reduce uncer...</td>\n",
       "      <td>1.000000</td>\n",
       "      <td>0.896324</td>\n",
       "      <td>1.0</td>\n",
       "      <td>0.916667</td>\n",
       "      <td>0.484698</td>\n",
       "    </tr>\n",
       "    <tr>\n",
       "      <th>17</th>\n",
       "      <td>How can a founder/CEO effectively manage and e...</td>\n",
       "      <td>A founder/CEO can effectively manage and empow...</td>\n",
       "      <td>[Managing\\nFirst, manage your executives.\\nIt’...</td>\n",
       "      <td>To effectively manage and empower executives, ...</td>\n",
       "      <td>0.000000</td>\n",
       "      <td>0.959264</td>\n",
       "      <td>0.0</td>\n",
       "      <td>1.000000</td>\n",
       "      <td>0.407418</td>\n",
       "    </tr>\n",
       "    <tr>\n",
       "      <th>18</th>\n",
       "      <td>According to \"A Perfect Mess,\" what tactic can...</td>\n",
       "      <td>Not keeping a schedule can lead to higher prod...</td>\n",
       "      <td>[Don’t keep a schedule\\nHe’s crazy, you say!\\n...</td>\n",
       "      <td>not keeping a schedule</td>\n",
       "      <td>0.000000</td>\n",
       "      <td>0.890551</td>\n",
       "      <td>1.0</td>\n",
       "      <td>1.000000</td>\n",
       "      <td>0.219294</td>\n",
       "    </tr>\n",
       "    <tr>\n",
       "      <th>19</th>\n",
       "      <td>How does commitment affect email organization ...</td>\n",
       "      <td>I don't know.</td>\n",
       "      <td>[inbox that haven’t been dealt with, I Xnd it ...</td>\n",
       "      <td>Commitment affects email organization and task...</td>\n",
       "      <td>0.000000</td>\n",
       "      <td>0.000000</td>\n",
       "      <td>0.0</td>\n",
       "      <td>0.500000</td>\n",
       "      <td>0.182265</td>\n",
       "    </tr>\n",
       "  </tbody>\n",
       "</table>\n",
       "</div>"
      ],
      "text/plain": [
       "                                             question  \\\n",
       "0   What is the importance of having a technical e...   \n",
       "1   How does the faster cycle time in startups mak...   \n",
       "2   What is the emotional incentive that founders ...   \n",
       "3   How does the quality of output in a creative c...   \n",
       "4   How does precociousness and longevity affect t...   \n",
       "5   What are some techniques that can help entrepr...   \n",
       "6   What are the potential consequences of not bei...   \n",
       "7   How can structured procrastination be used to ...   \n",
       "8   What criteria should be valued when evaluating...   \n",
       "9   What factors determine the peak age for creati...   \n",
       "10  How do technical degrees demonstrate commitmen...   \n",
       "11  How does perceived risk impact decision-making...   \n",
       "12  How should a startup prioritize market develop...   \n",
       "13  How does inconsistency avoidance affect habit ...   \n",
       "14  What is the correlation between startup team c...   \n",
       "15  What strategies can undergrads use to gain rea...   \n",
       "16  What causes people to quickly reduce uncertain...   \n",
       "17  How can a founder/CEO effectively manage and e...   \n",
       "18  According to \"A Perfect Mess,\" what tactic can...   \n",
       "19  How does commitment affect email organization ...   \n",
       "\n",
       "                                               answer  \\\n",
       "0   The importance of having a technical element i...   \n",
       "1   The faster cycle time in startups makes it eas...   \n",
       "2   Founders have an emotional incentive to see th...   \n",
       "3   The quality of output in a creative career rel...   \n",
       "4   Precociousness and longevity are positively as...   \n",
       "5   Pitching VCs and having a working product that...   \n",
       "6   Not raising enough money risks the survival of...   \n",
       "7   Structured procrastination can be used to acco...   \n",
       "8   Criteria: what to value when evaluating candid...   \n",
       "9   Possible intrinsic factors that could explain ...   \n",
       "10  Technical degrees demonstrate commitment to em...   \n",
       "11                                      I don't know.   \n",
       "12  A startup should prioritize market development...   \n",
       "13  Inconsistency avoidance affects habit modifica...   \n",
       "14  The correlation between startup team caliber a...   \n",
       "15  Undergrads can gain real-world experience befo...   \n",
       "16  The Doubt-Avoidance Tendency causes people to ...   \n",
       "17  A founder/CEO can effectively manage and empow...   \n",
       "18  Not keeping a schedule can lead to higher prod...   \n",
       "19                                      I don't know.   \n",
       "\n",
       "                                             contexts  \\\n",
       "0   [Which undergraduate degrees are useful in\\nth...   \n",
       "1   [product families or grow market share. This o...   \n",
       "2   [have an emotional incentive to see the compan...   \n",
       "3   [creator’s most distinguished work will appear...   \n",
       "4   [early, end late, and produce at above-average...   \n",
       "5   [If\\nyou\\nengage\\nin\\na\\nset\\nof\\nthese\\ntechn...   \n",
       "6   [Here’s why you shouldn’t do that:\\nWhat are t...   \n",
       "7   [standing.)\\nThe gist of Structured Procrastin...   \n",
       "8   [with — particularly for a startup.\\nI’m going...   \n",
       "9   [creator’s most distinguished work will appear...   \n",
       "10  [path to doing anything big.\\n•\\nPlus, technic...   \n",
       "11  [What are the layers of risk for a high-tech\\n...   \n",
       "12  [Competition risk — are there too many other s...   \n",
       "13  [less brain-blocked by its previous conclusion...   \n",
       "14  [Let’s start by deXning terms.\\nThe caliber of...   \n",
       "15  [What should I do while I’m in school?\\nI’m a ...   \n",
       "16  [Four: Doubt-Avoidance Tendency\\nThe brain of ...   \n",
       "17  [Managing\\nFirst, manage your executives.\\nIt’...   \n",
       "18  [Don’t keep a schedule\\nHe’s crazy, you say!\\n...   \n",
       "19  [inbox that haven’t been dealt with, I Xnd it ...   \n",
       "\n",
       "                                         ground_truth  faithfulness  \\\n",
       "0   Having a technical element in undergraduate de...      1.000000   \n",
       "1   The faster cycle time in startups makes it eas...      0.666667   \n",
       "2   Founders naturally have an emotional incentive...      1.000000   \n",
       "3   Quality of output in a creative career does no...      0.000000   \n",
       "4   The answer to given question is not present in...      1.000000   \n",
       "5   If you engage in a set of these techniques ove...      1.000000   \n",
       "6   Not being able to secure additional funding wh...      1.000000   \n",
       "7   Structured procrastination can be used to acco...      1.000000   \n",
       "8   Criteria that should be valued when evaluating...      1.000000   \n",
       "9   The expected age optimum for quantity and qual...      0.500000   \n",
       "10  Technical degrees demonstrate commitment to em...      0.500000   \n",
       "11  Perceived risk in a startup with multiple foun...           NaN   \n",
       "12  It is more important for a startup to aggressi...      0.750000   \n",
       "13  Inconsistency-Avoidance Tendency, which is the...      0.857143   \n",
       "14  The correlation between startup team caliber a...      0.500000   \n",
       "15  Undergrads can gain real-world experience befo...      1.000000   \n",
       "16  The tendency in humans to quickly reduce uncer...      1.000000   \n",
       "17  To effectively manage and empower executives, ...      0.000000   \n",
       "18                             not keeping a schedule      0.000000   \n",
       "19  Commitment affects email organization and task...      0.000000   \n",
       "\n",
       "    answer_relevancy  context_recall  context_precision  answer_correctness  \n",
       "0           1.000000             1.0           1.000000            0.454154  \n",
       "1           0.993744             0.0           0.750000            0.455512  \n",
       "2           0.945197             1.0           0.250000            0.998458  \n",
       "3           0.999998             0.0           1.000000            0.230813  \n",
       "4           0.954687             1.0           0.000000            0.176977  \n",
       "5           0.890365             1.0           1.000000            0.726996  \n",
       "6           0.935973             0.2           1.000000            0.480676  \n",
       "7           0.970069             1.0           1.000000            0.490186  \n",
       "8           0.909506             0.0           0.250000            0.221720  \n",
       "9           0.910477             1.0           0.916667            0.217767  \n",
       "10          0.838238             1.0           1.000000            0.516406  \n",
       "11          0.000000             0.2           0.500000            0.181761  \n",
       "12          0.943478             0.0           1.000000            0.528033  \n",
       "13          1.000000             0.5           1.000000            0.414173  \n",
       "14          0.995648             1.0           0.000000            0.223105  \n",
       "15          0.981170             0.5           0.500000            0.654107  \n",
       "16          0.896324             1.0           0.916667            0.484698  \n",
       "17          0.959264             0.0           1.000000            0.407418  \n",
       "18          0.890551             1.0           1.000000            0.219294  \n",
       "19          0.000000             0.0           0.500000            0.182265  "
      ]
     },
     "execution_count": 39,
     "metadata": {},
     "output_type": "execute_result"
    }
   ],
   "source": [
    "results_df = results.to_pandas()\n",
    "results_df"
   ]
  },
  {
   "cell_type": "markdown",
   "metadata": {},
   "source": [
    "# Task 2: Making Adjustments to our RAG Pipeline\n"
   ]
  },
  {
   "cell_type": "code",
   "execution_count": 40,
   "metadata": {},
   "outputs": [],
   "source": [
    "from langchain.retrievers import MultiQueryRetriever\n",
    "\n",
    "advanced_retriever = MultiQueryRetriever.from_llm(retriever=retriever, llm=primary_qa_llm)"
   ]
  },
  {
   "cell_type": "code",
   "execution_count": 41,
   "metadata": {},
   "outputs": [],
   "source": [
    "from langchain.chains.combine_documents import create_stuff_documents_chain\n",
    "\n",
    "document_chain = create_stuff_documents_chain(primary_qa_llm, retrieval_qa_prompt)"
   ]
  },
  {
   "cell_type": "code",
   "execution_count": 42,
   "metadata": {},
   "outputs": [],
   "source": [
    "from langchain.chains import create_retrieval_chain\n",
    "\n",
    "retrieval_chain = create_retrieval_chain(advanced_retriever, document_chain)"
   ]
  },
  {
   "cell_type": "code",
   "execution_count": 43,
   "metadata": {},
   "outputs": [],
   "source": [
    "response = retrieval_chain.invoke({\"input\": \"Who is Taylor Swift fueding with?\"})\n"
   ]
  },
  {
   "cell_type": "code",
   "execution_count": 44,
   "metadata": {},
   "outputs": [
    {
     "name": "stdout",
     "output_type": "stream",
     "text": [
      "I'm sorry, but based on the context provided, I cannot determine who Taylor Swift is feuding with.\n"
     ]
    }
   ],
   "source": [
    "print(response[\"answer\"])\n"
   ]
  },
  {
   "cell_type": "code",
   "execution_count": 45,
   "metadata": {},
   "outputs": [],
   "source": [
    "response = retrieval_chain.invoke({\"input\": \"Why are they fueding?\"})\n"
   ]
  },
  {
   "cell_type": "code",
   "execution_count": 46,
   "metadata": {},
   "outputs": [
    {
     "name": "stdout",
     "output_type": "stream",
     "text": [
      "The text does not provide any information about a feud or conflict between individuals or groups. It mainly discusses factors that contribute to success or failure in business, human behavior, and decision-making processes.\n"
     ]
    }
   ],
   "source": [
    "print(response[\"answer\"])\n"
   ]
  },
  {
   "cell_type": "code",
   "execution_count": 47,
   "metadata": {},
   "outputs": [],
   "source": [
    "answers = []\n",
    "contexts = []\n",
    "\n",
    "for question in test_questions:\n",
    "  response = retrieval_chain.invoke({\"input\" : question})\n",
    "  answers.append(response[\"answer\"])\n",
    "  contexts.append([context.page_content for context in response[\"context\"]])"
   ]
  },
  {
   "cell_type": "code",
   "execution_count": 48,
   "metadata": {},
   "outputs": [],
   "source": [
    "response_dataset_advanced_retrieval = Dataset.from_dict({\n",
    "    \"question\" : test_questions,\n",
    "    \"answer\" : answers,\n",
    "    \"contexts\" : contexts,\n",
    "    \"ground_truth\" : test_groundtruths\n",
    "})"
   ]
  },
  {
   "cell_type": "code",
   "execution_count": 50,
   "metadata": {},
   "outputs": [
    {
     "data": {
      "application/vnd.jupyter.widget-view+json": {
       "model_id": "089a64df5cdb4733ad0b19536e8a1d41",
       "version_major": 2,
       "version_minor": 0
      },
      "text/plain": [
       "Evaluating:   0%|          | 0/100 [00:00<?, ?it/s]"
      ]
     },
     "metadata": {},
     "output_type": "display_data"
    }
   ],
   "source": [
    "from ragas.run_config import RunConfig\n",
    "run_config = RunConfig(\n",
    "    timeout=60,\n",
    "    max_retries=10,\n",
    "    max_wait = 180, # default: 60\n",
    "    max_workers= 1, # default: 16 <--- I think this is the setting that ensures that there are no rate limit exceptions!\n",
    ")\n",
    "advanced_retrieval_results = evaluate(response_dataset_advanced_retrieval, metrics, run_config=run_config)\n"
   ]
  },
  {
   "cell_type": "code",
   "execution_count": 52,
   "metadata": {},
   "outputs": [
    {
     "data": {
      "text/plain": [
       "{'faithfulness': 0.8085, 'answer_relevancy': 0.8880, 'context_recall': 0.4828, 'context_precision': 0.7495, 'answer_correctness': 0.5415}"
      ]
     },
     "execution_count": 52,
     "metadata": {},
     "output_type": "execute_result"
    }
   ],
   "source": [
    "advanced_retrieval_results"
   ]
  },
  {
   "cell_type": "code",
   "execution_count": 51,
   "metadata": {},
   "outputs": [
    {
     "data": {
      "text/html": [
       "<div>\n",
       "<style scoped>\n",
       "    .dataframe tbody tr th:only-of-type {\n",
       "        vertical-align: middle;\n",
       "    }\n",
       "\n",
       "    .dataframe tbody tr th {\n",
       "        vertical-align: top;\n",
       "    }\n",
       "\n",
       "    .dataframe thead th {\n",
       "        text-align: right;\n",
       "    }\n",
       "</style>\n",
       "<table border=\"1\" class=\"dataframe\">\n",
       "  <thead>\n",
       "    <tr style=\"text-align: right;\">\n",
       "      <th></th>\n",
       "      <th>question</th>\n",
       "      <th>answer</th>\n",
       "      <th>contexts</th>\n",
       "      <th>ground_truth</th>\n",
       "      <th>faithfulness</th>\n",
       "      <th>answer_relevancy</th>\n",
       "      <th>context_recall</th>\n",
       "      <th>context_precision</th>\n",
       "      <th>answer_correctness</th>\n",
       "    </tr>\n",
       "  </thead>\n",
       "  <tbody>\n",
       "    <tr>\n",
       "      <th>0</th>\n",
       "      <td>What is the importance of having a technical e...</td>\n",
       "      <td>Having a technical element in undergraduate de...</td>\n",
       "      <td>[Which undergraduate degrees are useful in\\nth...</td>\n",
       "      <td>Having a technical element in undergraduate de...</td>\n",
       "      <td>1.000000</td>\n",
       "      <td>0.987819</td>\n",
       "      <td>1.000000</td>\n",
       "      <td>0.950000</td>\n",
       "      <td>0.881542</td>\n",
       "    </tr>\n",
       "    <tr>\n",
       "      <th>1</th>\n",
       "      <td>How does the faster cycle time in startups mak...</td>\n",
       "      <td>The faster cycle time in startups makes it eas...</td>\n",
       "      <td>[product families or grow market share. This o...</td>\n",
       "      <td>The faster cycle time in startups makes it eas...</td>\n",
       "      <td>0.428571</td>\n",
       "      <td>0.955483</td>\n",
       "      <td>0.000000</td>\n",
       "      <td>0.810000</td>\n",
       "      <td>0.377099</td>\n",
       "    </tr>\n",
       "    <tr>\n",
       "      <th>2</th>\n",
       "      <td>What is the emotional incentive that founders ...</td>\n",
       "      <td>Founders have an emotional incentive to see th...</td>\n",
       "      <td>[have an emotional incentive to see the compan...</td>\n",
       "      <td>Founders naturally have an emotional incentive...</td>\n",
       "      <td>1.000000</td>\n",
       "      <td>0.889491</td>\n",
       "      <td>1.000000</td>\n",
       "      <td>0.325000</td>\n",
       "      <td>0.741114</td>\n",
       "    </tr>\n",
       "    <tr>\n",
       "      <th>3</th>\n",
       "      <td>How does the quality of output in a creative c...</td>\n",
       "      <td>The quality of output in a creative career is ...</td>\n",
       "      <td>[the connection between productive precocity, ...</td>\n",
       "      <td>Quality of output in a creative career does no...</td>\n",
       "      <td>0.666667</td>\n",
       "      <td>0.949234</td>\n",
       "      <td>0.000000</td>\n",
       "      <td>0.866667</td>\n",
       "      <td>0.228545</td>\n",
       "    </tr>\n",
       "    <tr>\n",
       "      <th>4</th>\n",
       "      <td>How does precociousness and longevity affect t...</td>\n",
       "      <td>Creators who are precocious (showing early tal...</td>\n",
       "      <td>[creator’s most distinguished work will appear...</td>\n",
       "      <td>The answer to given question is not present in...</td>\n",
       "      <td>0.333333</td>\n",
       "      <td>0.945921</td>\n",
       "      <td>0.000000</td>\n",
       "      <td>0.000000</td>\n",
       "      <td>0.175416</td>\n",
       "    </tr>\n",
       "    <tr>\n",
       "      <th>5</th>\n",
       "      <td>What are some techniques that can help entrepr...</td>\n",
       "      <td>Some techniques that can help entrepreneurs en...</td>\n",
       "      <td>[venture capitalists for follow-on funding. It...</td>\n",
       "      <td>If you engage in a set of these techniques ove...</td>\n",
       "      <td>0.583333</td>\n",
       "      <td>0.978161</td>\n",
       "      <td>1.000000</td>\n",
       "      <td>0.770833</td>\n",
       "      <td>0.500679</td>\n",
       "    </tr>\n",
       "    <tr>\n",
       "      <th>6</th>\n",
       "      <td>What are the potential consequences of not bei...</td>\n",
       "      <td>Not being able to secure additional funding wh...</td>\n",
       "      <td>[Here’s why you shouldn’t do that:\\nWhat are t...</td>\n",
       "      <td>Not being able to secure additional funding wh...</td>\n",
       "      <td>1.000000</td>\n",
       "      <td>0.936073</td>\n",
       "      <td>0.200000</td>\n",
       "      <td>0.767857</td>\n",
       "      <td>0.521837</td>\n",
       "    </tr>\n",
       "    <tr>\n",
       "      <th>7</th>\n",
       "      <td>How can structured procrastination be used to ...</td>\n",
       "      <td>Structured procrastination can be used to acco...</td>\n",
       "      <td>[standing.)\\nThe gist of Structured Procrastin...</td>\n",
       "      <td>Structured procrastination can be used to acco...</td>\n",
       "      <td>1.000000</td>\n",
       "      <td>0.970069</td>\n",
       "      <td>1.000000</td>\n",
       "      <td>1.000000</td>\n",
       "      <td>0.742655</td>\n",
       "    </tr>\n",
       "    <tr>\n",
       "      <th>8</th>\n",
       "      <td>What criteria should be valued when evaluating...</td>\n",
       "      <td>When evaluating candidates for a startup, it i...</td>\n",
       "      <td>[with — particularly for a startup.\\nI’m going...</td>\n",
       "      <td>Criteria that should be valued when evaluating...</td>\n",
       "      <td>1.000000</td>\n",
       "      <td>0.997149</td>\n",
       "      <td>0.000000</td>\n",
       "      <td>0.444444</td>\n",
       "      <td>0.664004</td>\n",
       "    </tr>\n",
       "    <tr>\n",
       "      <th>9</th>\n",
       "      <td>What factors determine the peak age for creati...</td>\n",
       "      <td>The text mentions that there are possible intr...</td>\n",
       "      <td>[creator’s most distinguished work will appear...</td>\n",
       "      <td>The expected age optimum for quantity and qual...</td>\n",
       "      <td>0.666667</td>\n",
       "      <td>0.000000</td>\n",
       "      <td>0.000000</td>\n",
       "      <td>0.887500</td>\n",
       "      <td>0.216452</td>\n",
       "    </tr>\n",
       "    <tr>\n",
       "      <th>10</th>\n",
       "      <td>How do technical degrees demonstrate commitmen...</td>\n",
       "      <td>Technical degrees demonstrate commitment to em...</td>\n",
       "      <td>[path to doing anything big.\\n•\\nPlus, technic...</td>\n",
       "      <td>Technical degrees demonstrate commitment to em...</td>\n",
       "      <td>0.833333</td>\n",
       "      <td>0.943231</td>\n",
       "      <td>1.000000</td>\n",
       "      <td>1.000000</td>\n",
       "      <td>0.746325</td>\n",
       "    </tr>\n",
       "    <tr>\n",
       "      <th>11</th>\n",
       "      <td>How does perceived risk impact decision-making...</td>\n",
       "      <td>Perceived risk can impact decision-making in a...</td>\n",
       "      <td>[What are the layers of risk for a high-tech\\n...</td>\n",
       "      <td>Perceived risk in a startup with multiple foun...</td>\n",
       "      <td>1.000000</td>\n",
       "      <td>0.865828</td>\n",
       "      <td>0.400000</td>\n",
       "      <td>1.000000</td>\n",
       "      <td>0.431450</td>\n",
       "    </tr>\n",
       "    <tr>\n",
       "      <th>12</th>\n",
       "      <td>How should a startup prioritize market develop...</td>\n",
       "      <td>A startup should prioritize market development...</td>\n",
       "      <td>[Competition risk — are there too many other s...</td>\n",
       "      <td>It is more important for a startup to aggressi...</td>\n",
       "      <td>0.857143</td>\n",
       "      <td>0.924260</td>\n",
       "      <td>0.500000</td>\n",
       "      <td>1.000000</td>\n",
       "      <td>0.793462</td>\n",
       "    </tr>\n",
       "    <tr>\n",
       "      <th>13</th>\n",
       "      <td>How does inconsistency avoidance affect habit ...</td>\n",
       "      <td>Inconsistency-Avoidance Tendency, a concept di...</td>\n",
       "      <td>[less brain-blocked by its previous conclusion...</td>\n",
       "      <td>Inconsistency-Avoidance Tendency, which is the...</td>\n",
       "      <td>1.000000</td>\n",
       "      <td>0.936141</td>\n",
       "      <td>0.500000</td>\n",
       "      <td>1.000000</td>\n",
       "      <td>0.661416</td>\n",
       "    </tr>\n",
       "    <tr>\n",
       "      <th>14</th>\n",
       "      <td>What is the correlation between startup team c...</td>\n",
       "      <td>The caliber of a startup team can significantl...</td>\n",
       "      <td>[Let’s start by deXning terms.\\nThe caliber of...</td>\n",
       "      <td>The correlation between startup team caliber a...</td>\n",
       "      <td>1.000000</td>\n",
       "      <td>0.904366</td>\n",
       "      <td>1.000000</td>\n",
       "      <td>0.000000</td>\n",
       "      <td>0.216056</td>\n",
       "    </tr>\n",
       "    <tr>\n",
       "      <th>15</th>\n",
       "      <td>What strategies can undergrads use to gain rea...</td>\n",
       "      <td>Undergrads can gain real-world experience befo...</td>\n",
       "      <td>[What should I do while I’m in school?\\nI’m a ...</td>\n",
       "      <td>Undergrads can gain real-world experience befo...</td>\n",
       "      <td>1.000000</td>\n",
       "      <td>0.973271</td>\n",
       "      <td>0.500000</td>\n",
       "      <td>0.950000</td>\n",
       "      <td>0.657991</td>\n",
       "    </tr>\n",
       "    <tr>\n",
       "      <th>16</th>\n",
       "      <td>What causes people to quickly reduce uncertain...</td>\n",
       "      <td>The Doubt-Avoidance Tendency is a programmed t...</td>\n",
       "      <td>[Four: Doubt-Avoidance Tendency\\nThe brain of ...</td>\n",
       "      <td>The tendency in humans to quickly reduce uncer...</td>\n",
       "      <td>1.000000</td>\n",
       "      <td>0.889881</td>\n",
       "      <td>1.000000</td>\n",
       "      <td>1.000000</td>\n",
       "      <td>0.572868</td>\n",
       "    </tr>\n",
       "    <tr>\n",
       "      <th>17</th>\n",
       "      <td>How can a founder/CEO effectively manage and e...</td>\n",
       "      <td>A founder/CEO can effectively manage and empow...</td>\n",
       "      <td>[Managing\\nFirst, manage your executives.\\nIt’...</td>\n",
       "      <td>To effectively manage and empower executives, ...</td>\n",
       "      <td>0.800000</td>\n",
       "      <td>0.948877</td>\n",
       "      <td>0.000000</td>\n",
       "      <td>1.000000</td>\n",
       "      <td>0.324108</td>\n",
       "    </tr>\n",
       "    <tr>\n",
       "      <th>18</th>\n",
       "      <td>According to \"A Perfect Mess,\" what tactic can...</td>\n",
       "      <td>According to \"A Perfect Mess,\" not keeping a s...</td>\n",
       "      <td>[By not keeping a schedule, I mean: refuse to ...</td>\n",
       "      <td>not keeping a schedule</td>\n",
       "      <td>0.000000</td>\n",
       "      <td>0.924776</td>\n",
       "      <td>0.555556</td>\n",
       "      <td>0.926667</td>\n",
       "      <td>0.719547</td>\n",
       "    </tr>\n",
       "    <tr>\n",
       "      <th>19</th>\n",
       "      <td>How does commitment affect email organization ...</td>\n",
       "      <td>By not keeping a schedule and refusing to comm...</td>\n",
       "      <td>[By not keeping a schedule, I mean: refuse to ...</td>\n",
       "      <td>Commitment affects email organization and task...</td>\n",
       "      <td>1.000000</td>\n",
       "      <td>0.840451</td>\n",
       "      <td>0.000000</td>\n",
       "      <td>0.291667</td>\n",
       "      <td>0.657874</td>\n",
       "    </tr>\n",
       "  </tbody>\n",
       "</table>\n",
       "</div>"
      ],
      "text/plain": [
       "                                             question  \\\n",
       "0   What is the importance of having a technical e...   \n",
       "1   How does the faster cycle time in startups mak...   \n",
       "2   What is the emotional incentive that founders ...   \n",
       "3   How does the quality of output in a creative c...   \n",
       "4   How does precociousness and longevity affect t...   \n",
       "5   What are some techniques that can help entrepr...   \n",
       "6   What are the potential consequences of not bei...   \n",
       "7   How can structured procrastination be used to ...   \n",
       "8   What criteria should be valued when evaluating...   \n",
       "9   What factors determine the peak age for creati...   \n",
       "10  How do technical degrees demonstrate commitmen...   \n",
       "11  How does perceived risk impact decision-making...   \n",
       "12  How should a startup prioritize market develop...   \n",
       "13  How does inconsistency avoidance affect habit ...   \n",
       "14  What is the correlation between startup team c...   \n",
       "15  What strategies can undergrads use to gain rea...   \n",
       "16  What causes people to quickly reduce uncertain...   \n",
       "17  How can a founder/CEO effectively manage and e...   \n",
       "18  According to \"A Perfect Mess,\" what tactic can...   \n",
       "19  How does commitment affect email organization ...   \n",
       "\n",
       "                                               answer  \\\n",
       "0   Having a technical element in undergraduate de...   \n",
       "1   The faster cycle time in startups makes it eas...   \n",
       "2   Founders have an emotional incentive to see th...   \n",
       "3   The quality of output in a creative career is ...   \n",
       "4   Creators who are precocious (showing early tal...   \n",
       "5   Some techniques that can help entrepreneurs en...   \n",
       "6   Not being able to secure additional funding wh...   \n",
       "7   Structured procrastination can be used to acco...   \n",
       "8   When evaluating candidates for a startup, it i...   \n",
       "9   The text mentions that there are possible intr...   \n",
       "10  Technical degrees demonstrate commitment to em...   \n",
       "11  Perceived risk can impact decision-making in a...   \n",
       "12  A startup should prioritize market development...   \n",
       "13  Inconsistency-Avoidance Tendency, a concept di...   \n",
       "14  The caliber of a startup team can significantl...   \n",
       "15  Undergrads can gain real-world experience befo...   \n",
       "16  The Doubt-Avoidance Tendency is a programmed t...   \n",
       "17  A founder/CEO can effectively manage and empow...   \n",
       "18  According to \"A Perfect Mess,\" not keeping a s...   \n",
       "19  By not keeping a schedule and refusing to comm...   \n",
       "\n",
       "                                             contexts  \\\n",
       "0   [Which undergraduate degrees are useful in\\nth...   \n",
       "1   [product families or grow market share. This o...   \n",
       "2   [have an emotional incentive to see the compan...   \n",
       "3   [the connection between productive precocity, ...   \n",
       "4   [creator’s most distinguished work will appear...   \n",
       "5   [venture capitalists for follow-on funding. It...   \n",
       "6   [Here’s why you shouldn’t do that:\\nWhat are t...   \n",
       "7   [standing.)\\nThe gist of Structured Procrastin...   \n",
       "8   [with — particularly for a startup.\\nI’m going...   \n",
       "9   [creator’s most distinguished work will appear...   \n",
       "10  [path to doing anything big.\\n•\\nPlus, technic...   \n",
       "11  [What are the layers of risk for a high-tech\\n...   \n",
       "12  [Competition risk — are there too many other s...   \n",
       "13  [less brain-blocked by its previous conclusion...   \n",
       "14  [Let’s start by deXning terms.\\nThe caliber of...   \n",
       "15  [What should I do while I’m in school?\\nI’m a ...   \n",
       "16  [Four: Doubt-Avoidance Tendency\\nThe brain of ...   \n",
       "17  [Managing\\nFirst, manage your executives.\\nIt’...   \n",
       "18  [By not keeping a schedule, I mean: refuse to ...   \n",
       "19  [By not keeping a schedule, I mean: refuse to ...   \n",
       "\n",
       "                                         ground_truth  faithfulness  \\\n",
       "0   Having a technical element in undergraduate de...      1.000000   \n",
       "1   The faster cycle time in startups makes it eas...      0.428571   \n",
       "2   Founders naturally have an emotional incentive...      1.000000   \n",
       "3   Quality of output in a creative career does no...      0.666667   \n",
       "4   The answer to given question is not present in...      0.333333   \n",
       "5   If you engage in a set of these techniques ove...      0.583333   \n",
       "6   Not being able to secure additional funding wh...      1.000000   \n",
       "7   Structured procrastination can be used to acco...      1.000000   \n",
       "8   Criteria that should be valued when evaluating...      1.000000   \n",
       "9   The expected age optimum for quantity and qual...      0.666667   \n",
       "10  Technical degrees demonstrate commitment to em...      0.833333   \n",
       "11  Perceived risk in a startup with multiple foun...      1.000000   \n",
       "12  It is more important for a startup to aggressi...      0.857143   \n",
       "13  Inconsistency-Avoidance Tendency, which is the...      1.000000   \n",
       "14  The correlation between startup team caliber a...      1.000000   \n",
       "15  Undergrads can gain real-world experience befo...      1.000000   \n",
       "16  The tendency in humans to quickly reduce uncer...      1.000000   \n",
       "17  To effectively manage and empower executives, ...      0.800000   \n",
       "18                             not keeping a schedule      0.000000   \n",
       "19  Commitment affects email organization and task...      1.000000   \n",
       "\n",
       "    answer_relevancy  context_recall  context_precision  answer_correctness  \n",
       "0           0.987819        1.000000           0.950000            0.881542  \n",
       "1           0.955483        0.000000           0.810000            0.377099  \n",
       "2           0.889491        1.000000           0.325000            0.741114  \n",
       "3           0.949234        0.000000           0.866667            0.228545  \n",
       "4           0.945921        0.000000           0.000000            0.175416  \n",
       "5           0.978161        1.000000           0.770833            0.500679  \n",
       "6           0.936073        0.200000           0.767857            0.521837  \n",
       "7           0.970069        1.000000           1.000000            0.742655  \n",
       "8           0.997149        0.000000           0.444444            0.664004  \n",
       "9           0.000000        0.000000           0.887500            0.216452  \n",
       "10          0.943231        1.000000           1.000000            0.746325  \n",
       "11          0.865828        0.400000           1.000000            0.431450  \n",
       "12          0.924260        0.500000           1.000000            0.793462  \n",
       "13          0.936141        0.500000           1.000000            0.661416  \n",
       "14          0.904366        1.000000           0.000000            0.216056  \n",
       "15          0.973271        0.500000           0.950000            0.657991  \n",
       "16          0.889881        1.000000           1.000000            0.572868  \n",
       "17          0.948877        0.000000           1.000000            0.324108  \n",
       "18          0.924776        0.555556           0.926667            0.719547  \n",
       "19          0.840451        0.000000           0.291667            0.657874  "
      ]
     },
     "execution_count": 51,
     "metadata": {},
     "output_type": "execute_result"
    }
   ],
   "source": [
    "advanced_retrieval_results_df = advanced_retrieval_results.to_pandas()\n",
    "advanced_retrieval_results_df"
   ]
  },
  {
   "cell_type": "markdown",
   "metadata": {},
   "source": [
    "# Task 3: Evaluating our Adjusted Pipeline Against Our Baseline"
   ]
  },
  {
   "cell_type": "code",
   "execution_count": 53,
   "metadata": {},
   "outputs": [
    {
     "data": {
      "text/plain": [
       "{'faithfulness': 0.6723, 'answer_relevancy': 0.8507, 'context_recall': 0.5700, 'context_precision': 0.7292, 'answer_correctness': 0.4132}"
      ]
     },
     "execution_count": 53,
     "metadata": {},
     "output_type": "execute_result"
    }
   ],
   "source": [
    "results"
   ]
  },
  {
   "cell_type": "code",
   "execution_count": 54,
   "metadata": {},
   "outputs": [
    {
     "data": {
      "text/plain": [
       "{'faithfulness': 0.8085, 'answer_relevancy': 0.8880, 'context_recall': 0.4828, 'context_precision': 0.7495, 'answer_correctness': 0.5415}"
      ]
     },
     "execution_count": 54,
     "metadata": {},
     "output_type": "execute_result"
    }
   ],
   "source": [
    "advanced_retrieval_results"
   ]
  },
  {
   "cell_type": "code",
   "execution_count": 55,
   "metadata": {},
   "outputs": [
    {
     "data": {
      "text/html": [
       "<div>\n",
       "<style scoped>\n",
       "    .dataframe tbody tr th:only-of-type {\n",
       "        vertical-align: middle;\n",
       "    }\n",
       "\n",
       "    .dataframe tbody tr th {\n",
       "        vertical-align: top;\n",
       "    }\n",
       "\n",
       "    .dataframe thead th {\n",
       "        text-align: right;\n",
       "    }\n",
       "</style>\n",
       "<table border=\"1\" class=\"dataframe\">\n",
       "  <thead>\n",
       "    <tr style=\"text-align: right;\">\n",
       "      <th></th>\n",
       "      <th>Metric</th>\n",
       "      <th>Baseline</th>\n",
       "      <th>MultiQueryRetriever with Document Stuffing</th>\n",
       "      <th>Delta</th>\n",
       "    </tr>\n",
       "  </thead>\n",
       "  <tbody>\n",
       "    <tr>\n",
       "      <th>0</th>\n",
       "      <td>faithfulness</td>\n",
       "      <td>0.672306</td>\n",
       "      <td>0.808452</td>\n",
       "      <td>0.136147</td>\n",
       "    </tr>\n",
       "    <tr>\n",
       "      <th>1</th>\n",
       "      <td>answer_relevancy</td>\n",
       "      <td>0.850735</td>\n",
       "      <td>0.888024</td>\n",
       "      <td>0.037289</td>\n",
       "    </tr>\n",
       "    <tr>\n",
       "      <th>2</th>\n",
       "      <td>context_recall</td>\n",
       "      <td>0.570000</td>\n",
       "      <td>0.482778</td>\n",
       "      <td>-0.087222</td>\n",
       "    </tr>\n",
       "    <tr>\n",
       "      <th>3</th>\n",
       "      <td>context_precision</td>\n",
       "      <td>0.729167</td>\n",
       "      <td>0.749532</td>\n",
       "      <td>0.020365</td>\n",
       "    </tr>\n",
       "    <tr>\n",
       "      <th>4</th>\n",
       "      <td>answer_correctness</td>\n",
       "      <td>0.413226</td>\n",
       "      <td>0.541522</td>\n",
       "      <td>0.128296</td>\n",
       "    </tr>\n",
       "  </tbody>\n",
       "</table>\n",
       "</div>"
      ],
      "text/plain": [
       "               Metric  Baseline  MultiQueryRetriever with Document Stuffing  \\\n",
       "0        faithfulness  0.672306                                    0.808452   \n",
       "1    answer_relevancy  0.850735                                    0.888024   \n",
       "2      context_recall  0.570000                                    0.482778   \n",
       "3   context_precision  0.729167                                    0.749532   \n",
       "4  answer_correctness  0.413226                                    0.541522   \n",
       "\n",
       "      Delta  \n",
       "0  0.136147  \n",
       "1  0.037289  \n",
       "2 -0.087222  \n",
       "3  0.020365  \n",
       "4  0.128296  "
      ]
     },
     "execution_count": 55,
     "metadata": {},
     "output_type": "execute_result"
    }
   ],
   "source": [
    "import pandas as pd\n",
    "\n",
    "df_original = pd.DataFrame(list(results.items()), columns=['Metric', 'Baseline'])\n",
    "df_comparison = pd.DataFrame(list(advanced_retrieval_results.items()), columns=['Metric', 'MultiQueryRetriever with Document Stuffing'])\n",
    "\n",
    "df_merged = pd.merge(df_original, df_comparison, on='Metric')\n",
    "\n",
    "df_merged['Delta'] = df_merged['MultiQueryRetriever with Document Stuffing'] - df_merged['Baseline']\n",
    "\n",
    "df_merged"
   ]
  },
  {
   "cell_type": "markdown",
   "metadata": {},
   "source": [
    "# Task 4: Testing OpenAI's Claim"
   ]
  },
  {
   "cell_type": "code",
   "execution_count": 56,
   "metadata": {},
   "outputs": [],
   "source": [
    "new_embeddings_model = OpenAIEmbeddings(model=\"text-embedding-3-small\") # <--- This is the new embedding model that we are going to use to generate embeddings for the documents and queries."
   ]
  },
  {
   "cell_type": "code",
   "execution_count": 57,
   "metadata": {},
   "outputs": [],
   "source": [
    "vector_store = Qdrant.from_documents(\n",
    "    documents,\n",
    "    new_embeddings_model,\n",
    "    location=\":memory:\",\n",
    "    collection_name=\"PMarca Blogs - TE3 - MQR\",\n",
    ") # <--- Qdrant vector store to generate embeddings for documents based on `text-embedding-3-small` and store them in memory."
   ]
  },
  {
   "cell_type": "code",
   "execution_count": 58,
   "metadata": {},
   "outputs": [],
   "source": [
    "new_retriever = vector_store.as_retriever() # <--- Vectore store will be used as a retriever of context to add in prompt. Context is retrieved based on the closest embeddings to the question."
   ]
  },
  {
   "cell_type": "code",
   "execution_count": 59,
   "metadata": {},
   "outputs": [],
   "source": [
    "new_advanced_retriever = MultiQueryRetriever.from_llm(retriever=new_retriever, llm=primary_qa_llm) # Pass the new_retriever to the MultiQueryRetriever. "
   ]
  },
  {
   "cell_type": "code",
   "execution_count": 60,
   "metadata": {},
   "outputs": [],
   "source": [
    "new_retrieval_chain = create_retrieval_chain(new_advanced_retriever, document_chain) # <--- This is the new retrieval chain that we are going to use"
   ]
  },
  {
   "cell_type": "code",
   "execution_count": 61,
   "metadata": {},
   "outputs": [],
   "source": [
    "# Generate answers for the test questions using the new retrieval chain. Store answers and their contexts in lists.\n",
    "answers = []\n",
    "contexts = []\n",
    "\n",
    "for question in test_questions:\n",
    "  response = new_retrieval_chain.invoke({\"input\" : question})\n",
    "  answers.append(response[\"answer\"])\n",
    "  contexts.append([context.page_content for context in response[\"context\"]])"
   ]
  },
  {
   "cell_type": "code",
   "execution_count": 62,
   "metadata": {},
   "outputs": [],
   "source": [
    "# Add test questions, answers, contexts and ground truths to the HuggingFace dataset.\n",
    "new_response_dataset_advanced_retrieval = Dataset.from_dict({\n",
    "    \"question\" : test_questions,\n",
    "    \"answer\" : answers,\n",
    "    \"contexts\" : contexts,\n",
    "    \"ground_truth\" : test_groundtruths\n",
    "})"
   ]
  },
  {
   "cell_type": "code",
   "execution_count": 63,
   "metadata": {},
   "outputs": [
    {
     "data": {
      "application/vnd.jupyter.widget-view+json": {
       "model_id": "bac11ac99f2740d5864deb6f041272f7",
       "version_major": 2,
       "version_minor": 0
      },
      "text/plain": [
       "Evaluating:   0%|          | 0/100 [00:00<?, ?it/s]"
      ]
     },
     "metadata": {},
     "output_type": "display_data"
    }
   ],
   "source": [
    "# Run Ragas evaluation on the new dataset to get the results.\n",
    "new_advanced_retrieval_results = evaluate(new_response_dataset_advanced_retrieval, metrics, run_config=run_config)\n"
   ]
  },
  {
   "cell_type": "code",
   "execution_count": 64,
   "metadata": {},
   "outputs": [
    {
     "data": {
      "text/plain": [
       "{'faithfulness': 0.8054, 'answer_relevancy': 0.9347, 'context_recall': 0.4725, 'context_precision': 0.6653, 'answer_correctness': 0.4469}"
      ]
     },
     "execution_count": 64,
     "metadata": {},
     "output_type": "execute_result"
    }
   ],
   "source": [
    "new_advanced_retrieval_results"
   ]
  },
  {
   "cell_type": "code",
   "execution_count": 65,
   "metadata": {},
   "outputs": [
    {
     "data": {
      "text/html": [
       "<div>\n",
       "<style scoped>\n",
       "    .dataframe tbody tr th:only-of-type {\n",
       "        vertical-align: middle;\n",
       "    }\n",
       "\n",
       "    .dataframe tbody tr th {\n",
       "        vertical-align: top;\n",
       "    }\n",
       "\n",
       "    .dataframe thead th {\n",
       "        text-align: right;\n",
       "    }\n",
       "</style>\n",
       "<table border=\"1\" class=\"dataframe\">\n",
       "  <thead>\n",
       "    <tr style=\"text-align: right;\">\n",
       "      <th></th>\n",
       "      <th>Metric</th>\n",
       "      <th>ADA + Baseline</th>\n",
       "      <th>ADA + MQR</th>\n",
       "      <th>TE3 + MQR</th>\n",
       "      <th>ADA + MQR -&gt; TE3 + MQR</th>\n",
       "      <th>Baseline -&gt; TE3 + MQR</th>\n",
       "    </tr>\n",
       "  </thead>\n",
       "  <tbody>\n",
       "    <tr>\n",
       "      <th>0</th>\n",
       "      <td>faithfulness</td>\n",
       "      <td>0.672306</td>\n",
       "      <td>0.808452</td>\n",
       "      <td>0.805417</td>\n",
       "      <td>-0.003036</td>\n",
       "      <td>0.133111</td>\n",
       "    </tr>\n",
       "    <tr>\n",
       "      <th>1</th>\n",
       "      <td>answer_relevancy</td>\n",
       "      <td>0.850735</td>\n",
       "      <td>0.888024</td>\n",
       "      <td>0.934680</td>\n",
       "      <td>0.046656</td>\n",
       "      <td>0.083946</td>\n",
       "    </tr>\n",
       "    <tr>\n",
       "      <th>2</th>\n",
       "      <td>context_recall</td>\n",
       "      <td>0.570000</td>\n",
       "      <td>0.482778</td>\n",
       "      <td>0.472500</td>\n",
       "      <td>-0.010278</td>\n",
       "      <td>-0.097500</td>\n",
       "    </tr>\n",
       "    <tr>\n",
       "      <th>3</th>\n",
       "      <td>context_precision</td>\n",
       "      <td>0.729167</td>\n",
       "      <td>0.749532</td>\n",
       "      <td>0.665262</td>\n",
       "      <td>-0.084270</td>\n",
       "      <td>-0.063905</td>\n",
       "    </tr>\n",
       "    <tr>\n",
       "      <th>4</th>\n",
       "      <td>answer_correctness</td>\n",
       "      <td>0.413226</td>\n",
       "      <td>0.541522</td>\n",
       "      <td>0.446936</td>\n",
       "      <td>-0.094586</td>\n",
       "      <td>0.033710</td>\n",
       "    </tr>\n",
       "  </tbody>\n",
       "</table>\n",
       "</div>"
      ],
      "text/plain": [
       "               Metric  ADA + Baseline  ADA + MQR  TE3 + MQR  \\\n",
       "0        faithfulness        0.672306   0.808452   0.805417   \n",
       "1    answer_relevancy        0.850735   0.888024   0.934680   \n",
       "2      context_recall        0.570000   0.482778   0.472500   \n",
       "3   context_precision        0.729167   0.749532   0.665262   \n",
       "4  answer_correctness        0.413226   0.541522   0.446936   \n",
       "\n",
       "   ADA + MQR -> TE3 + MQR  Baseline -> TE3 + MQR  \n",
       "0               -0.003036               0.133111  \n",
       "1                0.046656               0.083946  \n",
       "2               -0.010278              -0.097500  \n",
       "3               -0.084270              -0.063905  \n",
       "4               -0.094586               0.033710  "
      ]
     },
     "execution_count": 65,
     "metadata": {},
     "output_type": "execute_result"
    }
   ],
   "source": [
    "df_baseline = pd.DataFrame(list(results.items()), columns=['Metric', 'ADA + Baseline'])\n",
    "df_original = pd.DataFrame(list(advanced_retrieval_results.items()), columns=['Metric', 'ADA + MQR'])\n",
    "df_comparison = pd.DataFrame(list(new_advanced_retrieval_results.items()), columns=['Metric', 'TE3 + MQR'])\n",
    "\n",
    "df_merged = pd.merge(df_original, df_comparison, on='Metric')\n",
    "df_merged = pd.merge(df_baseline, df_merged, on=\"Metric\")\n",
    "\n",
    "df_merged['ADA + MQR -> TE3 + MQR'] = df_merged['TE3 + MQR'] - df_merged['ADA + MQR']\n",
    "df_merged['Baseline -> TE3 + MQR'] = df_merged['TE3 + MQR'] - df_merged['ADA + Baseline']\n",
    "\n",
    "df_merged"
   ]
  },
  {
   "cell_type": "markdown",
   "metadata": {},
   "source": [
    "# ❓ Question #4:\n",
    "Do you think, in your opinion, text-embedding-3-small is significantly better than ada?\n",
    "\n",
    "I am seeing deprovement from ADA to TE3 in 4 metrics, so I feel like text-embedding-3-small is not better than ada. Maybe there is some issue with my pipeline and I need to rerun it as seems like everyone else noticed an improvement.\n",
    "\n",
    "1. faithfulness, decreased 0.3%\n",
    "2.\tanswer_relevancy, increase 4.6%\n",
    "3.\tcontext_recall, decreased 1.0%\n",
    "4.\tcontext_precision, decreased 8.4%\n",
    "5.\tanswer_correctness, decreased 9.4%"
   ]
  },
  {
   "cell_type": "markdown",
   "metadata": {},
   "source": [
    "# BONUS ACTIVITY: Using a Better Generator"
   ]
  },
  {
   "cell_type": "code",
   "execution_count": 73,
   "metadata": {},
   "outputs": [],
   "source": [
    "gpt4o_llm = ChatOpenAI(model_name=\"gpt-4o\")\n",
    "gpt4o_retriever = MultiQueryRetriever.from_llm(retriever=new_retriever, llm=gpt4o_llm)\n",
    "gpt4o_retrieval_chain = create_retrieval_chain(gpt4o_retriever, document_chain)\n",
    "\n",
    "gpt4o_answers = []\n",
    "gpt4o_contexts = []\n",
    "for question in test_questions:\n",
    "  response = gpt4o_retrieval_chain.invoke({\"input\" : question})\n",
    "  gpt4o_answers.append(response[\"answer\"])\n",
    "  gpt4o_contexts.append([context.page_content for context in response[\"context\"]])"
   ]
  },
  {
   "cell_type": "code",
   "execution_count": 74,
   "metadata": {},
   "outputs": [],
   "source": [
    "gpt4o_response_dataset_advanced_retrieval = Dataset.from_dict({\n",
    "    \"question\" : test_questions,\n",
    "    \"answer\" : gpt4o_answers,\n",
    "    \"contexts\" : gpt4o_contexts,\n",
    "    \"ground_truth\" : test_groundtruths\n",
    "})    "
   ]
  },
  {
   "cell_type": "code",
   "execution_count": 67,
   "metadata": {},
   "outputs": [
    {
     "data": {
      "application/vnd.jupyter.widget-view+json": {
       "model_id": "1920b125480448bcaea8ce6ec18b1979",
       "version_major": 2,
       "version_minor": 0
      },
      "text/plain": [
       "Evaluating:   0%|          | 0/100 [00:00<?, ?it/s]"
      ]
     },
     "metadata": {},
     "output_type": "display_data"
    },
    {
     "name": "stdout",
     "output_type": "stream",
     "text": [
      "{'faithfulness': 0.8054, 'answer_relevancy': 0.9347, 'context_recall': 0.4725, 'context_precision': 0.6653, 'answer_correctness': 0.4469}\n"
     ]
    }
   ],
   "source": [
    "gpt4o_advanced_retrieval_results = evaluate(gpt4o_response_dataset_advanced_retrieval, metrics, run_config=run_config)"
   ]
  },
  {
   "cell_type": "code",
   "execution_count": 70,
   "metadata": {},
   "outputs": [
    {
     "data": {
      "text/plain": [
       "{'faithfulness': 0.8054, 'answer_relevancy': 0.9347, 'context_recall': 0.4725, 'context_precision': 0.6653, 'answer_correctness': 0.4469}"
      ]
     },
     "execution_count": 70,
     "metadata": {},
     "output_type": "execute_result"
    }
   ],
   "source": [
    "new_advanced_retrieval_results"
   ]
  },
  {
   "cell_type": "code",
   "execution_count": 71,
   "metadata": {},
   "outputs": [
    {
     "data": {
      "text/html": [
       "<div>\n",
       "<style scoped>\n",
       "    .dataframe tbody tr th:only-of-type {\n",
       "        vertical-align: middle;\n",
       "    }\n",
       "\n",
       "    .dataframe tbody tr th {\n",
       "        vertical-align: top;\n",
       "    }\n",
       "\n",
       "    .dataframe thead th {\n",
       "        text-align: right;\n",
       "    }\n",
       "</style>\n",
       "<table border=\"1\" class=\"dataframe\">\n",
       "  <thead>\n",
       "    <tr style=\"text-align: right;\">\n",
       "      <th></th>\n",
       "      <th>Metric</th>\n",
       "      <th>ADA + Baseline</th>\n",
       "      <th>ADA + MQR</th>\n",
       "      <th>TE3 + MQR</th>\n",
       "      <th>TE3 + MQR (GPT4o)</th>\n",
       "      <th>TE3 + MQR -&gt; TE3 + MQR (GPT4o)</th>\n",
       "    </tr>\n",
       "  </thead>\n",
       "  <tbody>\n",
       "    <tr>\n",
       "      <th>0</th>\n",
       "      <td>faithfulness</td>\n",
       "      <td>0.672306</td>\n",
       "      <td>0.808452</td>\n",
       "      <td>0.805417</td>\n",
       "      <td>0.854167</td>\n",
       "      <td>0.048750</td>\n",
       "    </tr>\n",
       "    <tr>\n",
       "      <th>1</th>\n",
       "      <td>answer_relevancy</td>\n",
       "      <td>0.850735</td>\n",
       "      <td>0.888024</td>\n",
       "      <td>0.934680</td>\n",
       "      <td>0.919956</td>\n",
       "      <td>-0.014724</td>\n",
       "    </tr>\n",
       "    <tr>\n",
       "      <th>2</th>\n",
       "      <td>context_recall</td>\n",
       "      <td>0.570000</td>\n",
       "      <td>0.482778</td>\n",
       "      <td>0.472500</td>\n",
       "      <td>0.605000</td>\n",
       "      <td>0.132500</td>\n",
       "    </tr>\n",
       "    <tr>\n",
       "      <th>3</th>\n",
       "      <td>context_precision</td>\n",
       "      <td>0.729167</td>\n",
       "      <td>0.749532</td>\n",
       "      <td>0.665262</td>\n",
       "      <td>0.723209</td>\n",
       "      <td>0.057947</td>\n",
       "    </tr>\n",
       "    <tr>\n",
       "      <th>4</th>\n",
       "      <td>answer_correctness</td>\n",
       "      <td>0.413226</td>\n",
       "      <td>0.541522</td>\n",
       "      <td>0.446936</td>\n",
       "      <td>0.465185</td>\n",
       "      <td>0.018250</td>\n",
       "    </tr>\n",
       "  </tbody>\n",
       "</table>\n",
       "</div>"
      ],
      "text/plain": [
       "               Metric  ADA + Baseline  ADA + MQR  TE3 + MQR  \\\n",
       "0        faithfulness        0.672306   0.808452   0.805417   \n",
       "1    answer_relevancy        0.850735   0.888024   0.934680   \n",
       "2      context_recall        0.570000   0.482778   0.472500   \n",
       "3   context_precision        0.729167   0.749532   0.665262   \n",
       "4  answer_correctness        0.413226   0.541522   0.446936   \n",
       "\n",
       "   TE3 + MQR (GPT4o)  TE3 + MQR -> TE3 + MQR (GPT4o)  \n",
       "0           0.854167                        0.048750  \n",
       "1           0.919956                       -0.014724  \n",
       "2           0.605000                        0.132500  \n",
       "3           0.723209                        0.057947  \n",
       "4           0.465185                        0.018250  "
      ]
     },
     "execution_count": 71,
     "metadata": {},
     "output_type": "execute_result"
    }
   ],
   "source": [
    "df_baseline = pd.DataFrame(list(results.items()), columns=['Metric', 'ADA + Baseline'])\n",
    "df_original = pd.DataFrame(list(advanced_retrieval_results.items()), columns=['Metric', 'ADA + MQR'])\n",
    "df_comparison = pd.DataFrame(list(new_advanced_retrieval_results.items()), columns=['Metric', 'TE3 + MQR'])\n",
    "df_comparison2 = pd.DataFrame(list(gpt4o_advanced_retrieval_results.items()), columns=['Metric', 'TE3 + MQR (GPT4o)'])\n",
    "df_merged = pd.merge(df_original, df_comparison, on='Metric')\n",
    "df_merged = pd.merge(df_baseline, df_merged, on=\"Metric\")\n",
    "df_merged = pd.merge(df_merged, df_comparison2, on=\"Metric\")\n",
    "df_merged['TE3 + MQR -> TE3 + MQR (GPT4o)'] = df_merged['TE3 + MQR (GPT4o)'] - df_merged['TE3 + MQR']\n",
    "\n",
    "df_merged"
   ]
  },
  {
   "cell_type": "markdown",
   "metadata": {},
   "source": [
    "From the above results, it seems like GPT-4o is better than gpt-3.5-turbo"
   ]
  },
  {
   "cell_type": "markdown",
   "metadata": {},
   "source": []
  }
 ],
 "metadata": {
  "kernelspec": {
   "display_name": "llmops-course",
   "language": "python",
   "name": "python3"
  },
  "language_info": {
   "codemirror_mode": {
    "name": "ipython",
    "version": 3
   },
   "file_extension": ".py",
   "mimetype": "text/x-python",
   "name": "python",
   "nbconvert_exporter": "python",
   "pygments_lexer": "ipython3",
   "version": "3.11.9"
  }
 },
 "nbformat": 4,
 "nbformat_minor": 2
}
