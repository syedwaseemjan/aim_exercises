{
 "cells": [
  {
   "cell_type": "markdown",
   "metadata": {},
   "source": [
    "# Creating a LlamaIndex RAG Pipeline with NL2SQL and Metadata Filtering!"
   ]
  },
  {
   "cell_type": "markdown",
   "metadata": {},
   "source": [
    "## Install Dependencies"
   ]
  },
  {
   "cell_type": "code",
   "execution_count": 2,
   "metadata": {
    "vscode": {
     "languageId": "bat"
    }
   },
   "outputs": [],
   "source": [
    "!pip install -qU llama-index openai anthropic wikipedia llama-index-readers-wikipedia sqlalchemy pandas nest-asyncio anthropic==0.28.1"
   ]
  },
  {
   "cell_type": "code",
   "execution_count": 3,
   "metadata": {
    "vscode": {
     "languageId": "bat"
    }
   },
   "outputs": [],
   "source": [
    "!pip install -qU wandb llama-index-callbacks-wandb grpcio-tools"
   ]
  },
  {
   "cell_type": "code",
   "execution_count": 4,
   "metadata": {
    "vscode": {
     "languageId": "bat"
    }
   },
   "outputs": [],
   "source": [
    "!pip install -qU llama-index-vector-stores-qdrant qdrant-client --no-deps"
   ]
  },
  {
   "cell_type": "code",
   "execution_count": 6,
   "metadata": {},
   "outputs": [],
   "source": [
    "import nest_asyncio\n",
    "\n",
    "nest_asyncio.apply()\n",
    "\n",
    "import logging\n",
    "import sys\n",
    "\n",
    "logging.basicConfig(stream=sys.stdout, level=logging.INFO)\n",
    "logging.getLogger().addHandler(logging.StreamHandler(stream=sys.stdout))"
   ]
  },
  {
   "cell_type": "markdown",
   "metadata": {},
   "source": [
    "# Task 2: Set Env Variables and Set Up WandB Callback"
   ]
  },
  {
   "cell_type": "code",
   "execution_count": 7,
   "metadata": {},
   "outputs": [],
   "source": [
    "import os\n",
    "import getpass\n",
    "\n",
    "os.environ[\"OPENAI_API_KEY\"] = getpass.getpass(\"OpenAI API Key: \")"
   ]
  },
  {
   "cell_type": "code",
   "execution_count": 8,
   "metadata": {},
   "outputs": [],
   "source": [
    "import os\n",
    "import getpass\n",
    "\n",
    "os.environ[\"WANDB_API_KEY\"] = getpass.getpass(\"WandB API Key: \")"
   ]
  },
  {
   "cell_type": "code",
   "execution_count": 84,
   "metadata": {},
   "outputs": [],
   "source": [
    "import llama_index\n",
    "from llama_index.core import set_global_handler\n",
    "\n",
    "set_global_handler(\"wandb\", run_args={\"project\": \"llama-index-rag-v1\"})\n",
    "wandb_callback = llama_index.core.global_handler"
   ]
  },
  {
   "cell_type": "markdown",
   "metadata": {},
   "source": [
    "# OPTIONAL ADVANCED PATH:"
   ]
  },
  {
   "cell_type": "code",
   "execution_count": 5,
   "metadata": {
    "vscode": {
     "languageId": "bat"
    }
   },
   "outputs": [],
   "source": [
    "!pip install -qU llama-index-llms-anthropic"
   ]
  },
  {
   "cell_type": "code",
   "execution_count": 10,
   "metadata": {},
   "outputs": [],
   "source": [
    "os.environ[\"ANTHROPIC_API_KEY\"] = getpass.getpass(\"Anthropic API Key: \")\n"
   ]
  },
  {
   "cell_type": "code",
   "execution_count": 42,
   "metadata": {},
   "outputs": [],
   "source": [
    "# from llama_index.llms.anthropic import Anthropic\n",
    "# from llama_index.core import Settings\n",
    "\n",
    "# Settings.llm = Anthropic(model=\"claude-3-5-sonnet-20240620\")\n",
    "\n",
    "\n",
    "from llama_index.llms.openai import OpenAI\n",
    "from llama_index.core import Settings\n",
    "\n",
    "Settings.llm = OpenAI(model=\"gpt-4o\")"
   ]
  },
  {
   "cell_type": "markdown",
   "metadata": {},
   "source": [
    "# Task 3: Settings"
   ]
  },
  {
   "cell_type": "code",
   "execution_count": 44,
   "metadata": {},
   "outputs": [],
   "source": [
    "from llama_index.embeddings.openai import OpenAIEmbedding\n",
    "Settings.embedding = OpenAIEmbedding(model=\"text-embedding-3-small\")"
   ]
  },
  {
   "cell_type": "markdown",
   "metadata": {},
   "source": [
    "# Task 4: Index Creation"
   ]
  },
  {
   "cell_type": "markdown",
   "metadata": {},
   "source": [
    "## Data Collection"
   ]
  },
  {
   "cell_type": "code",
   "execution_count": 14,
   "metadata": {},
   "outputs": [],
   "source": [
    "from llama_index.readers.wikipedia import WikipediaReader\n",
    "\n",
    "movie_list = [\n",
    "    \"Dune (2021 film)\",\n",
    "    \"Dune: Part Two\",\n",
    "    \"The Lord of the Rings: The Fellowship of the Ring\",\n",
    "    \"The Lord of the Rings: The Two Towers\",\n",
    "]\n",
    "\n",
    "wiki_docs = WikipediaReader().load_data(pages=movie_list, auto_suggest=False)"
   ]
  },
  {
   "cell_type": "code",
   "execution_count": null,
   "metadata": {},
   "outputs": [],
   "source": [
    "wiki_docs"
   ]
  },
  {
   "cell_type": "markdown",
   "metadata": {},
   "source": [
    "# Initializing our VectorStoreIndex with QDrant\n"
   ]
  },
  {
   "cell_type": "code",
   "execution_count": 45,
   "metadata": {},
   "outputs": [
    {
     "data": {
      "text/plain": [
       "True"
      ]
     },
     "execution_count": 45,
     "metadata": {},
     "output_type": "execute_result"
    }
   ],
   "source": [
    "from llama_index.vector_stores.qdrant import QdrantVectorStore\n",
    "from qdrant_client import QdrantClient, models\n",
    "\n",
    "client = QdrantClient(location=\":memory:\")\n",
    "\n",
    "client.create_collection(\n",
    "    collection_name=\"movie_wikis\",\n",
    "    vectors_config=models.VectorParams(size=1536, distance=models.Distance.COSINE)\n",
    ")"
   ]
  },
  {
   "cell_type": "code",
   "execution_count": 47,
   "metadata": {},
   "outputs": [
    {
     "name": "stderr",
     "output_type": "stream",
     "text": [
      "\u001b[34m\u001b[1mwandb\u001b[0m: Logged trace tree to W&B.\n"
     ]
    }
   ],
   "source": [
    "from llama_index.core import VectorStoreIndex\n",
    "from llama_index.core import StorageContext\n",
    "\n",
    "vector_store = QdrantVectorStore(client=client, collection_name=\"movie_wikis\")\n",
    "\n",
    "storage_context = StorageContext.from_defaults(vector_store=vector_store)\n",
    "\n",
    "index = VectorStoreIndex.from_documents(\n",
    "    [],\n",
    "    storage_context=storage_context,\n",
    ")"
   ]
  },
  {
   "cell_type": "markdown",
   "metadata": {},
   "source": [
    "## Node Construction"
   ]
  },
  {
   "cell_type": "code",
   "execution_count": 48,
   "metadata": {},
   "outputs": [
    {
     "name": "stdout",
     "output_type": "stream",
     "text": [
      "INFO:httpx:HTTP Request: POST https://api.openai.com/v1/embeddings \"HTTP/1.1 200 OK\"\n",
      "HTTP Request: POST https://api.openai.com/v1/embeddings \"HTTP/1.1 200 OK\"\n"
     ]
    },
    {
     "name": "stderr",
     "output_type": "stream",
     "text": [
      "\u001b[34m\u001b[1mwandb\u001b[0m: Logged trace tree to W&B.\n"
     ]
    },
    {
     "name": "stdout",
     "output_type": "stream",
     "text": [
      "INFO:httpx:HTTP Request: POST https://api.openai.com/v1/embeddings \"HTTP/1.1 200 OK\"\n",
      "HTTP Request: POST https://api.openai.com/v1/embeddings \"HTTP/1.1 200 OK\"\n"
     ]
    },
    {
     "name": "stderr",
     "output_type": "stream",
     "text": [
      "\u001b[34m\u001b[1mwandb\u001b[0m: Logged trace tree to W&B.\n"
     ]
    },
    {
     "name": "stdout",
     "output_type": "stream",
     "text": [
      "INFO:httpx:HTTP Request: POST https://api.openai.com/v1/embeddings \"HTTP/1.1 200 OK\"\n",
      "HTTP Request: POST https://api.openai.com/v1/embeddings \"HTTP/1.1 200 OK\"\n"
     ]
    },
    {
     "name": "stderr",
     "output_type": "stream",
     "text": [
      "\u001b[34m\u001b[1mwandb\u001b[0m: Logged trace tree to W&B.\n"
     ]
    },
    {
     "name": "stdout",
     "output_type": "stream",
     "text": [
      "INFO:httpx:HTTP Request: POST https://api.openai.com/v1/embeddings \"HTTP/1.1 200 OK\"\n",
      "HTTP Request: POST https://api.openai.com/v1/embeddings \"HTTP/1.1 200 OK\"\n"
     ]
    },
    {
     "name": "stderr",
     "output_type": "stream",
     "text": [
      "\u001b[34m\u001b[1mwandb\u001b[0m: Logged trace tree to W&B.\n"
     ]
    }
   ],
   "source": [
    "from llama_index.core import SimpleDirectoryReader\n",
    "from llama_index.core.ingestion import IngestionPipeline\n",
    "from llama_index.core.node_parser import TokenTextSplitter\n",
    "from llama_index.core.extractors import TitleExtractor\n",
    "\n",
    "pipeline = IngestionPipeline(transformations=[TokenTextSplitter()])\n",
    "\n",
    "for movie, wiki_doc in zip(movie_list, wiki_docs):\n",
    "  nodes = pipeline.run(documents=[wiki_doc])\n",
    "  for node in nodes:\n",
    "      node.metadata = {\"title\" : movie}\n",
    "  index.insert_nodes(nodes)"
   ]
  },
  {
   "cell_type": "markdown",
   "metadata": {},
   "source": [
    "## ❓ Question #1:\n",
    "What metadata fields will the nodes in our index have?\n",
    "\n",
    "Seems like metadata field only has title so far."
   ]
  },
  {
   "cell_type": "code",
   "execution_count": 36,
   "metadata": {},
   "outputs": [
    {
     "name": "stdout",
     "output_type": "stream",
     "text": [
      "{'title': 'The Lord of the Rings: The Fellowship of the Ring'}\n",
      "{'title': 'The Lord of the Rings: The Two Towers'}\n",
      "{'title': 'The Lord of the Rings: The Fellowship of the Ring'}\n",
      "{'title': 'Dune: Part Two'}\n",
      "{'title': 'Dune: Part Two'}\n",
      "{'title': 'The Lord of the Rings: The Two Towers'}\n",
      "{'title': 'The Lord of the Rings: The Fellowship of the Ring'}\n",
      "{'title': 'Dune (2021 film)'}\n",
      "{'title': 'Dune (2021 film)'}\n",
      "{'title': 'The Lord of the Rings: The Fellowship of the Ring'}\n",
      "{'title': 'The Lord of the Rings: The Two Towers'}\n",
      "{'title': 'Dune (2021 film)'}\n",
      "{'title': 'The Lord of the Rings: The Two Towers'}\n",
      "{'title': 'Dune (2021 film)'}\n",
      "{'title': 'The Lord of the Rings: The Fellowship of the Ring'}\n",
      "{'title': 'Dune (2021 film)'}\n",
      "{'title': 'Dune (2021 film)'}\n",
      "{'title': 'Dune: Part Two'}\n",
      "{'title': 'Dune: Part Two'}\n",
      "{'title': 'The Lord of the Rings: The Fellowship of the Ring'}\n",
      "{'title': 'Dune (2021 film)'}\n",
      "{'title': 'Dune (2021 film)'}\n",
      "{'title': 'Dune (2021 film)'}\n",
      "{'title': 'Dune: Part Two'}\n",
      "{'title': 'The Lord of the Rings: The Two Towers'}\n",
      "{'title': 'Dune (2021 film)'}\n",
      "{'title': 'The Lord of the Rings: The Two Towers'}\n",
      "{'title': 'Dune (2021 film)'}\n",
      "{'title': 'The Lord of the Rings: The Two Towers'}\n",
      "{'title': 'Dune (2021 film)'}\n",
      "{'title': 'Dune (2021 film)'}\n",
      "{'title': 'The Lord of the Rings: The Two Towers'}\n",
      "{'title': 'Dune: Part Two'}\n",
      "{'title': 'Dune: Part Two'}\n",
      "{'title': 'Dune (2021 film)'}\n",
      "{'title': 'Dune: Part Two'}\n",
      "{'title': 'The Lord of the Rings: The Fellowship of the Ring'}\n",
      "{'title': 'The Lord of the Rings: The Fellowship of the Ring'}\n",
      "{'title': 'Dune: Part Two'}\n",
      "{'title': 'The Lord of the Rings: The Two Towers'}\n"
     ]
    }
   ],
   "source": [
    "for node in index.vector_store.get_nodes():\n",
    "    print(node.metadata)"
   ]
  },
  {
   "cell_type": "markdown",
   "metadata": {},
   "source": [
    "## Persisting and Loading Stored Index with Weights and Biases"
   ]
  },
  {
   "cell_type": "code",
   "execution_count": 37,
   "metadata": {},
   "outputs": [
    {
     "name": "stderr",
     "output_type": "stream",
     "text": [
      "\u001b[34m\u001b[1mwandb\u001b[0m: Adding directory to artifact (/Users/waseem/code/AIM3/aim_exercises/exercise_9/wandb/run-20240709_202615-3k0iw9fg/files/storage)... Done. 2.0s\n"
     ]
    }
   ],
   "source": [
    "wandb_callback.persist_index(index, index_name=\"movie-index-qdrant\")"
   ]
  },
  {
   "cell_type": "code",
   "execution_count": 49,
   "metadata": {},
   "outputs": [
    {
     "name": "stderr",
     "output_type": "stream",
     "text": [
      "\u001b[34m\u001b[1mwandb\u001b[0m:   4 of 4 files downloaded.  \n"
     ]
    }
   ],
   "source": [
    "from llama_index.core import load_index_from_storage\n",
    "\n",
    "storage_context = wandb_callback.load_storage_context(\n",
    "    artifact_url=\"test11111111111/llama-index-rag-v1/movie-index-qdrant:v0\"\n",
    ")"
   ]
  },
  {
   "cell_type": "markdown",
   "metadata": {},
   "source": [
    "## ❓ Question #2:\n",
    "Provide a screenshot of your index version history as shown in WandB.\n",
    "![alt text](./index-versions.png)\n"
   ]
  },
  {
   "cell_type": "markdown",
   "metadata": {},
   "source": [
    "# Task 5: Simple RAG - QueryEngine\n"
   ]
  },
  {
   "cell_type": "code",
   "execution_count": 50,
   "metadata": {},
   "outputs": [],
   "source": [
    "simple_rag = index.as_query_engine()\n"
   ]
  },
  {
   "cell_type": "code",
   "execution_count": 51,
   "metadata": {},
   "outputs": [
    {
     "name": "stdout",
     "output_type": "stream",
     "text": [
      "Context information is below.\n",
      "---------------------\n",
      "{context_str}\n",
      "---------------------\n",
      "Given the context information and not prior knowledge, answer the query.\n",
      "Query: {query_str}\n",
      "Answer: \n",
      "\n",
      "~~~~~~~~~~~~~~~~~~\n",
      "\n",
      "The original query is as follows: {query_str}\n",
      "We have provided an existing answer: {existing_answer}\n",
      "We have the opportunity to refine the existing answer (only if needed) with some more context below.\n",
      "------------\n",
      "{context_msg}\n",
      "------------\n",
      "Given the new context, refine the original answer to better answer the query. If the context isn't useful, return the original answer.\n",
      "Refined Answer: \n",
      "\n",
      "~~~~~~~~~~~~~~~~~~\n",
      "\n"
     ]
    }
   ],
   "source": [
    "for k, v in simple_rag.get_prompts().items():\n",
    "  print(v.get_template())\n",
    "  print(\"\\n~~~~~~~~~~~~~~~~~~\\n\")"
   ]
  },
  {
   "cell_type": "code",
   "execution_count": 52,
   "metadata": {},
   "outputs": [
    {
     "name": "stdout",
     "output_type": "stream",
     "text": [
      "INFO:httpx:HTTP Request: POST https://api.openai.com/v1/embeddings \"HTTP/1.1 200 OK\"\n",
      "HTTP Request: POST https://api.openai.com/v1/embeddings \"HTTP/1.1 200 OK\"\n",
      "INFO:httpx:HTTP Request: POST https://api.openai.com/v1/chat/completions \"HTTP/1.1 200 OK\"\n",
      "HTTP Request: POST https://api.openai.com/v1/chat/completions \"HTTP/1.1 200 OK\"\n"
     ]
    },
    {
     "name": "stderr",
     "output_type": "stream",
     "text": [
      "\u001b[34m\u001b[1mwandb\u001b[0m: Logged trace tree to W&B.\n"
     ]
    }
   ],
   "source": [
    "response = simple_rag.query(\"Who is the evil Wizard in the story?\")\n"
   ]
  },
  {
   "cell_type": "code",
   "execution_count": 53,
   "metadata": {},
   "outputs": [
    {
     "data": {
      "text/plain": [
       "Response(response='The evil wizard in the story is Saruman the White.', source_nodes=[NodeWithScore(node=TextNode(id_='01f6cf84-7244-4a2a-aceb-618e06a8b58a', embedding=None, metadata={'title': 'The Lord of the Rings: The Two Towers'}, excluded_embed_metadata_keys=[], excluded_llm_metadata_keys=[], relationships={<NodeRelationship.SOURCE: '1'>: RelatedNodeInfo(node_id='173944', node_type=<ObjectType.DOCUMENT: '4'>, metadata={}, hash='ac6f3e4c23f2135576d6801137796a752b31662fe2c6066d3bcbb22349c86214'), <NodeRelationship.PREVIOUS: '2'>: RelatedNodeInfo(node_id='2a747d71-230e-45dd-80ce-ce2da41a1a79', node_type=<ObjectType.TEXT: '1'>, metadata={}, hash='82d39dabbceda501ed8c228516bd575a19a2cfccdb3d2d96614393016775f698'), <NodeRelationship.NEXT: '3'>: RelatedNodeInfo(node_id='784156af-e0f4-4ed0-b8b8-3b1876766b18', node_type=<ObjectType.TEXT: '1'>, metadata={}, hash='2c2b024ccb5d14863fb3b4b390ace7790ed4b2f8200c09d2c7e48fa25da87de5')}, text='the entire battle in the book.\\nOn the way to Helm\\'s Deep, the refugees from Edoras are attacked by Wargs, similar to a scene in The Fellowship of the Ring where the Fellowship battles a group of Wargs. Here, a new subplot is created where Aragorn falls over a cliff, and is assumed to be dead; Jackson stated that he added it to create tension. This scene also resonates with a new subplot regarding Arwen, where she decides to leave Middle-earth after losing hope in the long-term possibilities of her love. In the book, Arwen\\'s role is primarily recorded in the Appendices, and she is never depicted as considering such an act.\\nA larger change was originally planned: Arwen and Elrond would visit Galadriel, and Arwen would accompany an army of Elves to Helm\\'s Deep to fight alongside Aragorn. During shooting, the script changed, both from writers coming up with better ideas to portray the romance between Aragorn and Arwen, as well as poor fan reaction. The new scene of Arwen leaving for the West was created, and the conversation scene remains, edited to be a flashback to a conversation between them in Rivendell, on the evening before the Fellowship\\'s departure. A conversation between Elrond and Galadriel in Lothlórien was edited to be a telepathic one. Nonetheless, one major change (already filmed) remained that could not be reversed: the Elven warriors fighting at Helm\\'s Deep, although Jackson and Boyens found this romantic and stirring and a reference to how, in the Appendices of The Return of the King, Galadriel and the Elves of Lothlórien, and Thranduil of Mirkwood were first attacked by an army out of Dol Guldur in Mirkwood, and then later counter-attacked and assaulted the fortress itself.\\nAnother change is the fact Treebeard does not immediately decide to go to war. This adds to the tension, and Boyens describes it as making Merry and Pippin \"more than luggage\". Here, the Hobbits show Treebeard what Saruman has done to the forest, prompting his decision to act. Another structural change is that the Hobbits meet Gandalf the White early on, explaining why the Hobbits do not react to his return when they meet him again following Isengard\\'s destruction. This was explained in the book by Gandalf arriving at Isengard in the middle of the night to talk to Treebeard.\\nThe filmmakers\\' decision to leave Shelob for the third film meant that Faramir had to become an obstacle for Frodo and Sam. In the book, Faramir (like Aragorn) quickly recognises the Ring as a danger and a temptation and does not hesitate long before letting Frodo and Sam go. In the film, Faramir first decides that the Ring shall go to Gondor and his father Denethor, as a way to prove his worth. In the film, Faramir takes Frodo, Sam and the Ring to the Battle of Osgiliath—they do not go there in the book. Jackson winks to readers with Sam\\'s line, \"By all rights we shouldn\\'t even be here, but we are.\" After seeing how strongly the Ring affects Frodo during the Nazgûl attack, Faramir changes his mind and lets them go. These changes reshape the book\\'s contrast between Faramir and Boromir, who in The Fellowship of the Ring attempted to take the Ring for himself. On the other hand, (which can be seen only in the film\\'s extended version), it is actually their father who wants the Ring and urges Boromir to get it, while Faramir only wants to prove himself to his father. Boyens contends these plot changes were needed to keep the Ring menacing. Wenham commented on the DVD documentaries that he had not read the book prior to reading the script, so the film\\'s version of Faramir was the Faramir he knew. When he later read the book and noticed the major difference, he approached the writers about it, and they explained to him that if he did say \"I wouldn\\'t pick that thing up even if it lay by the wayside\", it would basically strip the One Ring of all corruptive power.\\nThe meaning of the title itself, \\'The Two Towers\\', was changed. While Tolkien considered several possible sets of towers he eventually created a final cover illustration and wrote a note included at the end of The Fellowship of the Ring which identified them as Minas Morgul and Orthanc. Jackson\\'s film names them as Orthanc and Barad-dûr, symbolic of an evil alliance out to destroy Men that forms the film\\'s plot point. The film depicted Saruman openly presenting himself outright as Sauron\\'s servant, whereas this association was not explicitly stated in the novel (and indeed analysis by Gandalf and Aragorn in the chapter \"The White Rider\" stated that', mimetype='text/plain', start_char_idx=12339, end_char_idx=16876, text_template='{metadata_str}\\n\\n{content}', metadata_template='{key}: {value}', metadata_seperator='\\n'), score=0.7773458012803407), NodeWithScore(node=TextNode(id_='2a747d71-230e-45dd-80ce-ce2da41a1a79', embedding=None, metadata={'title': 'The Lord of the Rings: The Two Towers'}, excluded_embed_metadata_keys=[], excluded_llm_metadata_keys=[], relationships={<NodeRelationship.SOURCE: '1'>: RelatedNodeInfo(node_id='173944', node_type=<ObjectType.DOCUMENT: '4'>, metadata={}, hash='ac6f3e4c23f2135576d6801137796a752b31662fe2c6066d3bcbb22349c86214'), <NodeRelationship.PREVIOUS: '2'>: RelatedNodeInfo(node_id='a94ac4d2-7a65-4352-89b3-1807a75c33b6', node_type=<ObjectType.TEXT: '1'>, metadata={}, hash='0d389cc1709a1918fb847dd6938e31d320e5b0f8a5060120415205e58a78b10f'), <NodeRelationship.NEXT: '3'>: RelatedNodeInfo(node_id='01f6cf84-7244-4a2a-aceb-618e06a8b58a', node_type=<ObjectType.TEXT: '1'>, metadata={}, hash='a6982e908919669a26ed6bb9089fc74647b10288d9df1eeccfc82f0b326c8cc2')}, text=\"had decimated a large part of Fangorn Forest.\\nOrlando Bloom as Legolas: An elven archer and one of Aragorn's companions.\\nBernard Hill as Théoden: The King of Rohan, who is under Saruman's spell until Gandalf heals him so he can lead his people once more. Kevin Conway was offered the role but he declined.\\nChristopher Lee as Saruman the White: An Istari wizard waging war upon Rohan and devastating Fangorn Forest, who allied himself with Sauron in the previous film.\\nHugo Weaving as Elrond: The Elven-Lord of Rivendell who expresses doubt over his daughter's love for Aragorn.\\nMiranda Otto as Éowyn: Théoden's niece, who is in love with Aragorn. Uma Thurman was offered the role but turned it down and later regretted it.\\nDavid Wenham as Faramir: A prince of the Stewards of Gondor and captain of the Ithilien Rangers, who captures Frodo, Sam and Gollum.\\nBrad Dourif as Gríma Wormtongue: An agent of Saruman at Edoras, who renders Théoden incapable of decisions, and desires Éowyn.\\nKarl Urban as Éomer: Théoden's nephew and previous Chief Marshal of the Riddermark who was exiled by Gríma.\\nLiv Tyler as Arwen: An elven princess of Rivendell and Aragorn's true love.\\nCate Blanchett as Galadriel: The Elven-Queen of Lothlórien, who discusses Middle-earth's future with Elrond.\\nSean Bean as Boromir: Faramir's older brother and a fallen member of the Fellowship who appears in flashbacks since his death, more prominently in the film's extended edition.\\nCraig Parker as Haldir: The leader of the Lórien Elves sent by Elrond and Galadriel to defend Helm's Deep.\\nJohn Leigh as Háma: The loyal doorwarden of the Golden Hall and a majordomo of Théoden.\\nBruce Hopkins as Gamling: Théoden's chief lieutenant and a skilled member of the Royal Guard of Rohan.\\nJohn Bach as Madril: Faramir's closest aide, who informs him of battle preparations.\\nNathaniel Lees as Ugluk: The leader of the band of Uruk-hai who kidnapped Merry and Pippin.\\nThe following appear only in the Extended Edition\\n\\nJohn Noble as Denethor: The corrupt Steward of Gondor and the father of Boromir and Faramir.\\nIn the Battle of Helm's Deep, Peter Jackson has a cameo appearance as one of the men on top of the gate, throwing a spear at the attacking Uruk-hai. His children and Elijah Wood's sister cameo as young refugees in the caves behind the Hornburg, and Alan Lee and Dan Hennah also cameo as soldiers preparing for the battle. The son of a producer's friend, Hamish Duncan, appears as a reluctant young Rohirrim warrior. Daniel Falconer has a cameo as an Elvish archer at the battle.\\n\\n\\n== Comparison to the source material ==\\n\\nScreenwriters did not originally script The Two Towers as its own film; The Lord of the Rings trilogy was initially written as a two-part series to be produced by Miramax, with parts of The Two Towers written as the conclusion to The Fellowship of the Ring. The two films became a trilogy under New Line, and writers Jackson, Walsh and Boyens shuffled their scripts. \\nThe most distinct difference from the book by J.R.R. Tolkien is its structure. Tolkien's The Two Towers is split into two parts, opening with the war in Rohan, and concluding with focus on the journey of Frodo and Sam. The film omits the book's opening, Boromir's death, which was used as a linear climax at the end of The Fellowship of the Ring. Where the book ends with the Fellowship going to Isengard and Frodo's confrontation with Shelob, the film climaxes with the Battle of Helm's Deep, leaving the aforementioned scenes for the film adaptation of The Return of the King. This was done partly to fit more closely the timeline indicated by the book.\\nIn the film, Théoden is possessed by Saruman, whereas in the book he is depicted as depressed and deluded by Wormtongue. Afterwards, in the film, Théoden is still unsure of what to do, and flees to Helm's Deep. In the book he rides out to war, only ending up besieged when he considers helping Erkenbrand. Erkenbrand does not exist in the films: his character is combined with Éomer as the Rohirrim general who arrives with Gandalf at the film's end. Éomer himself is present during the entire battle in the book.\\nOn the way to Helm's Deep, the refugees from Edoras\", mimetype='text/plain', start_char_idx=8239, end_char_idx=12421, text_template='{metadata_str}\\n\\n{content}', metadata_template='{key}: {value}', metadata_seperator='\\n'), score=0.7715109930206476)], metadata={'01f6cf84-7244-4a2a-aceb-618e06a8b58a': {'title': 'The Lord of the Rings: The Two Towers'}, '2a747d71-230e-45dd-80ce-ce2da41a1a79': {'title': 'The Lord of the Rings: The Two Towers'}})"
      ]
     },
     "execution_count": 53,
     "metadata": {},
     "output_type": "execute_result"
    }
   ],
   "source": [
    "response\n"
   ]
  },
  {
   "cell_type": "code",
   "execution_count": 54,
   "metadata": {},
   "outputs": [
    {
     "name": "stdout",
     "output_type": "stream",
     "text": [
      "INFO:httpx:HTTP Request: POST https://api.openai.com/v1/embeddings \"HTTP/1.1 200 OK\"\n",
      "HTTP Request: POST https://api.openai.com/v1/embeddings \"HTTP/1.1 200 OK\"\n",
      "INFO:httpx:HTTP Request: POST https://api.openai.com/v1/chat/completions \"HTTP/1.1 200 OK\"\n",
      "HTTP Request: POST https://api.openai.com/v1/chat/completions \"HTTP/1.1 200 OK\"\n"
     ]
    },
    {
     "name": "stderr",
     "output_type": "stream",
     "text": [
      "\u001b[34m\u001b[1mwandb\u001b[0m: Logged trace tree to W&B.\n"
     ]
    }
   ],
   "source": [
    "response = simple_rag.query(\"Who are the giant beings that roam across the world?\")\n"
   ]
  },
  {
   "cell_type": "code",
   "execution_count": 55,
   "metadata": {},
   "outputs": [
    {
     "data": {
      "text/plain": [
       "Response(response='The giant beings that roam across the world are the sandworms.', source_nodes=[NodeWithScore(node=TextNode(id_='158a9252-f43f-43c2-9527-930971cd0f0e', embedding=None, metadata={'title': 'Dune (2021 film)'}, excluded_embed_metadata_keys=[], excluded_llm_metadata_keys=[], relationships={<NodeRelationship.SOURCE: '1'>: RelatedNodeInfo(node_id='52659577', node_type=<ObjectType.DOCUMENT: '4'>, metadata={}, hash='5d384c74de181e443fc55476b3c856e0cd96b4b9648056e317e1d5d80fae66a7'), <NodeRelationship.PREVIOUS: '2'>: RelatedNodeInfo(node_id='b0a69335-70db-4303-a500-e9e1200487e9', node_type=<ObjectType.TEXT: '1'>, metadata={}, hash='34f89954ccdaab1dece6896a48e7cdfe96729b6867cafd4aab92c33563aadcff'), <NodeRelationship.NEXT: '3'>: RelatedNodeInfo(node_id='3894509a-f73e-4ea1-a53c-2e99bf288f10', node_type=<ObjectType.TEXT: '1'>, metadata={}, hash='2e5fdf608b028722584169e175d946cd3a6cdde3bda2109c5f0fb2089ec3da9c')}, text='of Mesopotamian ziggurat architecture, Egyptian references, World War II bunkers, Brazilian and Soviet brutalist architecture, minimalist megastructures and dams designed by Superstudio, and imagery of glaciers taking over mountains.\\nThe design for the ornithopters was conceived by Villeneuve and storyboard artist Sam Hudecki. Villeneuve wanted the ornithopter be \"muscular\"; he wanted it to resemble a dragonfly and helicopter, but also appear realistic and adhere to basic laws of science. This fit in with his overall perception of the Dune world being retro-futuristic and analog. He also wanted the cockpits to be designed so that the actors could see the landscape. Two functional ornithopter models, 48- and 75-feet long, were created for filming by London propmakers, with operable doors and interior cockpit areas. They weighed over 11 tons and required an Antonov cargo plane to transport them to filming locations in Hungary and Jordan. One ornithopter used in filming had customizable pieces allowing for more space. Cranes were used to make the models fly.\\nMany practical sets were created on the soundstages and backlots of the Origo Film Studios in Budapest, Hungary, serving as interiors for the three planets. When designing Caladan, Vermette sought to give the planet \"a feeling of melancholia\". He wanted Caladan to resemble autumn in Canada, his home country, as he thought that it represented \"the end of a cycle... or the beginning of a new one\". He identified \"dramatic coastal mountain ranges\" and forests containing Norwegian pines as defining features of the planet. Meanwhile, the interior sets of Caladan were inspired by medieval Japanese aesthetics, particularly that of Paul\\'s training room, containing intricate screens and diffused lighting. Props were created by set decorator Richard Roberts, including custom-made furniture, lighting, textiles produced in Denmark, and other items designed to look antique.\\nThe original design for the sandworm was deemed \"prehistoric\", inspired by whales with baleen in their mouths. The sandworm\\'s skin texture was based on tree bark and mud flats. Vermette spoke of the challenges involved in creating the set designs used for the sandworms, stating \"It was a creature that commanded respect, and it\\'s almost seen as a deity in the world of the Fremen. So that\\'s why the first time you see the depiction of the sand worm on the mural, it\\'s presented with sun coming out of its mouth\".\\nThe design for Arrakeen was influenced by the book\\'s description of Arrakis\\'s climate, with Vermette calling it \"the biggest residency ever built by humankind\" and \"a response as a colonial entity that took over the planet for the exploitation of ... spice\". He designed the city in a \"rock bowl\" shape to protect its infrastructure from sandworms, and built buildings at an angle to protect them from high wind speeds. The walls were thickened to make the interiors cooler. The team was inspired by WWII bunkers, bunkers, Mayan temples, and Brazilian modernism. The history and culture of the Fremen was depicted in various murals throughout the residence, with Vermette comparing it to that of a church after envisioning Fremen artists doing so in order to depict the colonization of Arrakis. One practical set was the environmental lab in which Sardaukar soldiers descend from the air. The circular dome was 20 feet high, with the spokes being created by a special kind of cloth fabric, giving the illusion of shadows and providing proper lighting for the act. Agriculturally controlled sand was placed on the ground as filming took place during Budapest\\'s raining season.\\n\\n\\n==== Costumes ====\\nOver 1000 looks for Arrakis, Caladan, and Giedi Prime were designed by the team for the film. The costume design was done by Jacqueline West and Bob Morgan. Villeneuve wanted the costumes to be \"grounded\" in history while avoiding conventional futuristic views in science fiction films. West performed \"psychological studies\" of characters and historical research to associate their houses with historical \"symbolic analogs\", facilitating her costume design process. She took primary inspiration from the Middle Ages, particularly envisioning what it would look like in the future. She associated the Fremen with the French Resistance and the Sardaukar with the Nazis when designing the costumes. Additionally, she took inspiration from Giotto, Francisco Goya, Caravaggio, and British art historian John Berger, while emulating styles from the fashion of Balenciaga, the Bedouin, and Tuareg people.\\nWest associated the Spacing Guild with the Avignon Papacy, connected their persecution of the Templars to that of House Atreides; she noted that the Emperor and his allies betrayed House Atreides. Reference pictures consisted of medieval popes and modernized it when designing their costumes. The Bene Gesserit sorceresses\\' costumes were based on tarot cards and chess pieces,', mimetype='text/plain', start_char_idx=22480, end_char_idx=27411, text_template='{metadata_str}\\n\\n{content}', metadata_template='{key}: {value}', metadata_seperator='\\n'), score=0.7609037821144133), NodeWithScore(node=TextNode(id_='f6a5b341-dc78-418e-9115-9fad7fdf8fcb', embedding=None, metadata={'title': 'The Lord of the Rings: The Fellowship of the Ring'}, excluded_embed_metadata_keys=[], excluded_llm_metadata_keys=[], relationships={<NodeRelationship.SOURCE: '1'>: RelatedNodeInfo(node_id='173941', node_type=<ObjectType.DOCUMENT: '4'>, metadata={}, hash='311cce830a4cff3e7c3525b29ef6b637713b3b2e80f80632a436c73b2cf2af0b'), <NodeRelationship.PREVIOUS: '2'>: RelatedNodeInfo(node_id='2a57ee32-ad51-4a21-b70d-b7189b97ea64', node_type=<ObjectType.TEXT: '1'>, metadata={}, hash='ba8a48b558ec30dbbd9c136050fe80dbf2ff3dc4f648659b1bcaa59206af1ecc'), <NodeRelationship.NEXT: '3'>: RelatedNodeInfo(node_id='634f4d72-f41a-43c0-83ec-39e5d6c4686a', node_type=<ObjectType.TEXT: '1'>, metadata={}, hash='be4e195e1815d66415fc0b47d70293aae649d05b7c2f781663514ea3fc044c71')}, text=\"and alliance with Sauron, who has dispatched his nine undead Nazgûl servants to find Frodo.\\nFrodo and Sam are joined by fellow hobbits Merry and Pippin, and they evade the Nazgûl before arriving in Bree, where they are meant to meet Gandalf at the Inn of The Prancing Pony. However, Gandalf never arrives, having been taken prisoner by Saruman. The hobbits are then aided by a Ranger named Strider, who promises to escort them to Rivendell; however, they are ambushed by the Nazgûl on Weathertop, and their leader, the Witch-King, stabs Frodo with a Morgul blade. Arwen, an Elf and Strider's beloved, locates Strider and rescues Frodo, summoning flood-waters that sweep the Nazgûl away. She takes him to Rivendell, where he is healed by the Elves. Frodo meets with Gandalf, who escaped Isengard on a Great Eagle. That night, Strider reunites with Arwen, and they affirm their love for each other.\\nLearning of Saruman's betrayal from Gandalf and now realizing that they are facing threats from both Sauron and Saruman, Arwen's father, Lord Elrond, decides against keeping the Ring in Rivendell. He holds a council of Elves, Men, and Dwarves, also attended by Frodo and Gandalf, that decides the Ring must be destroyed in the fires of Mount Doom. Frodo volunteers to take the Ring, accompanied by Gandalf, Sam, Merry, Pippin, Elf Legolas, Dwarf Gimli, Boromir of Gondor, and Strider—who is actually Aragorn, Isildur's heir and the rightful King of Gondor. Bilbo, now living in Rivendell, gives Frodo his sword Sting, and a chainmail shirt made of mithril.\\nThe Fellowship of the Ring makes for the Gap of Rohan, but discover it is being watched by Saruman's spies. They instead set off over the mountain pass of Caradhras, but Saruman summons a storm that forces them to travel through the Mines of Moria, where a tentacled water beast blocks off the entrance with the Fellowship inside, giving them no choice but to journey to the exit on the other end. After finding the Dwarves of Moria dead, the Fellowship is attacked by Orcs and a cave troll. They hold them off but are confronted by Durin's Bane: a Balrog residing within the mines. While the others escape, Gandalf fends off the Balrog and casts it into a vast chasm, but the Balrog drags Gandalf down into the darkness with him. The devastated Fellowship reaches Lothlórien, ruled by the Elf-queen Galadriel, who privately informs Frodo that only he can complete the quest and that one of the Fellowship will try to take the Ring. She also shows him a vision of the future in which Sauron succeeds in enslaving Middle-earth, including the Shire. Meanwhile, Saruman creates an army of Uruk-hai in Isengard to find and kill the Fellowship.\\nThe Fellowship travels by river to Parth Galen. Frodo wanders off and is confronted by Boromir, who, as Lady Galadriel had warned, tries to take the Ring. Uruk-hai scouts then ambush the Fellowship, attempting to abduct the Hobbits. Boromir breaks free of the Ring's magic and protects Merry and Pippin, but the Uruk-Hai leader, Lurtz, mortally wounds Boromir as they abduct the Hobbits. Aragorn arrives and kills Lurtz before comforting Boromir as he dies, promising to help the people of Gondor in the coming conflict. Fearing the Ring will corrupt his friends, Frodo decides to travel to Mordor alone, but allows Sam to come along, recalling his promise to Gandalf to look after him. As Aragorn, Legolas, and Gimli set out to rescue Merry and Pippin, Frodo and Sam make their way down the  pass of Emyn Muil, journeying on to Mordor. \\n\\n\\n== Cast ==\\n\\nBefore filming began on 11 October 1999, the principal actors trained for six weeks in sword fighting (with Bob Anderson), riding and boating. Jackson hoped such activities would allow the cast to bond so chemistry would be evident on screen as well as getting them used to life in Wellington. They were also trained to pronounce Tolkien's verses properly. After the shoot, the nine cast members playing the Fellowship got a tattoo, the Elvish symbol for the number nine, with the exception of John Rhys-Davies, whose stunt double got the tattoo instead. The film is noted for having an ensemble cast, and some of the cast\", mimetype='text/plain', start_char_idx=4319, end_char_idx=8487, text_template='{metadata_str}\\n\\n{content}', metadata_template='{key}: {value}', metadata_seperator='\\n'), score=0.7504569077314778)], metadata={'158a9252-f43f-43c2-9527-930971cd0f0e': {'title': 'Dune (2021 film)'}, 'f6a5b341-dc78-418e-9115-9fad7fdf8fcb': {'title': 'The Lord of the Rings: The Fellowship of the Ring'}})"
      ]
     },
     "execution_count": 55,
     "metadata": {},
     "output_type": "execute_result"
    }
   ],
   "source": [
    "response"
   ]
  },
  {
   "cell_type": "code",
   "execution_count": 56,
   "metadata": {},
   "outputs": [
    {
     "name": "stdout",
     "output_type": "stream",
     "text": [
      "['Dune (2021 film)', 'The Lord of the Rings: The Fellowship of the Ring']\n"
     ]
    }
   ],
   "source": [
    "print([x.metadata[\"title\"] for x in response.source_nodes])\n"
   ]
  },
  {
   "cell_type": "markdown",
   "metadata": {},
   "source": [
    "# Task 6: Auto Retriever Functional Tool\n"
   ]
  },
  {
   "cell_type": "code",
   "execution_count": 57,
   "metadata": {},
   "outputs": [],
   "source": [
    "from llama_index.core.tools import FunctionTool\n",
    "from llama_index.core.vector_stores.types import (\n",
    "    VectorStoreInfo,\n",
    "    MetadataInfo,\n",
    "    ExactMatchFilter,\n",
    "    MetadataFilters,\n",
    ")\n",
    "from llama_index.core.retrievers import VectorIndexRetriever\n",
    "from llama_index.core.query_engine import RetrieverQueryEngine\n",
    "\n",
    "from typing import List, Tuple, Any\n",
    "from pydantic import BaseModel, Field\n",
    "\n",
    "top_k = 3\n",
    "\n",
    "vector_store_info = VectorStoreInfo(\n",
    "    content_info=\"semantic information about movies\",\n",
    "    metadata_info=[MetadataInfo(\n",
    "        name=\"title\",\n",
    "        type=\"str\",\n",
    "        description='title of the movie, one of [\"Dune (2021 film)\", \"Dune: Part Two\", \"The Lord of the Rings: The Fellowship of the Ring\", \"The Lord of the Rings: The Two Towers\"]'\n",
    "        )]\n",
    ")"
   ]
  },
  {
   "cell_type": "code",
   "execution_count": 60,
   "metadata": {},
   "outputs": [
    {
     "data": {
      "text/plain": [
       "'{\"metadata_info\": [{\"name\": \"title\", \"type\": \"str\", \"description\": \"title of the movie, one of [\\\\\"Dune (2021 film)\\\\\", \\\\\"Dune: Part Two\\\\\", \\\\\"The Lord of the Rings: The Fellowship of the Ring\\\\\", \\\\\"The Lord of the Rings: The Two Towers\\\\\"]\"}], \"content_info\": \"semantic information about movies\"}'"
      ]
     },
     "execution_count": 60,
     "metadata": {},
     "output_type": "execute_result"
    }
   ],
   "source": [
    "vector_store_info.json()"
   ]
  },
  {
   "cell_type": "code",
   "execution_count": 58,
   "metadata": {},
   "outputs": [],
   "source": [
    "class AutoRetrieveModel(BaseModel):\n",
    "    query: str = Field(..., description=\"natural language query string\")\n",
    "    filter_key_list: List[str] = Field(\n",
    "        ..., description=\"List of metadata filter field names\"\n",
    "    )\n",
    "    filter_value_list: List[str] = Field(\n",
    "        ...,\n",
    "        description=(\n",
    "            \"List of metadata filter field values (corresponding to names specified in filter_key_list)\"\n",
    "        )\n",
    "    )"
   ]
  },
  {
   "cell_type": "code",
   "execution_count": 59,
   "metadata": {},
   "outputs": [],
   "source": [
    "def auto_retrieve_fn(\n",
    "    query: str, filter_key_list: List[str], filter_value_list: List[str]\n",
    "):\n",
    "    \"\"\"Auto retrieval function.\n",
    "\n",
    "    Performs auto-retrieval from a vector database, and then applies a set of filters.\n",
    "\n",
    "    \"\"\"\n",
    "    query = query or \"Query\"\n",
    "\n",
    "    exact_match_filters = [\n",
    "        ExactMatchFilter(key=k, value=v)\n",
    "        for k, v in zip(filter_key_list, filter_value_list)\n",
    "    ]\n",
    "    retriever = VectorIndexRetriever(\n",
    "        index, filters=MetadataFilters(filters=exact_match_filters), top_k=top_k\n",
    "    )\n",
    "    query_engine = RetrieverQueryEngine.from_args(retriever)\n",
    "\n",
    "    response = query_engine.query(query)\n",
    "    return str(response)"
   ]
  },
  {
   "cell_type": "code",
   "execution_count": 61,
   "metadata": {},
   "outputs": [],
   "source": [
    "description = f\"\"\"\\\n",
    "Use this tool to look up non-review based information about films.\n",
    "The vector database schema is given below:\n",
    "{vector_store_info.json()}\n",
    "\"\"\"\n",
    "\n",
    "auto_retrieve_tool = FunctionTool.from_defaults(\n",
    "    fn=auto_retrieve_fn,\n",
    "    name=\"semantic-film-info\",\n",
    "    description=description,\n",
    "    fn_schema=AutoRetrieveModel\n",
    ")"
   ]
  },
  {
   "cell_type": "markdown",
   "metadata": {},
   "source": [
    "# ❓ Question #3:\n",
    "Is the text in the description of our FunctionTool important or not? Please explain your answer."
   ]
  },
  {
   "cell_type": "code",
   "execution_count": 62,
   "metadata": {},
   "outputs": [],
   "source": [
    "from llama_index.core.agent import FunctionCallingAgentWorker\n",
    "\n",
    "agent_worker = FunctionCallingAgentWorker.from_tools(\n",
    "    tools=[auto_retrieve_tool],\n",
    "    verbose=True,\n",
    ")\n",
    "\n",
    "agent = agent_worker.as_agent()"
   ]
  },
  {
   "cell_type": "code",
   "execution_count": 63,
   "metadata": {},
   "outputs": [
    {
     "name": "stdout",
     "output_type": "stream",
     "text": [
      "Added user message to memory: Who starred in the 2021 film?\n",
      "INFO:httpx:HTTP Request: POST https://api.openai.com/v1/chat/completions \"HTTP/1.1 200 OK\"\n",
      "HTTP Request: POST https://api.openai.com/v1/chat/completions \"HTTP/1.1 200 OK\"\n",
      "=== Calling Function ===\n",
      "Calling function: semantic-film-info with args: {\"query\": \"Who starred in the film?\", \"filter_key_list\": [\"title\"], \"filter_value_list\": [\"Dune (2021 film)\"]}\n",
      "INFO:httpx:HTTP Request: POST https://api.openai.com/v1/embeddings \"HTTP/1.1 200 OK\"\n",
      "HTTP Request: POST https://api.openai.com/v1/embeddings \"HTTP/1.1 200 OK\"\n",
      "INFO:httpx:HTTP Request: POST https://api.openai.com/v1/chat/completions \"HTTP/1.1 200 OK\"\n",
      "HTTP Request: POST https://api.openai.com/v1/chat/completions \"HTTP/1.1 200 OK\"\n",
      "=== Function Output ===\n",
      "The film starred Timothée Chalamet as Paul Atreides, Rebecca Ferguson as Lady Jessica, Oscar Isaac as Duke Leto, Zendaya as Chani, Dave Bautista as Glossu Rabban, Stellan Skarsgård as Baron Vladimir Harkonnen, Charlotte Rampling as Gaius Helen Mohiam, Javier Bardem as Stilgar, Josh Brolin as Gurney Halleck, Jason Momoa as Duncan Idaho, David Dastmalchian as Piter de Vries, Stephen McKinley Henderson, Chang Chen as Dr. Yueh, and Benjamin Clementine as the Herald of the Change.\n",
      "INFO:httpx:HTTP Request: POST https://api.openai.com/v1/chat/completions \"HTTP/1.1 200 OK\"\n",
      "HTTP Request: POST https://api.openai.com/v1/chat/completions \"HTTP/1.1 200 OK\"\n"
     ]
    },
    {
     "name": "stderr",
     "output_type": "stream",
     "text": [
      "\u001b[34m\u001b[1mwandb\u001b[0m: Logged trace tree to W&B.\n"
     ]
    },
    {
     "name": "stdout",
     "output_type": "stream",
     "text": [
      "=== LLM Response ===\n",
      "The 2021 film \"Dune\" starred:\n",
      "\n",
      "- Timothée Chalamet as Paul Atreides\n",
      "- Rebecca Ferguson as Lady Jessica\n",
      "- Oscar Isaac as Duke Leto\n",
      "- Zendaya as Chani\n",
      "- Dave Bautista as Glossu Rabban\n",
      "- Stellan Skarsgård as Baron Vladimir Harkonnen\n",
      "- Charlotte Rampling as Gaius Helen Mohiam\n",
      "- Javier Bardem as Stilgar\n",
      "- Josh Brolin as Gurney Halleck\n",
      "- Jason Momoa as Duncan Idaho\n",
      "- David Dastmalchian as Piter de Vries\n",
      "- Stephen McKinley Henderson\n",
      "- Chang Chen as Dr. Yueh\n",
      "- Benjamin Clementine as the Herald of the Change\n"
     ]
    }
   ],
   "source": [
    "response = agent.chat(\"Who starred in the 2021 film?\")\n"
   ]
  },
  {
   "cell_type": "code",
   "execution_count": 64,
   "metadata": {},
   "outputs": [
    {
     "name": "stdout",
     "output_type": "stream",
     "text": [
      "Added user message to memory: Who are the giant beings that roam across the world in the movies?\n",
      "INFO:httpx:HTTP Request: POST https://api.openai.com/v1/chat/completions \"HTTP/1.1 200 OK\"\n",
      "HTTP Request: POST https://api.openai.com/v1/chat/completions \"HTTP/1.1 200 OK\"\n",
      "=== Calling Function ===\n",
      "Calling function: semantic-film-info with args: {\"query\": \"giant beings that roam across the world\", \"filter_key_list\": [\"title\"], \"filter_value_list\": [\"Dune (2021 film)\"]}\n",
      "INFO:httpx:HTTP Request: POST https://api.openai.com/v1/embeddings \"HTTP/1.1 200 OK\"\n",
      "HTTP Request: POST https://api.openai.com/v1/embeddings \"HTTP/1.1 200 OK\"\n",
      "INFO:httpx:HTTP Request: POST https://api.openai.com/v1/chat/completions \"HTTP/1.1 200 OK\"\n",
      "HTTP Request: POST https://api.openai.com/v1/chat/completions \"HTTP/1.1 200 OK\"\n",
      "=== Function Output ===\n",
      "The giant beings that roam across the world in the film are the sandworms. They travel under the desert and are a significant danger, especially during spice harvesting.\n",
      "=== Calling Function ===\n",
      "Calling function: semantic-film-info with args: {\"query\": \"giant beings that roam across the world\", \"filter_key_list\": [\"title\"], \"filter_value_list\": [\"The Lord of the Rings: The Fellowship of the Ring\"]}\n",
      "INFO:httpx:HTTP Request: POST https://api.openai.com/v1/embeddings \"HTTP/1.1 200 OK\"\n",
      "HTTP Request: POST https://api.openai.com/v1/embeddings \"HTTP/1.1 200 OK\"\n",
      "INFO:httpx:HTTP Request: POST https://api.openai.com/v1/chat/completions \"HTTP/1.1 200 OK\"\n",
      "HTTP Request: POST https://api.openai.com/v1/chat/completions \"HTTP/1.1 200 OK\"\n",
      "=== Function Output ===\n",
      "The context does not provide information about giant beings that roam across the world.\n",
      "=== Calling Function ===\n",
      "Calling function: semantic-film-info with args: {\"query\": \"giant beings that roam across the world\", \"filter_key_list\": [\"title\"], \"filter_value_list\": [\"The Lord of the Rings: The Two Towers\"]}\n",
      "INFO:httpx:HTTP Request: POST https://api.openai.com/v1/embeddings \"HTTP/1.1 200 OK\"\n",
      "HTTP Request: POST https://api.openai.com/v1/embeddings \"HTTP/1.1 200 OK\"\n",
      "INFO:httpx:HTTP Request: POST https://api.openai.com/v1/chat/completions \"HTTP/1.1 200 OK\"\n",
      "HTTP Request: POST https://api.openai.com/v1/chat/completions \"HTTP/1.1 200 OK\"\n",
      "=== Function Output ===\n",
      "Treebeard is an example of a giant being that roams across the world. He is an Ent, a tree-like creature, who interacts with Merry and Pippin in the film.\n",
      "INFO:httpx:HTTP Request: POST https://api.openai.com/v1/chat/completions \"HTTP/1.1 200 OK\"\n",
      "HTTP Request: POST https://api.openai.com/v1/chat/completions \"HTTP/1.1 200 OK\"\n"
     ]
    },
    {
     "name": "stderr",
     "output_type": "stream",
     "text": [
      "\u001b[34m\u001b[1mwandb\u001b[0m: Logged trace tree to W&B.\n"
     ]
    },
    {
     "name": "stdout",
     "output_type": "stream",
     "text": [
      "=== LLM Response ===\n",
      "In the movies:\n",
      "\n",
      "- **Dune (2021 film)**: The giant beings that roam across the world are the **sandworms**. They travel under the desert and pose a significant danger, especially during spice harvesting.\n",
      "\n",
      "- **The Lord of the Rings: The Fellowship of the Ring**: There is no specific mention of giant beings that roam across the world in this context.\n",
      "\n",
      "- **The Lord of the Rings: The Two Towers**: **Treebeard** is an example of a giant being that roams across the world. He is an Ent, a tree-like creature, who interacts with Merry and Pippin in the film.\n"
     ]
    }
   ],
   "source": [
    "response = agent.chat(\"Who are the giant beings that roam across the world in the movies?\")"
   ]
  },
  {
   "cell_type": "markdown",
   "metadata": {},
   "source": [
    "# Quantitative RAG Pipeline with NL2SQL Tooling"
   ]
  },
  {
   "cell_type": "code",
   "execution_count": 67,
   "metadata": {},
   "outputs": [
    {
     "name": "stdout",
     "output_type": "stream",
     "text": [
      "--2024-07-09 22:10:35--  https://raw.githubusercontent.com/AI-Maker-Space/DataRepository/main/dune1.csv\n",
      "Resolving raw.githubusercontent.com (raw.githubusercontent.com)... 185.199.110.133, 185.199.108.133, 185.199.109.133, ...\n",
      "Connecting to raw.githubusercontent.com (raw.githubusercontent.com)|185.199.110.133|:443... connected.\n",
      "HTTP request sent, awaiting response... 200 OK\n",
      "Length: 133391 (130K) [text/plain]\n",
      "Saving to: ‘dune1.csv.1’\n",
      "\n",
      "dune1.csv.1         100%[===================>] 130.26K   857KB/s    in 0.2s    \n",
      "\n",
      "2024-07-09 22:10:35 (857 KB/s) - ‘dune1.csv.1’ saved [133391/133391]\n",
      "\n",
      "--2024-07-09 22:10:36--  https://raw.githubusercontent.com/AI-Maker-Space/DataRepository/main/dune2.csv\n",
      "Resolving raw.githubusercontent.com (raw.githubusercontent.com)... 185.199.108.133, 185.199.109.133, 185.199.111.133, ...\n",
      "Connecting to raw.githubusercontent.com (raw.githubusercontent.com)|185.199.108.133|:443... connected.\n",
      "HTTP request sent, awaiting response... 200 OK\n",
      "Length: 111843 (109K) [text/plain]\n",
      "Saving to: ‘dune2.csv.1’\n",
      "\n",
      "dune2.csv.1         100%[===================>] 109.22K  --.-KB/s    in 0.08s   \n",
      "\n",
      "2024-07-09 22:10:36 (1.31 MB/s) - ‘dune2.csv.1’ saved [111843/111843]\n",
      "\n",
      "--2024-07-09 22:10:37--  https://raw.githubusercontent.com/AI-Maker-Space/DataRepository/main/lotr_fotr.csv\n",
      "Resolving raw.githubusercontent.com (raw.githubusercontent.com)... 185.199.109.133, 185.199.111.133, 185.199.110.133, ...\n",
      "Connecting to raw.githubusercontent.com (raw.githubusercontent.com)|185.199.109.133|:443... connected.\n",
      "HTTP request sent, awaiting response... 200 OK\n",
      "Length: 172855 (169K) [text/plain]\n",
      "Saving to: ‘lotr_fotr.csv’\n",
      "\n",
      "lotr_fotr.csv       100%[===================>] 168.80K  --.-KB/s    in 0.1s    \n",
      "\n",
      "2024-07-09 22:10:37 (1.19 MB/s) - ‘lotr_fotr.csv’ saved [172855/172855]\n",
      "\n",
      "--2024-07-09 22:10:38--  https://raw.githubusercontent.com/AI-Maker-Space/DataRepository/main/lotr_tt.csv\n",
      "Resolving raw.githubusercontent.com (raw.githubusercontent.com)... 185.199.111.133, 185.199.110.133, 185.199.108.133, ...\n",
      "Connecting to raw.githubusercontent.com (raw.githubusercontent.com)|185.199.111.133|:443... connected.\n",
      "HTTP request sent, awaiting response... 200 OK\n",
      "Length: 114598 (112K) [text/plain]\n",
      "Saving to: ‘lotr_tt.csv’\n",
      "\n",
      "lotr_tt.csv         100%[===================>] 111.91K  --.-KB/s    in 0.1s    \n",
      "\n",
      "2024-07-09 22:10:39 (1.00 MB/s) - ‘lotr_tt.csv’ saved [114598/114598]\n",
      "\n"
     ]
    }
   ],
   "source": [
    "!wget https://raw.githubusercontent.com/AI-Maker-Space/DataRepository/main/dune1.csv\n",
    "!wget https://raw.githubusercontent.com/AI-Maker-Space/DataRepository/main/dune2.csv\n",
    "!wget https://raw.githubusercontent.com/AI-Maker-Space/DataRepository/main/lotr_fotr.csv\n",
    "!wget https://raw.githubusercontent.com/AI-Maker-Space/DataRepository/main/lotr_tt.csv\n",
    "\n"
   ]
  },
  {
   "cell_type": "code",
   "execution_count": 66,
   "metadata": {},
   "outputs": [
    {
     "name": "stdout",
     "output_type": "stream",
     "text": [
      "--2024-07-09 22:10:17--  https://raw.githubusercontent.com/AI-Maker-Space/DataRepository/main/dune2.csv\n",
      "Resolving raw.githubusercontent.com (raw.githubusercontent.com)... 185.199.110.133, 185.199.108.133, 185.199.109.133, ...\n",
      "Connecting to raw.githubusercontent.com (raw.githubusercontent.com)|185.199.110.133|:443... connected.\n",
      "HTTP request sent, awaiting response... 200 OK\n",
      "Length: 111843 (109K) [text/plain]\n",
      "Saving to: ‘dune2.csv’\n",
      "\n",
      "dune2.csv           100%[===================>] 109.22K  --.-KB/s    in 0.08s   \n",
      "\n",
      "2024-07-09 22:10:18 (1.30 MB/s) - ‘dune2.csv’ saved [111843/111843]\n",
      "\n"
     ]
    }
   ],
   "source": []
  },
  {
   "cell_type": "markdown",
   "metadata": {},
   "source": [
    "### Read .csv Into Pandas"
   ]
  },
  {
   "cell_type": "code",
   "execution_count": 68,
   "metadata": {},
   "outputs": [],
   "source": [
    "import pandas as pd\n",
    "\n",
    "dune1 = pd.read_csv(\"./dune1.csv\")\n",
    "dune2 = pd.read_csv(\"./dune2.csv\")\n",
    "lotr_fotr = pd.read_csv(\"./lotr_fotr.csv\")\n",
    "lotr_tt = pd.read_csv(\"./lotr_tt.csv\")"
   ]
  },
  {
   "cell_type": "markdown",
   "metadata": {},
   "source": [
    "### Create SQLAlchemy engine with SQLite\n"
   ]
  },
  {
   "cell_type": "code",
   "execution_count": 69,
   "metadata": {},
   "outputs": [],
   "source": [
    "from sqlalchemy import create_engine\n",
    "\n",
    "engine = create_engine(\"sqlite+pysqlite:///:memory:\")"
   ]
  },
  {
   "cell_type": "markdown",
   "metadata": {},
   "source": [
    "### Convert pd.DataFrame to SQL tables\n"
   ]
  },
  {
   "cell_type": "code",
   "execution_count": 70,
   "metadata": {},
   "outputs": [
    {
     "data": {
      "text/plain": [
       "149"
      ]
     },
     "execution_count": 70,
     "metadata": {},
     "output_type": "execute_result"
    }
   ],
   "source": [
    "dune1.to_sql(\n",
    "  \"Dune (2021 film)\",\n",
    "  engine\n",
    ")\n",
    "dune2.to_sql(\n",
    "  \"Dune: Part Two\",\n",
    "  engine\n",
    ")\n",
    "lotr_fotr.to_sql(\n",
    "  \"The Lord of the Rings: The Fellowship of the Ring\",\n",
    "  engine\n",
    ")\n",
    "lotr_tt.to_sql(\n",
    "  \"The Lord of the Rings: The Two Towers\",\n",
    "  engine\n",
    ")"
   ]
  },
  {
   "cell_type": "markdown",
   "metadata": {},
   "source": [
    "### Construct a SQLDatabase index"
   ]
  },
  {
   "cell_type": "code",
   "execution_count": 71,
   "metadata": {},
   "outputs": [],
   "source": [
    "from llama_index.core import SQLDatabase\n",
    "\n",
    "sql_database = SQLDatabase(\n",
    "    engine=engine,\n",
    "    include_tables=movie_list\n",
    ")"
   ]
  },
  {
   "cell_type": "markdown",
   "metadata": {},
   "source": [
    "### Create the NLSQLTableQueryEngine interface for all added SQL tables\n"
   ]
  },
  {
   "cell_type": "code",
   "execution_count": 72,
   "metadata": {},
   "outputs": [],
   "source": [
    "from llama_index.core.indices.struct_store.sql_query import NLSQLTableQueryEngine\n",
    "\n",
    "sql_query_engine = NLSQLTableQueryEngine(\n",
    "    sql_database=sql_database,\n",
    "    tables=movie_list,\n",
    ")"
   ]
  },
  {
   "cell_type": "markdown",
   "metadata": {},
   "source": [
    "### Wrap It All Up in a QueryEngineTool\n"
   ]
  },
  {
   "cell_type": "markdown",
   "metadata": {},
   "source": [
    "## Activity #1:"
   ]
  },
  {
   "cell_type": "code",
   "execution_count": 73,
   "metadata": {},
   "outputs": [],
   "source": [
    "DESCRIPTION = \"\"\"\\\n",
    "This tool should be used to answer any and all review related inquiries by translating a natural language query into a SQL query with access to tables:\n",
    "'Dune (2021 film)' - containing info. about the first movie in the Dune series,\n",
    "'Dune: Part Two'- containing info. about about the second movie in the Dune series,\n",
    "'The Lord of the Rings: The Fellowship of the Ring' - containing info. about the first movie in the Lord of the Ring series,\n",
    "'The Lord of the Rings: The Two Towers' - containing info. the second movie in the Lord of the Ring series\n",
    "\"\"\""
   ]
  },
  {
   "cell_type": "code",
   "execution_count": 74,
   "metadata": {},
   "outputs": [],
   "source": [
    "from llama_index.core.tools.query_engine import QueryEngineTool\n",
    "\n",
    "sql_tool = QueryEngineTool.from_defaults(\n",
    "    query_engine=sql_query_engine,\n",
    "    name=\"sql-query\",\n",
    "    description=DESCRIPTION,\n",
    ")"
   ]
  },
  {
   "cell_type": "code",
   "execution_count": 75,
   "metadata": {},
   "outputs": [],
   "source": [
    "agent_worker = FunctionCallingAgentWorker.from_tools(\n",
    "    tools=[sql_tool],\n",
    "    verbose=True\n",
    ")\n",
    "\n",
    "agent = agent_worker.as_agent()"
   ]
  },
  {
   "cell_type": "code",
   "execution_count": 76,
   "metadata": {},
   "outputs": [
    {
     "name": "stdout",
     "output_type": "stream",
     "text": [
      "Added user message to memory: What is the average rating of the 2nd Lord of the Rings movie?\n",
      "INFO:httpx:HTTP Request: POST https://api.openai.com/v1/chat/completions \"HTTP/1.1 200 OK\"\n",
      "HTTP Request: POST https://api.openai.com/v1/chat/completions \"HTTP/1.1 200 OK\"\n",
      "=== Calling Function ===\n",
      "Calling function: sql-query with args: {\"input\": \"SELECT AVG(rating) as average_rating FROM 'The Lord of the Rings: The Two Towers'\"}\n",
      "INFO:llama_index.core.indices.struct_store.sql_retriever:> Table desc str: Table 'Dune (2021 film)' has columns: index (BIGINT), Unnamed: 0 (BIGINT), Review_Date (TEXT), Author (TEXT), Rating (FLOAT), Review_Title (TEXT), Review (TEXT), Review_Url (TEXT), and foreign keys: .\n",
      "\n",
      "Table 'Dune: Part Two' has columns: index (BIGINT), Unnamed: 0 (BIGINT), Review_Date (TEXT), Author (TEXT), Rating (FLOAT), Review_Title (TEXT), Review (TEXT), Review_Url (TEXT), and foreign keys: .\n",
      "\n",
      "Table 'The Lord of the Rings: The Fellowship of the Ring' has columns: index (BIGINT), Unnamed: 0 (BIGINT), Review_Date (TEXT), Author (TEXT), Rating (FLOAT), Review_Title (TEXT), Review (TEXT), Review_Url (TEXT), and foreign keys: .\n",
      "\n",
      "Table 'The Lord of the Rings: The Two Towers' has columns: index (BIGINT), Unnamed: 0 (BIGINT), Review_Date (TEXT), Author (TEXT), Rating (FLOAT), Review_Title (TEXT), Review (TEXT), Review_Url (TEXT), and foreign keys: .\n",
      "> Table desc str: Table 'Dune (2021 film)' has columns: index (BIGINT), Unnamed: 0 (BIGINT), Review_Date (TEXT), Author (TEXT), Rating (FLOAT), Review_Title (TEXT), Review (TEXT), Review_Url (TEXT), and foreign keys: .\n",
      "\n",
      "Table 'Dune: Part Two' has columns: index (BIGINT), Unnamed: 0 (BIGINT), Review_Date (TEXT), Author (TEXT), Rating (FLOAT), Review_Title (TEXT), Review (TEXT), Review_Url (TEXT), and foreign keys: .\n",
      "\n",
      "Table 'The Lord of the Rings: The Fellowship of the Ring' has columns: index (BIGINT), Unnamed: 0 (BIGINT), Review_Date (TEXT), Author (TEXT), Rating (FLOAT), Review_Title (TEXT), Review (TEXT), Review_Url (TEXT), and foreign keys: .\n",
      "\n",
      "Table 'The Lord of the Rings: The Two Towers' has columns: index (BIGINT), Unnamed: 0 (BIGINT), Review_Date (TEXT), Author (TEXT), Rating (FLOAT), Review_Title (TEXT), Review (TEXT), Review_Url (TEXT), and foreign keys: .\n",
      "INFO:httpx:HTTP Request: POST https://api.openai.com/v1/chat/completions \"HTTP/1.1 200 OK\"\n",
      "HTTP Request: POST https://api.openai.com/v1/chat/completions \"HTTP/1.1 200 OK\"\n",
      "INFO:httpx:HTTP Request: POST https://api.openai.com/v1/chat/completions \"HTTP/1.1 200 OK\"\n",
      "HTTP Request: POST https://api.openai.com/v1/chat/completions \"HTTP/1.1 200 OK\"\n",
      "=== Function Output ===\n",
      "The average rating for \"The Lord of the Rings: The Two Towers\" is approximately 9.18.\n",
      "INFO:httpx:HTTP Request: POST https://api.openai.com/v1/chat/completions \"HTTP/1.1 200 OK\"\n",
      "HTTP Request: POST https://api.openai.com/v1/chat/completions \"HTTP/1.1 200 OK\"\n"
     ]
    },
    {
     "name": "stderr",
     "output_type": "stream",
     "text": [
      "\u001b[34m\u001b[1mwandb\u001b[0m: Logged trace tree to W&B.\n"
     ]
    },
    {
     "name": "stdout",
     "output_type": "stream",
     "text": [
      "=== LLM Response ===\n",
      "The average rating of \"The Lord of the Rings: The Two Towers\" is approximately 9.18.\n"
     ]
    }
   ],
   "source": [
    "response = agent.chat(\"What is the average rating of the 2nd Lord of the Rings movie?\")\n"
   ]
  },
  {
   "cell_type": "code",
   "execution_count": 77,
   "metadata": {},
   "outputs": [
    {
     "name": "stdout",
     "output_type": "stream",
     "text": [
      "Added user message to memory: What movie series has better reviews, Lord of the Rings or Dune?\n",
      "INFO:httpx:HTTP Request: POST https://api.openai.com/v1/chat/completions \"HTTP/1.1 200 OK\"\n",
      "HTTP Request: POST https://api.openai.com/v1/chat/completions \"HTTP/1.1 200 OK\"\n",
      "=== Calling Function ===\n",
      "Calling function: sql-query with args: {\"input\": \"SELECT AVG(rating) as average_rating FROM 'The Lord of the Rings: The Fellowship of the Ring'\"}\n",
      "INFO:llama_index.core.indices.struct_store.sql_retriever:> Table desc str: Table 'Dune (2021 film)' has columns: index (BIGINT), Unnamed: 0 (BIGINT), Review_Date (TEXT), Author (TEXT), Rating (FLOAT), Review_Title (TEXT), Review (TEXT), Review_Url (TEXT), and foreign keys: .\n",
      "\n",
      "Table 'Dune: Part Two' has columns: index (BIGINT), Unnamed: 0 (BIGINT), Review_Date (TEXT), Author (TEXT), Rating (FLOAT), Review_Title (TEXT), Review (TEXT), Review_Url (TEXT), and foreign keys: .\n",
      "\n",
      "Table 'The Lord of the Rings: The Fellowship of the Ring' has columns: index (BIGINT), Unnamed: 0 (BIGINT), Review_Date (TEXT), Author (TEXT), Rating (FLOAT), Review_Title (TEXT), Review (TEXT), Review_Url (TEXT), and foreign keys: .\n",
      "\n",
      "Table 'The Lord of the Rings: The Two Towers' has columns: index (BIGINT), Unnamed: 0 (BIGINT), Review_Date (TEXT), Author (TEXT), Rating (FLOAT), Review_Title (TEXT), Review (TEXT), Review_Url (TEXT), and foreign keys: .\n",
      "> Table desc str: Table 'Dune (2021 film)' has columns: index (BIGINT), Unnamed: 0 (BIGINT), Review_Date (TEXT), Author (TEXT), Rating (FLOAT), Review_Title (TEXT), Review (TEXT), Review_Url (TEXT), and foreign keys: .\n",
      "\n",
      "Table 'Dune: Part Two' has columns: index (BIGINT), Unnamed: 0 (BIGINT), Review_Date (TEXT), Author (TEXT), Rating (FLOAT), Review_Title (TEXT), Review (TEXT), Review_Url (TEXT), and foreign keys: .\n",
      "\n",
      "Table 'The Lord of the Rings: The Fellowship of the Ring' has columns: index (BIGINT), Unnamed: 0 (BIGINT), Review_Date (TEXT), Author (TEXT), Rating (FLOAT), Review_Title (TEXT), Review (TEXT), Review_Url (TEXT), and foreign keys: .\n",
      "\n",
      "Table 'The Lord of the Rings: The Two Towers' has columns: index (BIGINT), Unnamed: 0 (BIGINT), Review_Date (TEXT), Author (TEXT), Rating (FLOAT), Review_Title (TEXT), Review (TEXT), Review_Url (TEXT), and foreign keys: .\n",
      "INFO:httpx:HTTP Request: POST https://api.openai.com/v1/chat/completions \"HTTP/1.1 200 OK\"\n",
      "HTTP Request: POST https://api.openai.com/v1/chat/completions \"HTTP/1.1 200 OK\"\n",
      "INFO:openai._base_client:Retrying request to /chat/completions in 0.813556 seconds\n",
      "Retrying request to /chat/completions in 0.813556 seconds\n",
      "INFO:httpx:HTTP Request: POST https://api.openai.com/v1/chat/completions \"HTTP/1.1 200 OK\"\n",
      "HTTP Request: POST https://api.openai.com/v1/chat/completions \"HTTP/1.1 200 OK\"\n",
      "=== Function Output ===\n",
      "The average rating for \"The Lord of the Rings: The Fellowship of the Ring\" is approximately 9.87.\n",
      "=== Calling Function ===\n",
      "Calling function: sql-query with args: {\"input\": \"SELECT AVG(rating) as average_rating FROM 'The Lord of the Rings: The Two Towers'\"}\n",
      "INFO:llama_index.core.indices.struct_store.sql_retriever:> Table desc str: Table 'Dune (2021 film)' has columns: index (BIGINT), Unnamed: 0 (BIGINT), Review_Date (TEXT), Author (TEXT), Rating (FLOAT), Review_Title (TEXT), Review (TEXT), Review_Url (TEXT), and foreign keys: .\n",
      "\n",
      "Table 'Dune: Part Two' has columns: index (BIGINT), Unnamed: 0 (BIGINT), Review_Date (TEXT), Author (TEXT), Rating (FLOAT), Review_Title (TEXT), Review (TEXT), Review_Url (TEXT), and foreign keys: .\n",
      "\n",
      "Table 'The Lord of the Rings: The Fellowship of the Ring' has columns: index (BIGINT), Unnamed: 0 (BIGINT), Review_Date (TEXT), Author (TEXT), Rating (FLOAT), Review_Title (TEXT), Review (TEXT), Review_Url (TEXT), and foreign keys: .\n",
      "\n",
      "Table 'The Lord of the Rings: The Two Towers' has columns: index (BIGINT), Unnamed: 0 (BIGINT), Review_Date (TEXT), Author (TEXT), Rating (FLOAT), Review_Title (TEXT), Review (TEXT), Review_Url (TEXT), and foreign keys: .\n",
      "> Table desc str: Table 'Dune (2021 film)' has columns: index (BIGINT), Unnamed: 0 (BIGINT), Review_Date (TEXT), Author (TEXT), Rating (FLOAT), Review_Title (TEXT), Review (TEXT), Review_Url (TEXT), and foreign keys: .\n",
      "\n",
      "Table 'Dune: Part Two' has columns: index (BIGINT), Unnamed: 0 (BIGINT), Review_Date (TEXT), Author (TEXT), Rating (FLOAT), Review_Title (TEXT), Review (TEXT), Review_Url (TEXT), and foreign keys: .\n",
      "\n",
      "Table 'The Lord of the Rings: The Fellowship of the Ring' has columns: index (BIGINT), Unnamed: 0 (BIGINT), Review_Date (TEXT), Author (TEXT), Rating (FLOAT), Review_Title (TEXT), Review (TEXT), Review_Url (TEXT), and foreign keys: .\n",
      "\n",
      "Table 'The Lord of the Rings: The Two Towers' has columns: index (BIGINT), Unnamed: 0 (BIGINT), Review_Date (TEXT), Author (TEXT), Rating (FLOAT), Review_Title (TEXT), Review (TEXT), Review_Url (TEXT), and foreign keys: .\n",
      "INFO:httpx:HTTP Request: POST https://api.openai.com/v1/chat/completions \"HTTP/1.1 200 OK\"\n",
      "HTTP Request: POST https://api.openai.com/v1/chat/completions \"HTTP/1.1 200 OK\"\n",
      "INFO:httpx:HTTP Request: POST https://api.openai.com/v1/chat/completions \"HTTP/1.1 200 OK\"\n",
      "HTTP Request: POST https://api.openai.com/v1/chat/completions \"HTTP/1.1 200 OK\"\n",
      "=== Function Output ===\n",
      "The average rating for \"The Lord of the Rings: The Two Towers\" is approximately 9.18.\n",
      "=== Calling Function ===\n",
      "Calling function: sql-query with args: {\"input\": \"SELECT AVG(rating) as average_rating FROM 'Dune (2021 film)'\"}\n",
      "INFO:llama_index.core.indices.struct_store.sql_retriever:> Table desc str: Table 'Dune (2021 film)' has columns: index (BIGINT), Unnamed: 0 (BIGINT), Review_Date (TEXT), Author (TEXT), Rating (FLOAT), Review_Title (TEXT), Review (TEXT), Review_Url (TEXT), and foreign keys: .\n",
      "\n",
      "Table 'Dune: Part Two' has columns: index (BIGINT), Unnamed: 0 (BIGINT), Review_Date (TEXT), Author (TEXT), Rating (FLOAT), Review_Title (TEXT), Review (TEXT), Review_Url (TEXT), and foreign keys: .\n",
      "\n",
      "Table 'The Lord of the Rings: The Fellowship of the Ring' has columns: index (BIGINT), Unnamed: 0 (BIGINT), Review_Date (TEXT), Author (TEXT), Rating (FLOAT), Review_Title (TEXT), Review (TEXT), Review_Url (TEXT), and foreign keys: .\n",
      "\n",
      "Table 'The Lord of the Rings: The Two Towers' has columns: index (BIGINT), Unnamed: 0 (BIGINT), Review_Date (TEXT), Author (TEXT), Rating (FLOAT), Review_Title (TEXT), Review (TEXT), Review_Url (TEXT), and foreign keys: .\n",
      "> Table desc str: Table 'Dune (2021 film)' has columns: index (BIGINT), Unnamed: 0 (BIGINT), Review_Date (TEXT), Author (TEXT), Rating (FLOAT), Review_Title (TEXT), Review (TEXT), Review_Url (TEXT), and foreign keys: .\n",
      "\n",
      "Table 'Dune: Part Two' has columns: index (BIGINT), Unnamed: 0 (BIGINT), Review_Date (TEXT), Author (TEXT), Rating (FLOAT), Review_Title (TEXT), Review (TEXT), Review_Url (TEXT), and foreign keys: .\n",
      "\n",
      "Table 'The Lord of the Rings: The Fellowship of the Ring' has columns: index (BIGINT), Unnamed: 0 (BIGINT), Review_Date (TEXT), Author (TEXT), Rating (FLOAT), Review_Title (TEXT), Review (TEXT), Review_Url (TEXT), and foreign keys: .\n",
      "\n",
      "Table 'The Lord of the Rings: The Two Towers' has columns: index (BIGINT), Unnamed: 0 (BIGINT), Review_Date (TEXT), Author (TEXT), Rating (FLOAT), Review_Title (TEXT), Review (TEXT), Review_Url (TEXT), and foreign keys: .\n",
      "INFO:httpx:HTTP Request: POST https://api.openai.com/v1/chat/completions \"HTTP/1.1 200 OK\"\n",
      "HTTP Request: POST https://api.openai.com/v1/chat/completions \"HTTP/1.1 200 OK\"\n",
      "INFO:httpx:HTTP Request: POST https://api.openai.com/v1/chat/completions \"HTTP/1.1 200 OK\"\n",
      "HTTP Request: POST https://api.openai.com/v1/chat/completions \"HTTP/1.1 200 OK\"\n",
      "=== Function Output ===\n",
      "The average rating for the film \"Dune\" (2021) is approximately 8.34.\n",
      "=== Calling Function ===\n",
      "Calling function: sql-query with args: {\"input\": \"SELECT AVG(rating) as average_rating FROM 'Dune: Part Two'\"}\n",
      "INFO:llama_index.core.indices.struct_store.sql_retriever:> Table desc str: Table 'Dune (2021 film)' has columns: index (BIGINT), Unnamed: 0 (BIGINT), Review_Date (TEXT), Author (TEXT), Rating (FLOAT), Review_Title (TEXT), Review (TEXT), Review_Url (TEXT), and foreign keys: .\n",
      "\n",
      "Table 'Dune: Part Two' has columns: index (BIGINT), Unnamed: 0 (BIGINT), Review_Date (TEXT), Author (TEXT), Rating (FLOAT), Review_Title (TEXT), Review (TEXT), Review_Url (TEXT), and foreign keys: .\n",
      "\n",
      "Table 'The Lord of the Rings: The Fellowship of the Ring' has columns: index (BIGINT), Unnamed: 0 (BIGINT), Review_Date (TEXT), Author (TEXT), Rating (FLOAT), Review_Title (TEXT), Review (TEXT), Review_Url (TEXT), and foreign keys: .\n",
      "\n",
      "Table 'The Lord of the Rings: The Two Towers' has columns: index (BIGINT), Unnamed: 0 (BIGINT), Review_Date (TEXT), Author (TEXT), Rating (FLOAT), Review_Title (TEXT), Review (TEXT), Review_Url (TEXT), and foreign keys: .\n",
      "> Table desc str: Table 'Dune (2021 film)' has columns: index (BIGINT), Unnamed: 0 (BIGINT), Review_Date (TEXT), Author (TEXT), Rating (FLOAT), Review_Title (TEXT), Review (TEXT), Review_Url (TEXT), and foreign keys: .\n",
      "\n",
      "Table 'Dune: Part Two' has columns: index (BIGINT), Unnamed: 0 (BIGINT), Review_Date (TEXT), Author (TEXT), Rating (FLOAT), Review_Title (TEXT), Review (TEXT), Review_Url (TEXT), and foreign keys: .\n",
      "\n",
      "Table 'The Lord of the Rings: The Fellowship of the Ring' has columns: index (BIGINT), Unnamed: 0 (BIGINT), Review_Date (TEXT), Author (TEXT), Rating (FLOAT), Review_Title (TEXT), Review (TEXT), Review_Url (TEXT), and foreign keys: .\n",
      "\n",
      "Table 'The Lord of the Rings: The Two Towers' has columns: index (BIGINT), Unnamed: 0 (BIGINT), Review_Date (TEXT), Author (TEXT), Rating (FLOAT), Review_Title (TEXT), Review (TEXT), Review_Url (TEXT), and foreign keys: .\n",
      "INFO:httpx:HTTP Request: POST https://api.openai.com/v1/chat/completions \"HTTP/1.1 200 OK\"\n",
      "HTTP Request: POST https://api.openai.com/v1/chat/completions \"HTTP/1.1 200 OK\"\n",
      "INFO:httpx:HTTP Request: POST https://api.openai.com/v1/chat/completions \"HTTP/1.1 200 OK\"\n",
      "HTTP Request: POST https://api.openai.com/v1/chat/completions \"HTTP/1.1 200 OK\"\n",
      "=== Function Output ===\n",
      "The average rating for \"Dune: Part Two\" is approximately 8.71.\n",
      "INFO:httpx:HTTP Request: POST https://api.openai.com/v1/chat/completions \"HTTP/1.1 200 OK\"\n",
      "HTTP Request: POST https://api.openai.com/v1/chat/completions \"HTTP/1.1 200 OK\"\n"
     ]
    },
    {
     "name": "stderr",
     "output_type": "stream",
     "text": [
      "\u001b[34m\u001b[1mwandb\u001b[0m: Logged trace tree to W&B.\n"
     ]
    },
    {
     "name": "stdout",
     "output_type": "stream",
     "text": [
      "=== LLM Response ===\n",
      "Here are the average ratings for each movie:\n",
      "\n",
      "- **The Lord of the Rings: The Fellowship of the Ring**: 9.87\n",
      "- **The Lord of the Rings: The Two Towers**: 9.18\n",
      "- **Dune (2021)**: 8.34\n",
      "- **Dune: Part Two**: 8.71\n",
      "\n",
      "Based on these average ratings, the **Lord of the Rings** series has better reviews compared to the **Dune** series.\n"
     ]
    }
   ],
   "source": [
    "response = agent.chat(\"What movie series has better reviews, Lord of the Rings or Dune?\")\n"
   ]
  },
  {
   "cell_type": "markdown",
   "metadata": {},
   "source": [
    "# Task 2: Combined RAG Pipeline\n"
   ]
  },
  {
   "cell_type": "code",
   "execution_count": 78,
   "metadata": {},
   "outputs": [],
   "source": [
    "combined_tool_agent_worker = FunctionCallingAgentWorker.from_tools(\n",
    "    tools=[auto_retrieve_tool, sql_tool],\n",
    "    verbose=True\n",
    ")\n",
    "\n",
    "combined_tool_agent = combined_tool_agent_worker.as_agent()"
   ]
  },
  {
   "cell_type": "code",
   "execution_count": 79,
   "metadata": {},
   "outputs": [
    {
     "name": "stdout",
     "output_type": "stream",
     "text": [
      "Added user message to memory: Which movie is about a ring, and what is the average rating of the movie?\n",
      "INFO:httpx:HTTP Request: POST https://api.openai.com/v1/chat/completions \"HTTP/1.1 200 OK\"\n",
      "HTTP Request: POST https://api.openai.com/v1/chat/completions \"HTTP/1.1 200 OK\"\n",
      "=== Calling Function ===\n",
      "Calling function: semantic-film-info with args: {\"query\": \"movie about a ring\", \"filter_key_list\": [\"title\"], \"filter_value_list\": [\"The Lord of the Rings: The Fellowship of the Ring\", \"The Lord of the Rings: The Two Towers\"]}\n",
      "INFO:httpx:HTTP Request: POST https://api.openai.com/v1/embeddings \"HTTP/1.1 200 OK\"\n",
      "HTTP Request: POST https://api.openai.com/v1/embeddings \"HTTP/1.1 200 OK\"\n",
      "INFO:httpx:HTTP Request: POST https://api.openai.com/v1/chat/completions \"HTTP/1.1 200 OK\"\n",
      "HTTP Request: POST https://api.openai.com/v1/chat/completions \"HTTP/1.1 200 OK\"\n",
      "=== Function Output ===\n",
      "The movie is about the Dark Lord Sauron, who seeks the One Ring to return to power. The Ring has found its way to a young hobbit named Frodo Baggins. Frodo and eight companions form the Fellowship of the Ring and embark on a perilous journey to Mount Doom in Mordor, the only place where the Ring can be destroyed.\n",
      "=== Calling Function ===\n",
      "Calling function: sql-query with args: {\"input\": \"SELECT AVG(rating) as average_rating FROM \\\"The Lord of the Rings: The Fellowship of the Ring\\\"\"}\n",
      "INFO:llama_index.core.indices.struct_store.sql_retriever:> Table desc str: Table 'Dune (2021 film)' has columns: index (BIGINT), Unnamed: 0 (BIGINT), Review_Date (TEXT), Author (TEXT), Rating (FLOAT), Review_Title (TEXT), Review (TEXT), Review_Url (TEXT), and foreign keys: .\n",
      "\n",
      "Table 'Dune: Part Two' has columns: index (BIGINT), Unnamed: 0 (BIGINT), Review_Date (TEXT), Author (TEXT), Rating (FLOAT), Review_Title (TEXT), Review (TEXT), Review_Url (TEXT), and foreign keys: .\n",
      "\n",
      "Table 'The Lord of the Rings: The Fellowship of the Ring' has columns: index (BIGINT), Unnamed: 0 (BIGINT), Review_Date (TEXT), Author (TEXT), Rating (FLOAT), Review_Title (TEXT), Review (TEXT), Review_Url (TEXT), and foreign keys: .\n",
      "\n",
      "Table 'The Lord of the Rings: The Two Towers' has columns: index (BIGINT), Unnamed: 0 (BIGINT), Review_Date (TEXT), Author (TEXT), Rating (FLOAT), Review_Title (TEXT), Review (TEXT), Review_Url (TEXT), and foreign keys: .\n",
      "> Table desc str: Table 'Dune (2021 film)' has columns: index (BIGINT), Unnamed: 0 (BIGINT), Review_Date (TEXT), Author (TEXT), Rating (FLOAT), Review_Title (TEXT), Review (TEXT), Review_Url (TEXT), and foreign keys: .\n",
      "\n",
      "Table 'Dune: Part Two' has columns: index (BIGINT), Unnamed: 0 (BIGINT), Review_Date (TEXT), Author (TEXT), Rating (FLOAT), Review_Title (TEXT), Review (TEXT), Review_Url (TEXT), and foreign keys: .\n",
      "\n",
      "Table 'The Lord of the Rings: The Fellowship of the Ring' has columns: index (BIGINT), Unnamed: 0 (BIGINT), Review_Date (TEXT), Author (TEXT), Rating (FLOAT), Review_Title (TEXT), Review (TEXT), Review_Url (TEXT), and foreign keys: .\n",
      "\n",
      "Table 'The Lord of the Rings: The Two Towers' has columns: index (BIGINT), Unnamed: 0 (BIGINT), Review_Date (TEXT), Author (TEXT), Rating (FLOAT), Review_Title (TEXT), Review (TEXT), Review_Url (TEXT), and foreign keys: .\n",
      "INFO:httpx:HTTP Request: POST https://api.openai.com/v1/chat/completions \"HTTP/1.1 200 OK\"\n",
      "HTTP Request: POST https://api.openai.com/v1/chat/completions \"HTTP/1.1 200 OK\"\n",
      "INFO:httpx:HTTP Request: POST https://api.openai.com/v1/chat/completions \"HTTP/1.1 200 OK\"\n",
      "HTTP Request: POST https://api.openai.com/v1/chat/completions \"HTTP/1.1 200 OK\"\n",
      "=== Function Output ===\n",
      "The average rating for \"The Lord of the Rings: The Fellowship of the Ring\" is approximately 9.87.\n",
      "INFO:httpx:HTTP Request: POST https://api.openai.com/v1/chat/completions \"HTTP/1.1 200 OK\"\n",
      "HTTP Request: POST https://api.openai.com/v1/chat/completions \"HTTP/1.1 200 OK\"\n"
     ]
    },
    {
     "name": "stderr",
     "output_type": "stream",
     "text": [
      "\u001b[34m\u001b[1mwandb\u001b[0m: Logged trace tree to W&B.\n"
     ]
    },
    {
     "name": "stdout",
     "output_type": "stream",
     "text": [
      "=== LLM Response ===\n",
      "The movie about a ring is **\"The Lord of the Rings: The Fellowship of the Ring\"**. It tells the story of the Dark Lord Sauron, who seeks the One Ring to return to power. The Ring has found its way to a young hobbit named Frodo Baggins. Frodo and eight companions form the Fellowship of the Ring and embark on a perilous journey to Mount Doom in Mordor, the only place where the Ring can be destroyed.\n",
      "\n",
      "The average rating for **\"The Lord of the Rings: The Fellowship of the Ring\"** is approximately **9.87**.\n"
     ]
    }
   ],
   "source": [
    "response = combined_tool_agent.chat(\"Which movie is about a ring, and what is the average rating of the movie?\")\n"
   ]
  },
  {
   "cell_type": "code",
   "execution_count": 80,
   "metadata": {},
   "outputs": [
    {
     "name": "stdout",
     "output_type": "stream",
     "text": [
      "Added user message to memory: What worlds do the LoTR, and Dune movies take place in?\n",
      "INFO:httpx:HTTP Request: POST https://api.openai.com/v1/chat/completions \"HTTP/1.1 200 OK\"\n",
      "HTTP Request: POST https://api.openai.com/v1/chat/completions \"HTTP/1.1 200 OK\"\n",
      "=== Calling Function ===\n",
      "Calling function: semantic-film-info with args: {\"query\": \"world where the movie takes place\", \"filter_key_list\": [\"title\"], \"filter_value_list\": [\"The Lord of the Rings: The Fellowship of the Ring\", \"The Lord of the Rings: The Two Towers\"]}\n",
      "INFO:httpx:HTTP Request: POST https://api.openai.com/v1/embeddings \"HTTP/1.1 200 OK\"\n",
      "HTTP Request: POST https://api.openai.com/v1/embeddings \"HTTP/1.1 200 OK\"\n",
      "INFO:httpx:HTTP Request: POST https://api.openai.com/v1/chat/completions \"HTTP/1.1 200 OK\"\n",
      "HTTP Request: POST https://api.openai.com/v1/chat/completions \"HTTP/1.1 200 OK\"\n",
      "=== Function Output ===\n",
      "The movie takes place in the fictional world of Middle-earth.\n",
      "=== Calling Function ===\n",
      "Calling function: semantic-film-info with args: {\"query\": \"world where the movie takes place\", \"filter_key_list\": [\"title\"], \"filter_value_list\": [\"Dune (2021 film)\", \"Dune: Part Two\"]}\n",
      "INFO:httpx:HTTP Request: POST https://api.openai.com/v1/embeddings \"HTTP/1.1 200 OK\"\n",
      "HTTP Request: POST https://api.openai.com/v1/embeddings \"HTTP/1.1 200 OK\"\n",
      "INFO:httpx:HTTP Request: POST https://api.openai.com/v1/chat/completions \"HTTP/1.1 200 OK\"\n",
      "HTTP Request: POST https://api.openai.com/v1/chat/completions \"HTTP/1.1 200 OK\"\n",
      "=== Function Output ===\n",
      "The movie takes place in a distant future where humanity has spread across the universe and settled on various planets. The primary settings include the desert planet Arrakis, the oceanic planet Caladan, and the industrial planet Giedi Prime.\n",
      "INFO:httpx:HTTP Request: POST https://api.openai.com/v1/chat/completions \"HTTP/1.1 200 OK\"\n",
      "HTTP Request: POST https://api.openai.com/v1/chat/completions \"HTTP/1.1 200 OK\"\n"
     ]
    },
    {
     "name": "stderr",
     "output_type": "stream",
     "text": [
      "\u001b[34m\u001b[1mwandb\u001b[0m: Logged trace tree to W&B.\n"
     ]
    },
    {
     "name": "stdout",
     "output_type": "stream",
     "text": [
      "=== LLM Response ===\n",
      "The worlds where the movies take place are as follows:\n",
      "\n",
      "- **The Lord of the Rings: The Fellowship of the Ring** and **The Lord of the Rings: The Two Towers**: These movies take place in the fictional world of **Middle-earth**.\n",
      "\n",
      "- **Dune (2021 film)** and **Dune: Part Two**: These movies take place in a distant future where humanity has spread across the universe and settled on various planets. The primary settings include the desert planet **Arrakis**, the oceanic planet **Caladan**, and the industrial planet **Giedi Prime**.\n"
     ]
    }
   ],
   "source": [
    "response = combined_tool_agent.chat(\"What worlds do the LoTR, and Dune movies take place in?\")\n"
   ]
  },
  {
   "cell_type": "code",
   "execution_count": 85,
   "metadata": {},
   "outputs": [
    {
     "name": "stdout",
     "output_type": "stream",
     "text": [
      "Added user message to memory: Which of the following movie series is considered the 'best': Dune, or Lord of the Rings? Base your answer on both reviews, and non-review information.\n",
      "INFO:httpx:HTTP Request: POST https://api.openai.com/v1/chat/completions \"HTTP/1.1 200 OK\"\n",
      "HTTP Request: POST https://api.openai.com/v1/chat/completions \"HTTP/1.1 200 OK\"\n"
     ]
    },
    {
     "name": "stderr",
     "output_type": "stream",
     "text": [
      "\u001b[34m\u001b[1mwandb\u001b[0m: Logged trace tree to W&B.\n"
     ]
    },
    {
     "name": "stdout",
     "output_type": "stream",
     "text": [
      "=== LLM Response ===\n",
      "### Reviews-Based Comparison\n",
      "\n",
      "#### Average Ratings:\n",
      "- **Dune (2021 film)**: 8.34\n",
      "- **Dune: Part Two**: 8.71\n",
      "- **The Lord of the Rings: The Fellowship of the Ring**: 9.87\n",
      "- **The Lord of the Rings: The Two Towers**: 9.18\n",
      "\n",
      "### Non-Review Information\n",
      "\n",
      "#### Critical Acclaim and Awards:\n",
      "- **Dune (2021 film)**:\n",
      "  - Received generally positive critical acclaim.\n",
      "  - Praise for ambition, story, scope, worldbuilding, performances, and production values.\n",
      "  - Some criticism for being incomplete, dull, and mixed opinions on runtime, pacing, and adaptation.\n",
      "  - Rotten Tomatoes: 83% positive reviews, average rating 7.6/10.\n",
      "  - Metacritic: Weighted average score of 74/100.\n",
      "  - Audience responses: CinemaScore average grade \"A−\", PostTrak 84% positive score.\n",
      "\n",
      "- **The Lord of the Rings**:\n",
      "  - Both \"The Fellowship of the Ring\" and \"The Two Towers\" are highly acclaimed.\n",
      "  - Known for groundbreaking visual effects, storytelling, and faithful adaptation of J.R.R. Tolkien's work.\n",
      "  - Multiple Academy Awards and nominations, including Best Picture nominations.\n",
      "  - Widely regarded as one of the greatest film series of all time.\n",
      "\n",
      "### Conclusion\n",
      "Based on both reviews and non-review information, **\"The Lord of the Rings\"** series is considered the 'best' compared to the \"Dune\" series. It has higher average ratings, more critical acclaim, and a significant impact on the film industry.\n"
     ]
    }
   ],
   "source": [
    "response = combined_tool_agent.chat(\"Which of the following movie series is considered the 'best': Dune, or Lord of the Rings? Base your answer on both reviews, and non-review information.\")\n"
   ]
  },
  {
   "cell_type": "markdown",
   "metadata": {},
   "source": [
    "## ❓ Question #4:\n",
    "How can you verify which tool was used for which query?\n",
    "\n",
    "We can identify it from the logs. Logs has information like `=== Calling Function ===` which shows the details of the function called."
   ]
  },
  {
   "cell_type": "code",
   "execution_count": 82,
   "metadata": {},
   "outputs": [],
   "source": [
    "wandb_callback.finish()"
   ]
  }
 ],
 "metadata": {
  "kernelspec": {
   "display_name": "llmops-course",
   "language": "python",
   "name": "python3"
  },
  "language_info": {
   "codemirror_mode": {
    "name": "ipython",
    "version": 3
   },
   "file_extension": ".py",
   "mimetype": "text/x-python",
   "name": "python",
   "nbconvert_exporter": "python",
   "pygments_lexer": "ipython3",
   "version": "3.11.9"
  }
 },
 "nbformat": 4,
 "nbformat_minor": 2
}
